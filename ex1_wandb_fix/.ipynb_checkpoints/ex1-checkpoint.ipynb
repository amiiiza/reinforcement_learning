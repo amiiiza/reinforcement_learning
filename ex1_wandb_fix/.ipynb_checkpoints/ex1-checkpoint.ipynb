{
 "cells": [
  {
   "cell_type": "markdown",
   "id": "53274fb5",
   "metadata": {},
   "source": [
    "\n",
    "<div class=\"alert alert-block alert-info\">\n",
    "   <h2 align=\"center\"> <center><b> Reinforcement Learning Assignment 1 - The Reinforcement Learning Framework</b></center></h2>\n",
    "\n",
    "<br>\n",
    "<center><font size=\"3\">This notebook is a part of teaching material for ELEC-E8125</font></center>\n",
    "<center><font size=\"3\">Sep 4, 2023 - Nov 30, 2023</font></center>\n",
    "<center><font size=\"3\">Aalto University</font></center>\n",
    "</div>\n",
    "\n",
    "\n",
    "<a id='TOC'></a>\n",
    "\n",
    "<div class=\"alert alert-block alert-success\">\n",
    "    \n",
    "# Table of contents\n",
    "* <a href='#1.'> 1. Introduction </a>\n",
    "* <a href='#1.1'> 1.1 Learning Objectives </a>\n",
    "* <a href='#1.2'> 1.2 Code Structure & Files </a>\n",
    "* <a href='#2.'> 2. Cartpole</a>\n",
    "* <a href='#3.'> 3. Reacher</a>\n",
    "* <a href='#4.'> 4. Submitting </a>\n",
    "* <a href='#4.1'> 4.1 Feedback </a>\n",
    "* <a href='#5.'> References</a>\n",
    "\n",
    "<a href='#T1'><b>Student Task 1.</b> Training a Model for Simple Cartpole Environment (10 points)</a>\\\n",
    "<a href='#Q1'><b>Student Question 1.1</b> Learning (10 points)</a>\\\n",
    "<a href='#T2'><b>Student Task 2.</b> Investigating Training Performance (10 points) </a>\\\n",
    "<a href='#Q2'><b>Student Question 2.1</b> Analysis of Training Performance (15 points) </a>\\\n",
    "<a href='#Q3'><b>Student Question 2.2</b> Stochasticity (10 points) </a>\\\n",
    "<a href='#T3'><b>Student Task 3.</b> Reward Functions (20 points) </a>\\\n",
    "<a href='#T4'><b>Student Task 4.</b> Visualizing Behavior (10 points) </a>\\\n",
    "<a href='#Q4'><b>Student Question 4.1</b> Achieved Peformance (5 points)\\\n",
    "<a href='#Q5'><b>Student Question 4.2</b> Analysis of Behaviour (10 points)</a>\n",
    "    \n",
    "**Total Points:** 100"
   ]
  },
  {
   "cell_type": "markdown",
   "id": "44ab28e9",
   "metadata": {},
   "source": [
    "# 1. Introduction <a id='1.'></a>\n",
    "In this exercise we will take a first look at a reinforcement learning environment, its components and modify the reward function of a simple agent.\n",
    "\n",
    "In this notebook two environments are used: Cartpole and Reacher. The cartpole environment is taken from [OpenAI's Gym library](https://www.gymlibrary.dev/). The reacher environment is custom made (and defined in ```reacher.py```) but utilizes the Gym API.\n",
    "\n",
    "## 1.1 Learning Objectives: <a id='1.1'></a>\n",
    "- To become familiar with assignment structure and the agent-environment relationshp\n",
    "- To understand the effects of stochasticity\n",
    "- To understand and explore the effects of task definition\n",
    "\n",
    "## 1.2 Code Structure & Files <a id='1.2'></a>\n",
    "\n",
    "The ```train.py``` file instantiates the environment and the RL agent that acts in it. The ```agent.py``` file contains the implementation of a simple reinforcement learning agent; for the sake of this exercise, you can assume it to be a black box (you don’t need to understand how it works, although you are encouraged to study it in more detail). You don’t have to edit any other file other than ```ex1.ipynb``` to complete this exercise.\n",
    "```\n",
    "├───cfg                  # Config files for environments e.g. define the maximum number of steps in an episode.\n",
    "├───imgs                 # Images used in notebook\n",
    "├───results \n",
    "│   ├───logging          # Contains logged data\n",
    "│   ├───model            # Contains the policies learned\n",
    "│   └───video            # Contains videos for each environment\n",
    "│       └───CartPole-v0\n",
    "│       │  └───test      # Videos saved during testing\n",
    "│       │  └───train     # Videos saved during training\n",
    "│       └───SpinningReacher-v0\n",
    "│           └───test\n",
    "│           └───train\n",
    "│   ex1.ipynb            # Main assignment file containing tasks <---------\n",
    "│   feedback.ipynb       # Please give feedback in here\n",
    "│   README.ipynb         # This file\n",
    "│   agent.py             # Contains functions that govern the policy\n",
    "│   reacher.py           # Defines the reacher environment\n",
    "│   train.py             # Contains training and testing functions\n",
    "│   utils.py             # Contains useful functions \n",
    "```"
   ]
  },
  {
   "cell_type": "markdown",
   "id": "100c1cfb",
   "metadata": {},
   "source": [
    "Please consult ```README.md``` for more details the assignments."
   ]
  },
  {
   "cell_type": "code",
   "execution_count": 1,
   "id": "c8cb8a88",
   "metadata": {
    "tags": []
   },
   "outputs": [],
   "source": [
    "from pathlib import Path # to find directory\n",
    "work_dir = Path().cwd()/'results'\n",
    "import os\n",
    "\n",
    "import train as t # for training\n",
    "import utils as u # helper functions\n",
    "\n",
    "import numpy as np # The numpy library can be used for math functions\n",
    "import torch # Used to manage policy and learning\n",
    "from IPython.display import Video, display, HTML # to display videos"
   ]
  },
  {
   "cell_type": "markdown",
   "id": "f5e36a57",
   "metadata": {},
   "source": [
    "# 2. Cartpole <a id='2.'></a>\n",
    "\n",
    "The Cartpole environment consists of a cart and a pole mounted on top of it, as shown in Figure 1. The cart can move either to the left or to the right. The goal is to balance the pole in a vertical position in order to prevent it from falling down. The cart should also stay within limited distance from the center (trying to move outside screen boundaries is considered a failure).\n",
    "\n",
    "<figure>\n",
    "<img src=\"imgs/cartpole.png\" width=\"400px\">\n",
    "<figcaption style=\"text-align: center\"> Figure 1: The Cartpole environment  </figcaption>\n",
    "</figure>\n",
    "\n",
    "The state and the observation are four element vectors:\n",
    "\n",
    "$$\n",
    "o=s=\\left(\\begin{array}{c}\n",
    "x \\\\\n",
    "\\dot{x} \\\\\n",
    "\\theta \\\\\n",
    "\\dot{\\theta}\n",
    "\\end{array}\\right) \\text {, }\n",
    "$$\n",
    "\n",
    "where $x$ is the position of the cart, $\\dot{x}$ is its velocity, $\\theta$ is the angle of the pole w.r.t. the vertical axis, and $\\dot{\\theta}$ is the angular velocity of the pole.\n",
    "\n",
    "In the standard formulation, a reward of 1 is given for every timestep the pole remains balanced. Upon failing (the pole falls) or completing the task, an episode is finished.\n",
    "\n",
    "The training script will record videos of the agent’s learning progress during training, and the recorded videos are saved to ```results/video/CartPole-v0/train```. By default, the training information is saved to ```results/logging/CartPole-v0_{seed}.csv```. When the training is finished, the models are saved to ```results/model/Cartpole-v0_params.pt```. The models can be tested by setting ```testing=true``` in ```cfg_args```, and if the models are saved to a different path, you can use ```model_path=<YOUR MODEL PATH>``` to indicate it. Videos of the agent’s behaviour during testing are saved to ```results/video/CartPole-v0/test```."
   ]
  },
  {
   "cell_type": "markdown",
   "id": "6d5bb7ba",
   "metadata": {
    "tags": []
   },
   "source": [
    "<a id='T1'></a>\n",
    "<div class=\" alert alert-warning\">\n",
    "    <h3><b>Student Task 1.</b> Training a Model for Simple Cartpole Environment (10 points) </h3> \n",
    "\n",
    "This task requires you to train a model for the cartpole environment with 100 timesteps per episode and then report the training plot using 'Weights \\& Biases'. Then test the model for 1000 timesteps and report average reward. To do this, you can simply run the code in the cells below. \n",
    "\n",
    "To see a full list of options that can be passed through ```cfg_args``` consult the configuation file found in ```cfg/```.\n",
    "\n",
    "- **1st** Run training over 100 steps per episode by using ```t.train``` function. See the cell below. \n",
    "- **2nd:** Export the training plot ```episodesep_reward``` from logged data (.csv format).\n",
    "- **3rd:** Run testing over 500 steps by using ```t.test``` function. See the cell below. See the cell below. Notice ```max_episode_steps``` parameter. \n",
    "- **4th:** Report the average reward after testing the model.\n",
    "    \n",
    "🔝\t<a href='#TOC'><b>Table of Contents</b></a>\n",
    "</div>\n"
   ]
  },
  {
   "cell_type": "code",
   "execution_count": 2,
   "id": "e0481176",
   "metadata": {
    "tags": []
   },
   "outputs": [
    {
     "name": "stdout",
     "output_type": "stream",
     "text": [
      "Numpy/Torch/Random Seed:  1\n",
      "Configuration Settings: {'exp_name': 'ex1', 'seed': 1, 'env_name': 'CartPole-v1', 'max_episode_steps': 100, 'train_episodes': 500, 'batch_size': 64, 'min_update_samples': 2000, 'testing': False, 'model_path': 'default', 'save_video': True, 'save_model': True, 'save_logging': True, 'silent': False, 'use_wandb': True, 'run_suffix': 0}\n",
      "Training device: cpu\n",
      "Observation space dimensions: 4\n",
      "Action space dimensions: 2\n",
      "\n"
     ]
    },
    {
     "name": "stderr",
     "output_type": "stream",
     "text": [
      "/opt/software/lib/python3.10/site-packages/gymnasium/wrappers/record_video.py:94: UserWarning: \u001b[33mWARN: Overwriting existing videos at /notebooks/rl2023/ex1_wandb_fix/results/video/CartPole-v1/train folder (try specifying a different `video_folder` for the `RecordVideo` wrapper if this is not desired)\u001b[0m\n",
      "  logger.warn(\n",
      "error: XDG_RUNTIME_DIR not set in the environment.\n"
     ]
    },
    {
     "name": "stdout",
     "output_type": "stream",
     "text": [
      "Episode 0 finished. Total reward: 28.0 (28 timesteps)\n",
      "Episode 1 finished. Total reward: 34.0 (34 timesteps)\n",
      "Episode 2 finished. Total reward: 17.0 (17 timesteps)\n",
      "Episode 3 finished. Total reward: 11.0 (11 timesteps)\n",
      "Episode 4 finished. Total reward: 34.0 (34 timesteps)\n",
      "Episode 5 finished. Total reward: 18.0 (18 timesteps)\n",
      "Episode 6 finished. Total reward: 76.0 (76 timesteps)\n",
      "Episode 7 finished. Total reward: 12.0 (12 timesteps)\n",
      "Episode 8 finished. Total reward: 10.0 (10 timesteps)\n",
      "Episode 9 finished. Total reward: 41.0 (41 timesteps)\n",
      "Episode 10 finished. Total reward: 33.0 (33 timesteps)\n",
      "Episode 11 finished. Total reward: 20.0 (20 timesteps)\n",
      "Episode 12 finished. Total reward: 29.0 (29 timesteps)\n",
      "Episode 13 finished. Total reward: 11.0 (11 timesteps)\n",
      "Episode 14 finished. Total reward: 15.0 (15 timesteps)\n",
      "Episode 15 finished. Total reward: 14.0 (14 timesteps)\n",
      "Episode 16 finished. Total reward: 11.0 (11 timesteps)\n",
      "Episode 17 finished. Total reward: 14.0 (14 timesteps)\n",
      "Episode 18 finished. Total reward: 28.0 (28 timesteps)\n",
      "Episode 19 finished. Total reward: 15.0 (15 timesteps)\n",
      "Episode 20 finished. Total reward: 10.0 (10 timesteps)\n",
      "Episode 21 finished. Total reward: 17.0 (17 timesteps)\n",
      "Episode 22 finished. Total reward: 17.0 (17 timesteps)\n",
      "Episode 23 finished. Total reward: 44.0 (44 timesteps)\n",
      "Episode 24 finished. Total reward: 17.0 (17 timesteps)\n",
      "Episode 25 finished. Total reward: 17.0 (17 timesteps)\n",
      "Episode 26 finished. Total reward: 15.0 (15 timesteps)\n",
      "Episode 27 finished. Total reward: 23.0 (23 timesteps)\n",
      "Episode 28 finished. Total reward: 15.0 (15 timesteps)\n",
      "Episode 29 finished. Total reward: 17.0 (17 timesteps)\n",
      "Episode 30 finished. Total reward: 10.0 (10 timesteps)\n",
      "Episode 31 finished. Total reward: 31.0 (31 timesteps)\n",
      "Episode 32 finished. Total reward: 12.0 (12 timesteps)\n",
      "Episode 33 finished. Total reward: 14.0 (14 timesteps)\n",
      "Episode 34 finished. Total reward: 10.0 (10 timesteps)\n",
      "Episode 35 finished. Total reward: 11.0 (11 timesteps)\n",
      "Episode 36 finished. Total reward: 35.0 (35 timesteps)\n",
      "Episode 37 finished. Total reward: 19.0 (19 timesteps)\n",
      "Episode 38 finished. Total reward: 12.0 (12 timesteps)\n",
      "Episode 39 finished. Total reward: 9.0 (9 timesteps)\n",
      "Episode 40 finished. Total reward: 12.0 (12 timesteps)\n",
      "Episode 41 finished. Total reward: 14.0 (14 timesteps)\n",
      "Episode 42 finished. Total reward: 14.0 (14 timesteps)\n",
      "Episode 43 finished. Total reward: 20.0 (20 timesteps)\n",
      "Episode 44 finished. Total reward: 46.0 (46 timesteps)\n",
      "Episode 45 finished. Total reward: 25.0 (25 timesteps)\n",
      "Episode 46 finished. Total reward: 14.0 (14 timesteps)\n",
      "Episode 47 finished. Total reward: 13.0 (13 timesteps)\n",
      "Episode 48 finished. Total reward: 18.0 (18 timesteps)\n",
      "Episode 49 finished. Total reward: 17.0 (17 timesteps)\n",
      "Episode 50 finished. Total reward: 21.0 (21 timesteps)\n",
      "Episode 51 finished. Total reward: 23.0 (23 timesteps)\n",
      "Episode 52 finished. Total reward: 15.0 (15 timesteps)\n",
      "Episode 53 finished. Total reward: 62.0 (62 timesteps)\n",
      "Episode 54 finished. Total reward: 18.0 (18 timesteps)\n",
      "Episode 55 finished. Total reward: 21.0 (21 timesteps)\n",
      "Episode 56 finished. Total reward: 25.0 (25 timesteps)\n",
      "Episode 57 finished. Total reward: 14.0 (14 timesteps)\n",
      "Episode 58 finished. Total reward: 14.0 (14 timesteps)\n",
      "Episode 59 finished. Total reward: 25.0 (25 timesteps)\n",
      "Episode 60 finished. Total reward: 14.0 (14 timesteps)\n",
      "Episode 61 finished. Total reward: 19.0 (19 timesteps)\n",
      "Episode 62 finished. Total reward: 13.0 (13 timesteps)\n",
      "Episode 63 finished. Total reward: 11.0 (11 timesteps)\n",
      "Episode 64 finished. Total reward: 24.0 (24 timesteps)\n",
      "Episode 65 finished. Total reward: 21.0 (21 timesteps)\n",
      "Episode 66 finished. Total reward: 31.0 (31 timesteps)\n",
      "Episode 67 finished. Total reward: 83.0 (83 timesteps)\n",
      "Episode 68 finished. Total reward: 12.0 (12 timesteps)\n",
      "Episode 69 finished. Total reward: 17.0 (17 timesteps)\n",
      "Episode 70 finished. Total reward: 49.0 (49 timesteps)\n",
      "Episode 71 finished. Total reward: 18.0 (18 timesteps)\n",
      "Episode 72 finished. Total reward: 22.0 (22 timesteps)\n",
      "Episode 73 finished. Total reward: 23.0 (23 timesteps)\n",
      "Episode 74 finished. Total reward: 30.0 (30 timesteps)\n",
      "Episode 75 finished. Total reward: 15.0 (15 timesteps)\n",
      "Episode 76 finished. Total reward: 22.0 (22 timesteps)\n",
      "Episode 77 finished. Total reward: 55.0 (55 timesteps)\n",
      "Episode 78 finished. Total reward: 15.0 (15 timesteps)\n",
      "Episode 79 finished. Total reward: 12.0 (12 timesteps)\n",
      "Episode 80 finished. Total reward: 37.0 (37 timesteps)\n",
      "Episode 81 finished. Total reward: 9.0 (9 timesteps)\n",
      "Episode 82 finished. Total reward: 13.0 (13 timesteps)\n",
      "Episode 83 finished. Total reward: 16.0 (16 timesteps)\n",
      "Episode 84 finished. Total reward: 10.0 (10 timesteps)\n",
      "Episode 85 finished. Total reward: 27.0 (27 timesteps)\n",
      "Episode 86 finished. Total reward: 14.0 (14 timesteps)\n",
      "Episode 87 finished. Total reward: 20.0 (20 timesteps)\n",
      "Episode 88 finished. Total reward: 29.0 (29 timesteps)\n",
      "Episode 89 finished. Total reward: 9.0 (9 timesteps)\n",
      "Episode 90 finished. Total reward: 13.0 (13 timesteps)\n",
      "Episode 91 finished. Total reward: 13.0 (13 timesteps)\n",
      "Episode 92 finished. Total reward: 19.0 (19 timesteps)\n",
      "Updating the policy...\n",
      "Updating finished!\n",
      "Episode 93 finished. Total reward: 50.0 (50 timesteps)\n",
      "Episode 94 finished. Total reward: 24.0 (24 timesteps)\n",
      "Episode 95 finished. Total reward: 38.0 (38 timesteps)\n",
      "Episode 96 finished. Total reward: 19.0 (19 timesteps)\n",
      "Episode 97 finished. Total reward: 13.0 (13 timesteps)\n",
      "Episode 98 finished. Total reward: 20.0 (20 timesteps)\n",
      "Episode 99 finished. Total reward: 14.0 (14 timesteps)\n",
      "Episode 100 finished. Total reward: 50.0 (50 timesteps)\n",
      "Episode 101 finished. Total reward: 20.0 (20 timesteps)\n",
      "Episode 102 finished. Total reward: 49.0 (49 timesteps)\n",
      "Episode 103 finished. Total reward: 32.0 (32 timesteps)\n",
      "Episode 104 finished. Total reward: 21.0 (21 timesteps)\n",
      "Episode 105 finished. Total reward: 10.0 (10 timesteps)\n",
      "Episode 106 finished. Total reward: 26.0 (26 timesteps)\n",
      "Episode 107 finished. Total reward: 16.0 (16 timesteps)\n",
      "Episode 108 finished. Total reward: 12.0 (12 timesteps)\n",
      "Episode 109 finished. Total reward: 23.0 (23 timesteps)\n",
      "Episode 110 finished. Total reward: 23.0 (23 timesteps)\n",
      "Episode 111 finished. Total reward: 18.0 (18 timesteps)\n",
      "Episode 112 finished. Total reward: 50.0 (50 timesteps)\n",
      "Episode 113 finished. Total reward: 13.0 (13 timesteps)\n",
      "Episode 114 finished. Total reward: 56.0 (56 timesteps)\n",
      "Episode 115 finished. Total reward: 13.0 (13 timesteps)\n",
      "Episode 116 finished. Total reward: 96.0 (96 timesteps)\n",
      "Episode 117 finished. Total reward: 28.0 (28 timesteps)\n",
      "Episode 118 finished. Total reward: 60.0 (60 timesteps)\n",
      "Episode 119 finished. Total reward: 46.0 (46 timesteps)\n",
      "Episode 120 finished. Total reward: 23.0 (23 timesteps)\n",
      "Episode 121 finished. Total reward: 26.0 (26 timesteps)\n",
      "Episode 122 finished. Total reward: 26.0 (26 timesteps)\n",
      "Episode 123 finished. Total reward: 57.0 (57 timesteps)\n",
      "Episode 124 finished. Total reward: 20.0 (20 timesteps)\n",
      "Episode 125 finished. Total reward: 15.0 (15 timesteps)\n",
      "Episode 126 finished. Total reward: 18.0 (18 timesteps)\n",
      "Episode 127 finished. Total reward: 25.0 (25 timesteps)\n",
      "Episode 128 finished. Total reward: 30.0 (30 timesteps)\n",
      "Episode 129 finished. Total reward: 46.0 (46 timesteps)\n",
      "Episode 130 finished. Total reward: 20.0 (20 timesteps)\n",
      "Episode 131 finished. Total reward: 64.0 (64 timesteps)\n",
      "Episode 132 finished. Total reward: 42.0 (42 timesteps)\n",
      "Episode 133 finished. Total reward: 19.0 (19 timesteps)\n",
      "Episode 134 finished. Total reward: 28.0 (28 timesteps)\n",
      "Episode 135 finished. Total reward: 28.0 (28 timesteps)\n",
      "Episode 136 finished. Total reward: 40.0 (40 timesteps)\n",
      "Episode 137 finished. Total reward: 23.0 (23 timesteps)\n",
      "Episode 138 finished. Total reward: 15.0 (15 timesteps)\n",
      "Episode 139 finished. Total reward: 22.0 (22 timesteps)\n",
      "Episode 140 finished. Total reward: 42.0 (42 timesteps)\n",
      "Episode 141 finished. Total reward: 40.0 (40 timesteps)\n",
      "Episode 142 finished. Total reward: 34.0 (34 timesteps)\n",
      "Episode 143 finished. Total reward: 64.0 (64 timesteps)\n",
      "Episode 144 finished. Total reward: 14.0 (14 timesteps)\n",
      "Episode 145 finished. Total reward: 32.0 (32 timesteps)\n",
      "Episode 146 finished. Total reward: 21.0 (21 timesteps)\n",
      "Episode 147 finished. Total reward: 17.0 (17 timesteps)\n",
      "Episode 148 finished. Total reward: 24.0 (24 timesteps)\n",
      "Episode 149 finished. Total reward: 9.0 (9 timesteps)\n",
      "Episode 150 finished. Total reward: 100.0 (100 timesteps)\n",
      "Episode 151 finished. Total reward: 54.0 (54 timesteps)\n",
      "Episode 152 finished. Total reward: 14.0 (14 timesteps)\n",
      "Episode 153 finished. Total reward: 26.0 (26 timesteps)\n",
      "Episode 154 finished. Total reward: 72.0 (72 timesteps)\n",
      "Episode 155 finished. Total reward: 10.0 (10 timesteps)\n",
      "Updating the policy...\n",
      "Updating finished!\n",
      "Episode 156 finished. Total reward: 57.0 (57 timesteps)\n",
      "Episode 157 finished. Total reward: 16.0 (16 timesteps)\n",
      "Episode 158 finished. Total reward: 30.0 (30 timesteps)\n",
      "Episode 159 finished. Total reward: 35.0 (35 timesteps)\n",
      "Episode 160 finished. Total reward: 23.0 (23 timesteps)\n",
      "Episode 161 finished. Total reward: 41.0 (41 timesteps)\n",
      "Episode 162 finished. Total reward: 64.0 (64 timesteps)\n",
      "Episode 163 finished. Total reward: 18.0 (18 timesteps)\n",
      "Episode 164 finished. Total reward: 14.0 (14 timesteps)\n",
      "Episode 165 finished. Total reward: 22.0 (22 timesteps)\n",
      "Episode 166 finished. Total reward: 32.0 (32 timesteps)\n",
      "Episode 167 finished. Total reward: 100.0 (100 timesteps)\n",
      "Episode 168 finished. Total reward: 47.0 (47 timesteps)\n",
      "Episode 169 finished. Total reward: 12.0 (12 timesteps)\n",
      "Episode 170 finished. Total reward: 31.0 (31 timesteps)\n",
      "Episode 171 finished. Total reward: 25.0 (25 timesteps)\n",
      "Episode 172 finished. Total reward: 17.0 (17 timesteps)\n",
      "Episode 173 finished. Total reward: 100.0 (100 timesteps)\n",
      "Episode 174 finished. Total reward: 24.0 (24 timesteps)\n",
      "Episode 175 finished. Total reward: 13.0 (13 timesteps)\n",
      "Episode 176 finished. Total reward: 48.0 (48 timesteps)\n",
      "Episode 177 finished. Total reward: 21.0 (21 timesteps)\n",
      "Episode 178 finished. Total reward: 42.0 (42 timesteps)\n",
      "Episode 179 finished. Total reward: 39.0 (39 timesteps)\n",
      "Episode 180 finished. Total reward: 15.0 (15 timesteps)\n",
      "Episode 181 finished. Total reward: 25.0 (25 timesteps)\n",
      "Episode 182 finished. Total reward: 52.0 (52 timesteps)\n",
      "Episode 183 finished. Total reward: 27.0 (27 timesteps)\n",
      "Episode 184 finished. Total reward: 100.0 (100 timesteps)\n",
      "Episode 185 finished. Total reward: 36.0 (36 timesteps)\n",
      "Episode 186 finished. Total reward: 83.0 (83 timesteps)\n",
      "Episode 187 finished. Total reward: 74.0 (74 timesteps)\n",
      "Episode 188 finished. Total reward: 13.0 (13 timesteps)\n",
      "Episode 189 finished. Total reward: 33.0 (33 timesteps)\n",
      "Episode 190 finished. Total reward: 100.0 (100 timesteps)\n",
      "Episode 191 finished. Total reward: 10.0 (10 timesteps)\n",
      "Episode 192 finished. Total reward: 31.0 (31 timesteps)\n",
      "Episode 193 finished. Total reward: 100.0 (100 timesteps)\n",
      "Episode 194 finished. Total reward: 43.0 (43 timesteps)\n",
      "Episode 195 finished. Total reward: 74.0 (74 timesteps)\n",
      "Episode 196 finished. Total reward: 19.0 (19 timesteps)\n",
      "Episode 197 finished. Total reward: 13.0 (13 timesteps)\n",
      "Episode 198 finished. Total reward: 16.0 (16 timesteps)\n",
      "Episode 199 finished. Total reward: 100.0 (100 timesteps)\n",
      "Episode 200 finished. Total reward: 46.0 (46 timesteps)\n",
      "Episode 201 finished. Total reward: 33.0 (33 timesteps)\n",
      "Episode 202 finished. Total reward: 51.0 (51 timesteps)\n",
      "Episode 203 finished. Total reward: 16.0 (16 timesteps)\n",
      "Updating the policy...\n",
      "Updating finished!\n",
      "Episode 204 finished. Total reward: 90.0 (90 timesteps)\n",
      "Episode 205 finished. Total reward: 100.0 (100 timesteps)\n",
      "Episode 206 finished. Total reward: 18.0 (18 timesteps)\n",
      "Episode 207 finished. Total reward: 48.0 (48 timesteps)\n",
      "Episode 208 finished. Total reward: 31.0 (31 timesteps)\n",
      "Episode 209 finished. Total reward: 63.0 (63 timesteps)\n",
      "Episode 210 finished. Total reward: 19.0 (19 timesteps)\n",
      "Episode 211 finished. Total reward: 32.0 (32 timesteps)\n",
      "Episode 212 finished. Total reward: 100.0 (100 timesteps)\n",
      "Episode 213 finished. Total reward: 100.0 (100 timesteps)\n",
      "Episode 214 finished. Total reward: 61.0 (61 timesteps)\n",
      "Episode 215 finished. Total reward: 100.0 (100 timesteps)\n",
      "Episode 216 finished. Total reward: 17.0 (17 timesteps)\n",
      "Episode 217 finished. Total reward: 84.0 (84 timesteps)\n",
      "Episode 218 finished. Total reward: 100.0 (100 timesteps)\n",
      "Episode 219 finished. Total reward: 100.0 (100 timesteps)\n",
      "Episode 220 finished. Total reward: 98.0 (98 timesteps)\n",
      "Episode 221 finished. Total reward: 100.0 (100 timesteps)\n",
      "Episode 222 finished. Total reward: 100.0 (100 timesteps)\n",
      "Episode 223 finished. Total reward: 22.0 (22 timesteps)\n",
      "Episode 224 finished. Total reward: 99.0 (99 timesteps)\n",
      "Episode 225 finished. Total reward: 100.0 (100 timesteps)\n",
      "Episode 226 finished. Total reward: 46.0 (46 timesteps)\n",
      "Episode 227 finished. Total reward: 74.0 (74 timesteps)\n",
      "Episode 228 finished. Total reward: 100.0 (100 timesteps)\n",
      "Episode 229 finished. Total reward: 59.0 (59 timesteps)\n",
      "Episode 230 finished. Total reward: 100.0 (100 timesteps)\n",
      "Updating the policy...\n",
      "Updating finished!\n",
      "Episode 231 finished. Total reward: 100.0 (100 timesteps)\n",
      "Episode 232 finished. Total reward: 100.0 (100 timesteps)\n",
      "Episode 233 finished. Total reward: 100.0 (100 timesteps)\n",
      "Episode 234 finished. Total reward: 100.0 (100 timesteps)\n",
      "Episode 235 finished. Total reward: 100.0 (100 timesteps)\n",
      "Episode 236 finished. Total reward: 100.0 (100 timesteps)\n",
      "Episode 237 finished. Total reward: 36.0 (36 timesteps)\n",
      "Episode 238 finished. Total reward: 100.0 (100 timesteps)\n",
      "Episode 239 finished. Total reward: 100.0 (100 timesteps)\n",
      "Episode 240 finished. Total reward: 100.0 (100 timesteps)\n",
      "Episode 241 finished. Total reward: 100.0 (100 timesteps)\n",
      "Episode 242 finished. Total reward: 100.0 (100 timesteps)\n",
      "Episode 243 finished. Total reward: 100.0 (100 timesteps)\n",
      "Episode 244 finished. Total reward: 52.0 (52 timesteps)\n",
      "Episode 245 finished. Total reward: 100.0 (100 timesteps)\n",
      "Episode 246 finished. Total reward: 14.0 (14 timesteps)\n",
      "Episode 247 finished. Total reward: 55.0 (55 timesteps)\n",
      "Episode 248 finished. Total reward: 100.0 (100 timesteps)\n",
      "Episode 249 finished. Total reward: 100.0 (100 timesteps)\n",
      "Episode 250 finished. Total reward: 100.0 (100 timesteps)\n",
      "Episode 251 finished. Total reward: 52.0 (52 timesteps)\n",
      "Episode 252 finished. Total reward: 100.0 (100 timesteps)\n",
      "Episode 253 finished. Total reward: 100.0 (100 timesteps)\n",
      "Updating the policy...\n",
      "Updating finished!\n",
      "Episode 254 finished. Total reward: 100.0 (100 timesteps)\n",
      "Episode 255 finished. Total reward: 100.0 (100 timesteps)\n",
      "Episode 256 finished. Total reward: 100.0 (100 timesteps)\n",
      "Episode 257 finished. Total reward: 100.0 (100 timesteps)\n",
      "Episode 258 finished. Total reward: 54.0 (54 timesteps)\n",
      "Episode 259 finished. Total reward: 100.0 (100 timesteps)\n",
      "Episode 260 finished. Total reward: 100.0 (100 timesteps)\n",
      "Episode 261 finished. Total reward: 100.0 (100 timesteps)\n",
      "Episode 262 finished. Total reward: 100.0 (100 timesteps)\n",
      "Episode 263 finished. Total reward: 100.0 (100 timesteps)\n",
      "Episode 264 finished. Total reward: 100.0 (100 timesteps)\n",
      "Episode 265 finished. Total reward: 100.0 (100 timesteps)\n",
      "Episode 266 finished. Total reward: 100.0 (100 timesteps)\n",
      "Episode 267 finished. Total reward: 100.0 (100 timesteps)\n",
      "Episode 268 finished. Total reward: 100.0 (100 timesteps)\n",
      "Episode 269 finished. Total reward: 100.0 (100 timesteps)\n",
      "Episode 270 finished. Total reward: 20.0 (20 timesteps)\n",
      "Episode 271 finished. Total reward: 100.0 (100 timesteps)\n",
      "Episode 272 finished. Total reward: 19.0 (19 timesteps)\n",
      "Episode 273 finished. Total reward: 100.0 (100 timesteps)\n",
      "Episode 274 finished. Total reward: 100.0 (100 timesteps)\n",
      "Episode 275 finished. Total reward: 100.0 (100 timesteps)\n",
      "Updating the policy...\n",
      "Updating finished!\n",
      "Episode 276 finished. Total reward: 95.0 (95 timesteps)\n",
      "Episode 277 finished. Total reward: 100.0 (100 timesteps)\n",
      "Episode 278 finished. Total reward: 100.0 (100 timesteps)\n",
      "Episode 279 finished. Total reward: 100.0 (100 timesteps)\n",
      "Episode 280 finished. Total reward: 100.0 (100 timesteps)\n",
      "Episode 281 finished. Total reward: 100.0 (100 timesteps)\n",
      "Episode 282 finished. Total reward: 91.0 (91 timesteps)\n",
      "Episode 283 finished. Total reward: 100.0 (100 timesteps)\n",
      "Episode 284 finished. Total reward: 79.0 (79 timesteps)\n",
      "Episode 285 finished. Total reward: 100.0 (100 timesteps)\n",
      "Episode 286 finished. Total reward: 100.0 (100 timesteps)\n",
      "Episode 287 finished. Total reward: 100.0 (100 timesteps)\n",
      "Episode 288 finished. Total reward: 100.0 (100 timesteps)\n",
      "Episode 289 finished. Total reward: 100.0 (100 timesteps)\n",
      "Episode 290 finished. Total reward: 100.0 (100 timesteps)\n",
      "Episode 291 finished. Total reward: 100.0 (100 timesteps)\n",
      "Episode 292 finished. Total reward: 100.0 (100 timesteps)\n",
      "Episode 293 finished. Total reward: 90.0 (90 timesteps)\n",
      "Episode 294 finished. Total reward: 100.0 (100 timesteps)\n",
      "Episode 295 finished. Total reward: 100.0 (100 timesteps)\n",
      "Episode 296 finished. Total reward: 100.0 (100 timesteps)\n",
      "Updating the policy...\n",
      "Updating finished!\n",
      "Episode 297 finished. Total reward: 100.0 (100 timesteps)\n",
      "Episode 298 finished. Total reward: 100.0 (100 timesteps)\n",
      "Episode 299 finished. Total reward: 100.0 (100 timesteps)\n",
      "Episode 300 finished. Total reward: 100.0 (100 timesteps)\n",
      "Episode 301 finished. Total reward: 68.0 (68 timesteps)\n",
      "Episode 302 finished. Total reward: 100.0 (100 timesteps)\n",
      "Episode 303 finished. Total reward: 100.0 (100 timesteps)\n",
      "Episode 304 finished. Total reward: 100.0 (100 timesteps)\n",
      "Episode 305 finished. Total reward: 100.0 (100 timesteps)\n",
      "Episode 306 finished. Total reward: 100.0 (100 timesteps)\n",
      "Episode 307 finished. Total reward: 100.0 (100 timesteps)\n",
      "Episode 308 finished. Total reward: 100.0 (100 timesteps)\n",
      "Episode 309 finished. Total reward: 100.0 (100 timesteps)\n",
      "Episode 310 finished. Total reward: 100.0 (100 timesteps)\n",
      "Episode 311 finished. Total reward: 100.0 (100 timesteps)\n",
      "Episode 312 finished. Total reward: 100.0 (100 timesteps)\n",
      "Episode 313 finished. Total reward: 100.0 (100 timesteps)\n",
      "Episode 314 finished. Total reward: 100.0 (100 timesteps)\n",
      "Episode 315 finished. Total reward: 100.0 (100 timesteps)\n",
      "Episode 316 finished. Total reward: 100.0 (100 timesteps)\n",
      "Updating the policy...\n",
      "Updating finished!\n",
      "Episode 317 finished. Total reward: 100.0 (100 timesteps)\n",
      "Episode 318 finished. Total reward: 100.0 (100 timesteps)\n",
      "Episode 319 finished. Total reward: 100.0 (100 timesteps)\n",
      "Episode 320 finished. Total reward: 100.0 (100 timesteps)\n",
      "Episode 321 finished. Total reward: 100.0 (100 timesteps)\n",
      "Episode 322 finished. Total reward: 100.0 (100 timesteps)\n",
      "Episode 323 finished. Total reward: 100.0 (100 timesteps)\n",
      "Episode 324 finished. Total reward: 100.0 (100 timesteps)\n",
      "Episode 325 finished. Total reward: 100.0 (100 timesteps)\n",
      "Episode 326 finished. Total reward: 100.0 (100 timesteps)\n",
      "Episode 327 finished. Total reward: 100.0 (100 timesteps)\n",
      "Episode 328 finished. Total reward: 100.0 (100 timesteps)\n",
      "Episode 329 finished. Total reward: 100.0 (100 timesteps)\n",
      "Episode 330 finished. Total reward: 100.0 (100 timesteps)\n",
      "Episode 331 finished. Total reward: 100.0 (100 timesteps)\n",
      "Episode 332 finished. Total reward: 100.0 (100 timesteps)\n",
      "Episode 333 finished. Total reward: 100.0 (100 timesteps)\n",
      "Episode 334 finished. Total reward: 100.0 (100 timesteps)\n",
      "Episode 335 finished. Total reward: 100.0 (100 timesteps)\n",
      "Episode 336 finished. Total reward: 100.0 (100 timesteps)\n",
      "Updating the policy...\n",
      "Updating finished!\n",
      "Episode 337 finished. Total reward: 100.0 (100 timesteps)\n",
      "Episode 338 finished. Total reward: 100.0 (100 timesteps)\n",
      "Episode 339 finished. Total reward: 100.0 (100 timesteps)\n",
      "Episode 340 finished. Total reward: 100.0 (100 timesteps)\n",
      "Episode 341 finished. Total reward: 100.0 (100 timesteps)\n",
      "Episode 342 finished. Total reward: 100.0 (100 timesteps)\n",
      "Episode 343 finished. Total reward: 100.0 (100 timesteps)\n",
      "Episode 344 finished. Total reward: 84.0 (84 timesteps)\n",
      "Episode 345 finished. Total reward: 100.0 (100 timesteps)\n",
      "Episode 346 finished. Total reward: 100.0 (100 timesteps)\n",
      "Episode 347 finished. Total reward: 100.0 (100 timesteps)\n",
      "Episode 348 finished. Total reward: 17.0 (17 timesteps)\n",
      "Episode 349 finished. Total reward: 100.0 (100 timesteps)\n",
      "Episode 350 finished. Total reward: 100.0 (100 timesteps)\n",
      "Episode 351 finished. Total reward: 100.0 (100 timesteps)\n",
      "Episode 352 finished. Total reward: 100.0 (100 timesteps)\n",
      "Episode 353 finished. Total reward: 100.0 (100 timesteps)\n",
      "Episode 354 finished. Total reward: 100.0 (100 timesteps)\n",
      "Episode 355 finished. Total reward: 100.0 (100 timesteps)\n",
      "Episode 356 finished. Total reward: 100.0 (100 timesteps)\n",
      "Episode 357 finished. Total reward: 100.0 (100 timesteps)\n",
      "Updating the policy...\n",
      "Updating finished!\n",
      "Episode 358 finished. Total reward: 100.0 (100 timesteps)\n",
      "Episode 359 finished. Total reward: 100.0 (100 timesteps)\n",
      "Episode 360 finished. Total reward: 100.0 (100 timesteps)\n",
      "Episode 361 finished. Total reward: 100.0 (100 timesteps)\n",
      "Episode 362 finished. Total reward: 100.0 (100 timesteps)\n",
      "Episode 363 finished. Total reward: 100.0 (100 timesteps)\n",
      "Episode 364 finished. Total reward: 100.0 (100 timesteps)\n",
      "Episode 365 finished. Total reward: 100.0 (100 timesteps)\n",
      "Episode 366 finished. Total reward: 100.0 (100 timesteps)\n",
      "Episode 367 finished. Total reward: 100.0 (100 timesteps)\n",
      "Episode 368 finished. Total reward: 100.0 (100 timesteps)\n",
      "Episode 369 finished. Total reward: 100.0 (100 timesteps)\n",
      "Episode 370 finished. Total reward: 100.0 (100 timesteps)\n",
      "Episode 371 finished. Total reward: 100.0 (100 timesteps)\n",
      "Episode 372 finished. Total reward: 100.0 (100 timesteps)\n",
      "Episode 373 finished. Total reward: 100.0 (100 timesteps)\n",
      "Episode 374 finished. Total reward: 100.0 (100 timesteps)\n",
      "Episode 375 finished. Total reward: 100.0 (100 timesteps)\n",
      "Episode 376 finished. Total reward: 100.0 (100 timesteps)\n",
      "Episode 377 finished. Total reward: 100.0 (100 timesteps)\n",
      "Updating the policy...\n",
      "Updating finished!\n",
      "Episode 378 finished. Total reward: 100.0 (100 timesteps)\n",
      "Episode 379 finished. Total reward: 44.0 (44 timesteps)\n",
      "Episode 380 finished. Total reward: 100.0 (100 timesteps)\n",
      "Episode 381 finished. Total reward: 100.0 (100 timesteps)\n",
      "Episode 382 finished. Total reward: 100.0 (100 timesteps)\n",
      "Episode 383 finished. Total reward: 100.0 (100 timesteps)\n",
      "Episode 384 finished. Total reward: 100.0 (100 timesteps)\n",
      "Episode 385 finished. Total reward: 100.0 (100 timesteps)\n",
      "Episode 386 finished. Total reward: 100.0 (100 timesteps)\n",
      "Episode 387 finished. Total reward: 100.0 (100 timesteps)\n",
      "Episode 388 finished. Total reward: 100.0 (100 timesteps)\n",
      "Episode 389 finished. Total reward: 100.0 (100 timesteps)\n",
      "Episode 390 finished. Total reward: 100.0 (100 timesteps)\n",
      "Episode 391 finished. Total reward: 69.0 (69 timesteps)\n",
      "Episode 392 finished. Total reward: 100.0 (100 timesteps)\n",
      "Episode 393 finished. Total reward: 100.0 (100 timesteps)\n",
      "Episode 394 finished. Total reward: 100.0 (100 timesteps)\n",
      "Episode 395 finished. Total reward: 100.0 (100 timesteps)\n",
      "Episode 396 finished. Total reward: 100.0 (100 timesteps)\n",
      "Episode 397 finished. Total reward: 83.0 (83 timesteps)\n",
      "Episode 398 finished. Total reward: 100.0 (100 timesteps)\n",
      "Updating the policy...\n",
      "Updating finished!\n",
      "Episode 399 finished. Total reward: 100.0 (100 timesteps)\n",
      "Episode 400 finished. Total reward: 100.0 (100 timesteps)\n",
      "Episode 401 finished. Total reward: 100.0 (100 timesteps)\n",
      "Episode 402 finished. Total reward: 100.0 (100 timesteps)\n",
      "Episode 403 finished. Total reward: 100.0 (100 timesteps)\n",
      "Episode 404 finished. Total reward: 100.0 (100 timesteps)\n",
      "Episode 405 finished. Total reward: 100.0 (100 timesteps)\n",
      "Episode 406 finished. Total reward: 100.0 (100 timesteps)\n",
      "Episode 407 finished. Total reward: 68.0 (68 timesteps)\n",
      "Episode 408 finished. Total reward: 100.0 (100 timesteps)\n",
      "Episode 409 finished. Total reward: 100.0 (100 timesteps)\n",
      "Episode 410 finished. Total reward: 100.0 (100 timesteps)\n",
      "Episode 411 finished. Total reward: 100.0 (100 timesteps)\n",
      "Episode 412 finished. Total reward: 100.0 (100 timesteps)\n",
      "Episode 413 finished. Total reward: 100.0 (100 timesteps)\n",
      "Episode 414 finished. Total reward: 100.0 (100 timesteps)\n",
      "Episode 415 finished. Total reward: 100.0 (100 timesteps)\n",
      "Episode 416 finished. Total reward: 100.0 (100 timesteps)\n",
      "Episode 417 finished. Total reward: 100.0 (100 timesteps)\n",
      "Episode 418 finished. Total reward: 100.0 (100 timesteps)\n",
      "Updating the policy...\n",
      "Updating finished!\n",
      "Episode 419 finished. Total reward: 100.0 (100 timesteps)\n",
      "Episode 420 finished. Total reward: 100.0 (100 timesteps)\n",
      "Episode 421 finished. Total reward: 100.0 (100 timesteps)\n",
      "Episode 422 finished. Total reward: 100.0 (100 timesteps)\n",
      "Episode 423 finished. Total reward: 100.0 (100 timesteps)\n",
      "Episode 424 finished. Total reward: 100.0 (100 timesteps)\n",
      "Episode 425 finished. Total reward: 100.0 (100 timesteps)\n",
      "Episode 426 finished. Total reward: 100.0 (100 timesteps)\n",
      "Episode 427 finished. Total reward: 100.0 (100 timesteps)\n",
      "Episode 428 finished. Total reward: 100.0 (100 timesteps)\n",
      "Episode 429 finished. Total reward: 100.0 (100 timesteps)\n",
      "Episode 430 finished. Total reward: 100.0 (100 timesteps)\n",
      "Episode 431 finished. Total reward: 27.0 (27 timesteps)\n",
      "Episode 432 finished. Total reward: 100.0 (100 timesteps)\n",
      "Episode 433 finished. Total reward: 20.0 (20 timesteps)\n",
      "Episode 434 finished. Total reward: 100.0 (100 timesteps)\n",
      "Episode 435 finished. Total reward: 100.0 (100 timesteps)\n",
      "Episode 436 finished. Total reward: 100.0 (100 timesteps)\n",
      "Episode 437 finished. Total reward: 100.0 (100 timesteps)\n",
      "Episode 438 finished. Total reward: 100.0 (100 timesteps)\n",
      "Episode 439 finished. Total reward: 100.0 (100 timesteps)\n",
      "Episode 440 finished. Total reward: 100.0 (100 timesteps)\n",
      "Updating the policy...\n",
      "Updating finished!\n",
      "Episode 441 finished. Total reward: 100.0 (100 timesteps)\n",
      "Episode 442 finished. Total reward: 44.0 (44 timesteps)\n",
      "Episode 443 finished. Total reward: 77.0 (77 timesteps)\n",
      "Episode 444 finished. Total reward: 100.0 (100 timesteps)\n",
      "Episode 445 finished. Total reward: 100.0 (100 timesteps)\n",
      "Episode 446 finished. Total reward: 100.0 (100 timesteps)\n",
      "Episode 447 finished. Total reward: 100.0 (100 timesteps)\n",
      "Episode 448 finished. Total reward: 100.0 (100 timesteps)\n",
      "Episode 449 finished. Total reward: 100.0 (100 timesteps)\n",
      "Episode 450 finished. Total reward: 100.0 (100 timesteps)\n",
      "Episode 451 finished. Total reward: 100.0 (100 timesteps)\n",
      "Episode 452 finished. Total reward: 100.0 (100 timesteps)\n",
      "Episode 453 finished. Total reward: 100.0 (100 timesteps)\n",
      "Episode 454 finished. Total reward: 100.0 (100 timesteps)\n",
      "Episode 455 finished. Total reward: 100.0 (100 timesteps)\n",
      "Episode 456 finished. Total reward: 100.0 (100 timesteps)\n",
      "Episode 457 finished. Total reward: 100.0 (100 timesteps)\n",
      "Episode 458 finished. Total reward: 100.0 (100 timesteps)\n",
      "Episode 459 finished. Total reward: 100.0 (100 timesteps)\n",
      "Episode 460 finished. Total reward: 100.0 (100 timesteps)\n",
      "Episode 461 finished. Total reward: 100.0 (100 timesteps)\n",
      "Updating the policy...\n",
      "Updating finished!\n",
      "Episode 462 finished. Total reward: 100.0 (100 timesteps)\n",
      "Episode 463 finished. Total reward: 100.0 (100 timesteps)\n",
      "Episode 464 finished. Total reward: 100.0 (100 timesteps)\n",
      "Episode 465 finished. Total reward: 100.0 (100 timesteps)\n",
      "Episode 466 finished. Total reward: 19.0 (19 timesteps)\n",
      "Episode 467 finished. Total reward: 100.0 (100 timesteps)\n",
      "Episode 468 finished. Total reward: 100.0 (100 timesteps)\n",
      "Episode 469 finished. Total reward: 100.0 (100 timesteps)\n",
      "Episode 470 finished. Total reward: 100.0 (100 timesteps)\n",
      "Episode 471 finished. Total reward: 100.0 (100 timesteps)\n",
      "Episode 472 finished. Total reward: 100.0 (100 timesteps)\n",
      "Episode 473 finished. Total reward: 100.0 (100 timesteps)\n",
      "Episode 474 finished. Total reward: 100.0 (100 timesteps)\n",
      "Episode 475 finished. Total reward: 100.0 (100 timesteps)\n",
      "Episode 476 finished. Total reward: 100.0 (100 timesteps)\n",
      "Episode 477 finished. Total reward: 100.0 (100 timesteps)\n",
      "Episode 478 finished. Total reward: 100.0 (100 timesteps)\n",
      "Episode 479 finished. Total reward: 100.0 (100 timesteps)\n",
      "Episode 480 finished. Total reward: 100.0 (100 timesteps)\n",
      "Episode 481 finished. Total reward: 100.0 (100 timesteps)\n",
      "Episode 482 finished. Total reward: 100.0 (100 timesteps)\n",
      "Updating the policy...\n",
      "Updating finished!\n",
      "Episode 483 finished. Total reward: 100.0 (100 timesteps)\n",
      "Episode 484 finished. Total reward: 100.0 (100 timesteps)\n",
      "Episode 485 finished. Total reward: 100.0 (100 timesteps)\n",
      "Episode 486 finished. Total reward: 100.0 (100 timesteps)\n",
      "Episode 487 finished. Total reward: 100.0 (100 timesteps)\n",
      "Episode 488 finished. Total reward: 100.0 (100 timesteps)\n",
      "Episode 489 finished. Total reward: 100.0 (100 timesteps)\n",
      "Episode 490 finished. Total reward: 100.0 (100 timesteps)\n",
      "Episode 491 finished. Total reward: 100.0 (100 timesteps)\n",
      "Episode 492 finished. Total reward: 100.0 (100 timesteps)\n",
      "Episode 493 finished. Total reward: 100.0 (100 timesteps)\n",
      "Episode 494 finished. Total reward: 100.0 (100 timesteps)\n",
      "Episode 495 finished. Total reward: 100.0 (100 timesteps)\n",
      "Episode 496 finished. Total reward: 100.0 (100 timesteps)\n",
      "Episode 497 finished. Total reward: 100.0 (100 timesteps)\n",
      "Episode 498 finished. Total reward: 100.0 (100 timesteps)\n",
      "Episode 499 finished. Total reward: 100.0 (100 timesteps)\n",
      "Episode 500 finished. Total reward: 100.0 (100 timesteps)\n",
      "Model saved to /notebooks/rl2023/ex1_wandb_fix/results/model/CartPole-v1_params.pt\n",
      "------Training finished.------\n"
     ]
    }
   ],
   "source": [
    "t.train(cfg_path=Path().cwd()/'cfg'/'cartpole_v1.yaml', \n",
    "        cfg_args=dict(seed=1, max_episode_steps=100)) # < 5 mins"
   ]
  },
  {
   "cell_type": "code",
   "execution_count": 3,
   "id": "1f8cd415-c26a-44cf-9f76-f80237cdd918",
   "metadata": {
    "tags": []
   },
   "outputs": [
    {
     "data": {
      "image/png": "[encoded data removed]",
      "text/plain": [
       "<Figure size 450x300 with 1 Axes>"
      ]
     },
     "metadata": {},
     "output_type": "display_data"
    }
   ],
   "source": [
    "u.plot_reward(Path().cwd()/'results'/'logging'/'CartPole-v1_1.csv', 'CartPole')"
   ]
  },
  {
   "cell_type": "markdown",
   "id": "b0230ba0",
   "metadata": {},
   "source": [
    "The command below will evaluate the trained model in 10 episodes and report the average reward (and episode length) for these 10 episodes."
   ]
  },
  {
   "cell_type": "code",
   "execution_count": 4,
   "id": "95418d8d",
   "metadata": {
    "tags": []
   },
   "outputs": [
    {
     "name": "stdout",
     "output_type": "stream",
     "text": [
      "Numpy/Torch/Random Seed:  501\n",
      "Loading model from /notebooks/rl2023/ex1_wandb_fix/results/model/CartPole-v1_params.pt ...\n",
      "Testing...\n"
     ]
    },
    {
     "name": "stderr",
     "output_type": "stream",
     "text": [
      "/opt/software/lib/python3.10/site-packages/gymnasium/wrappers/record_video.py:94: UserWarning: \u001b[33mWARN: Overwriting existing videos at /notebooks/rl2023/ex1_wandb_fix/results/video/CartPole-v1/test folder (try specifying a different `video_folder` for the `RecordVideo` wrapper if this is not desired)\u001b[0m\n",
      "  logger.warn(\n",
      "/opt/software/lib/python3.10/site-packages/gymnasium/envs/classic_control/cartpole.py:180: UserWarning: \u001b[33mWARN: You are calling 'step()' even though this environment has already returned terminated = True. You should always call 'reset()' once you receive 'terminated = True' -- any further steps are undefined behavior.\u001b[0m\n",
      "  logger.warn(\n"
     ]
    },
    {
     "name": "stdout",
     "output_type": "stream",
     "text": [
      "Test ep reward: 137.0 seed: 88\n",
      "Test ep reward: 127.0 seed: 672\n",
      "Test ep reward: 131.0 seed: 680\n",
      "Test ep reward: 127.0 seed: 592\n",
      "Test ep reward: 135.0 seed: 481\n",
      "Test ep reward: 137.0 seed: 78\n",
      "Test ep reward: 147.0 seed: 735\n",
      "Test ep reward: 156.0 seed: 852\n",
      "Test ep reward: 132.0 seed: 694\n",
      "Test ep reward: 126.0 seed: 965\n",
      "Average test reward: 135.5 episode length: 1000.0\n"
     ]
    }
   ],
   "source": [
    "t.test(episodes=10, \n",
    "       cfg_path=Path().cwd()/'cfg'/'cartpole_v1.yaml', \n",
    "       cfg_args=dict(testing=True, seed=None, max_episode_steps=1000, use_wandb=False))"
   ]
  },
  {
   "cell_type": "markdown",
   "id": "65a689b7",
   "metadata": {},
   "source": [
    "The agent acting in the environment can be seen using the following command. Change the ```path``` to pick the episode you want to visualize. Bear in mind by default video saving for training is taken every 50 episodes."
   ]
  },
  {
   "cell_type": "code",
   "execution_count": 5,
   "id": "ee7bc0ff",
   "metadata": {
    "tags": []
   },
   "outputs": [
    {
     "name": "stdout",
     "output_type": "stream",
     "text": [
      "test/ ex1-episode-0.mp4\n"
     ]
    },
    {
     "data": {
      "text/html": [
       "<div style=\"width: 200px; height: 100px;; border: 1px solid #FF5733;\"><video loop autoplay  width=\"200\"  height=\"100\">\n",
       " <source src=\"data:video/mp4;base64,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\" type=\"video/mp4\">\n",
       " Your browser does not support the video tag.\n",
       " </video></div>"
      ],
      "text/plain": [
       "<IPython.core.display.HTML object>"
      ]
     },
     "metadata": {},
     "output_type": "display_data"
    },
    {
     "name": "stdout",
     "output_type": "stream",
     "text": [
      "test/ ex1-episode-50.mp4\n"
     ]
    },
    {
     "data": {
      "text/html": [
       "<div style=\"width: 200px; height: 100px;; border: 1px solid #FF5733;\"><video loop autoplay  width=\"200\"  height=\"100\">\n",
       " <source src=\"data:video/mp4;base64,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\" type=\"video/mp4\">\n",
       " Your browser does not support the video tag.\n",
       " </video></div>"
      ],
      "text/plain": [
       "<IPython.core.display.HTML object>"
      ]
     },
     "metadata": {},
     "output_type": "display_data"
    },
    {
     "name": "stdout",
     "output_type": "stream",
     "text": [
      "test/ ex1-episode-100.mp4\n"
     ]
    },
    {
     "data": {
      "text/html": [
       "<div style=\"width: 200px; height: 100px;; border: 1px solid #FF5733;\"><video loop autoplay  width=\"200\"  height=\"100\">\n",
       " <source src=\"data:video/mp4;base64,AAAAIGZ0eXBpc29tAAACAGlzb21pc28yYXZjMW1wNDEAAAAIZnJlZQAAFFttZGF0AAACrwYF//+r3EXpvebZSLeWLNgg2SPu73gyNjQgLSBjb3JlIDE2NCByMzA5NSBiYWVlNDAwIC0gSC4yNjQvTVBFRy00IEFWQyBjb2RlYyAtIENvcHlsZWZ0IDIwMDMtMjAyMiAtIGh0dHA6Ly93d3cudmlkZW9sYW4ub3JnL3gyNjQuaHRtbCAtIG9wdGlvbnM6IGNhYmFjPTEgcmVmPTMgZGVibG9jaz0xOjA6MCBhbmFseXNlPTB4MzoweDExMyBtZT1oZXggc3VibWU9NyBwc3k9MSBwc3lfcmQ9MS4wMDowLjAwIG1peGVkX3JlZj0xIG1lX3JhbmdlPTE2IGNocm9tYV9tZT0xIHRyZWxsaXM9MSA4eDhkY3Q9MSBjcW09MCBkZWFkem9uZT0yMSwxMSBmYXN0X3Bza2lwPTEgY2hyb21hX3FwX29mZnNldD0tMiB0aHJlYWRzPTEyIGxvb2thaGVhZF90aHJlYWRzPTIgc2xpY2VkX3RocmVhZHM9MCBucj0wIGRlY2ltYXRlPTEgaW50ZXJsYWNlZD0wIGJsdXJheV9jb21wYXQ9MCBjb25zdHJhaW5lZF9pbnRyYT0wIGJmcmFtZXM9MyBiX3B5cmFtaWQ9MiBiX2FkYXB0PTEgYl9iaWFzPTAgZGlyZWN0PTEgd2VpZ2h0Yj0xIG9wZW5fZ29wPTAgd2VpZ2h0cD0yIGtleWludD0yNTAga2V5aW50X21pbj0yNSBzY2VuZWN1dD00MCBpbnRyYV9yZWZyZXNoPTAgcmNfbG9va2FoZWFkPTQwIHJjPWNyZiBtYnRyZWU9MSBjcmY9MjMuMCBxY29tcD0wLjYwIHFwbWluPTAgcXBtYXg9NjkgcXBzdGVwPTQgaXBfcmF0aW89MS40MCBhcT0xOjEuMDAAgAAAAgxliIQAJ//+9bF8CmrJ84oM6DIu4Zckya62IuJtAMABjhSAAAADABos3+LmQEo1L4AAACEgBqA+gyg8xExVioEsGCpqOLdyVWsRN/8Def+4YeRQgvJtL3Ay7RGnwzvMY6ETHKV0mUQSYrbAi4LdwZTqSRioz/9KQgu/DHYpEXCyy+/y0lbD/U2W8+oTctLTr1o3x/6FySACQzsMae0TovU1tJP4JXc3hPxqWmPzMZB+ISnOzmoDnbV6TDv06Wh44nE+va0Ai2IzB9gXlcVV34RgAkk9IGvtQg5l1sB1l0werkAZOmn3UyLka0xpPgagwFlGW7GagqaSJzq1SGeg1j+Aq97AqlLUVQo1Qab8oYGGV//VyndC23yMUEvlrVr/iKJVdkIA4rtfYMTnq5eidfn9e20L3dzSSj7GATpQo8le1b4+LioF2TuXTYzLpA3TJJA0XdhYE/3vDRqegQQb2V+r7NRuUwFcKnIfwQL4olDX3qVafQ9G2yQwMGkFD6tp40J891nz3cztIjsk9cLCKSmiA6Nb5l8WBa81Axi7WriCCM7NFAh3qTAyzKn7nKDLeovA8+ily2intzStE7GSvsMksVDqh2ivDd3zi33FVMoAAMXFjp8Sn9P/vNKd1wdb51qSGlc2mm9sZQaVFdPyVTvK2fR7meFLbNir2FVwACgMkODyCOIAAAMAAAMCOwAAAJFBmiRsQn/98QAAAwKfQgj4Chilz7u3L0kNGEZafGldfBAcv0vr4Tom7QtG7O3SE7CiK146QEUaaSCRx3OmrhKsY63DUXvPsmfLSNc1/bZvGBke5aMW3wcoJjAeMdcf4w7JbVF7K1gXNkhZmIiSBQurrjjDeCi2oG1ttWKtkXzPs7VXZJNBTpqMThDhIUrxgpRkAAAASkGeQniEfwAAFrMr7K6vZP4Y6AG43guqHKQ1/xQyxK0Vqp610R93yd/iadrMfdgYjalWi+Miy+1Xsky1TRVT/JdAUyGVrcUpYNBBAAAAJAGeYXRH/wAAI6w5B3FJ51jJBA4NEoO8TNtXu8zCstq8yO+KMAAAACQBnmNqR/8AACO/Gs83XDydBnFdsP6iHkRfvSc97rSzU2g4sjEAAAB9QZpoSahBaJlMCF///oywAABGEMF/mQcZzoDB/T5Vz7LLXNoeEKiOuHwtLyaT6al3A2doBF9TSrdW9wZ2A7EFUBD8Dng8hhlyf9PCIMcbWtb+U518msxhSErBaU1RezryGuSCoWhwvTgczQ/gZXsXTtGQ9VKj20NtUTb48J0AAAArQZ6GRREsI/8AABa8Rxa4H/60ZT7mZBxGO66Pmmnyu99oUmMtf2Q9cOCbgQAAABQBnqV0R/8AAAMAGlwoot+nTKiRYQAAABsBnqdqR/8AACOyKwcTO4asVSK6iCO1jhmiEqAAAAAWQZqsSahBbJlMCFf//jhAAAADAAAMqAAAADxBnspFFSwj/wAAFjCgYDotsTXlbH7ZsgYrFT11AAOB08id/O3gZK1ZGIxs1V8NYDE8M3zr7Gun8cle8gMAAAAbAZ7pdEf/AAAFH9DBzxsJ+AX8UgqCsc5YIOSAAAAAKQGe62pH/wAABR80Yzgye5WV+42M6AHmDm3QAADWkSdU41D6vTCT1JJgAAAAokGa8EmoQWyZTAhH//3hAAAEE3OSsoOlbiAGu8irKJ3sH63cq7MC+FZj1eQSNSilslqxXV9esMBxvGwEItfloXBdo//5mF2FSe0qhaANnA4VGdEnx6th+16oL2+QaSdeExROFR+iiXz7SYhNNk3S9ZlvJOF/EoMpR9PoGh8oYE4HRL4jiBSgAmOiFiCISiqHM3s4NBABliUr2hIs1TaLl2engQAAADZBnw5FFSwj/wAAFrxQszp2rQe3dM2AIjueWZjEHwy2E+ckyqn8A6/gUdX8Z4ZiKuTfFv7uyAkAAAAmAZ8tdEf/AAAE90SbsbF1P0WVEqbCGpFW8VeoSVNjNWqyjO9QSoEAAAAtAZ8vakf/AAAjsie5hD20b2nRikPfimsbXGGTfFPi+oUjscuhSxuEPAjMjlgwAAAAmEGbNEmoQWyZTAhH//3hAAAEF6QeX2niAG3llCDwRDj0e0p9WHTxbB2ClVGJZGCHtDvUQ9pYzqWcJCpXfQdXltJC66+6zh4xORh4QnhzROBaZRpDa+v3FXX1xYrsMskKjUM5Mra19/UgU1ZKgWeoGYgyFtOG2gOP2R1wePJiyq8NTq5Pxbzskcx7HMG/1QwxmCIWGqDUndNiAAAAS0GfUkUVLCP/AAAWvFC4UgbogD+hFDaQazH5HWYhKTv9K4H/UNd5/odsRarEKEH3HnJDHC4AFbqvqEWBsIJZyz2+zY0yMbXenb7ZgQAAACwBn3F0R/8AAAT8jBlUfuJfYbO/AXiXt+aLXZz3qlh52otFk0RtRpq7FFrW3AAAAB8Bn3NqR/8AACO/GsxQvBQHfjqSWH71QipibDsuBICAAAAAukGbeEmoQWyZTAhP//3xAAADAqCzTR5C6brJrM7po1RdQQA1fmSmU7Ij6FO0hPKoXBEO+6pimnhTzD9ShgpyuALa2ixvyX954zQ+CVRLbrX2i3pJtqX6ewuLdBbY6ujkrmttL7i08uLUcCPpAf/y2KQCZrqD2hpfU8Uc1f6timG0OOPSf71zjwx7FjP/Dw42E3nK579TMVQE9kv6Ebbfdd+xaYOHZnodWYz/O5xDQjha4viC2lLs036zgQAAAEhBn5ZFFSwj/wAAFrweXk2hp4VAC2azHIeWQH2nw4sgEmkH0wHeDWctSTw0bj4T6fT2+GChga6nA8Xc6Udf/LKRZmIHIBDlDtwAAAAzAZ+1dEf/AAAN0hw8lP/2i4flpjOVQL/IGTC6y+7OnN97L7i/DNMh5jrqqGnh+tE5AXbdAAAANAGft2pH/wAAI72D+0nMCFCRmf2vKvdY78KcDvsni2SU5eARxFNJ+8BRxXhVtR0Le0A7ITcAAADOQZu8SahBbJlMCEf//eEAAAQzSQ40/v20+MQAo3FWRv+T5+wvvHREXebvpi73R1FmDtpon+bffzNDn66r5fNNh1Vc+bz3Oowbe8315INu4+yTkcXq3RlXdxJGk5wTS06Zi+pcZ1Eb1oLhENx/hDH8BTEaZMnxlHCnKnwAgHVboKKbAXo6Wo4oXUV6+1Nbz0o88qIjOtaKpTHerHeXC+Yho+6w3q2gj9Qz7m8rxquVaUJc5mPZwQr3XgvxPr4dWi7AvP9R3AQMej8/zjMzaxgAAABlQZ/aRRUsI/8AABdMRsY7IhE/jfGotQRTiX5KnweUSYLTd+uMIsta535an8ajCBrqXf2PM36BwBL14G2DVBmvrUzCADt05pAb97AjIGq5qYxUtaqtBzKybzEgM4PP6XC7aNdVYLEAAABLAZ/5dEf/AAAjRINCH3d1ISQAV62R5ej8GtMnaQexRIVkexmIYRpVRi2oByoAxg+8xLOItxUOXEt22gnFyoSzAMETYTJQCrPhi7bgAAAAOAGf+2pH/wAAJL2DgcoFWqY8+ZKciGn4zrLKc2jS5XtujvrJTrywKlER9b9DgqO9dC38A0MZdUJ9AAAAZEGb4EmoQWyZTAhH//3hAAAEM1vIuuIJTeUgysu5sr2pht7/tJtq6Z299N6Je6O93f2Uv1d4tP864U0+K3VpzXdtVTo+dLMqyZ7U6YIBGV3SKYzb08olU83dc0SgtvIX3U0/ULEAAAA4QZ4eRRUsI/8AABdDR7b0OZrSLt5mHfkqtoB9B2BLf31kwaqFesMbV/uWNnaMbDv9rldeaTiJIbAAAAAcAZ49dEf/AAAkq/hbeBKdvhYQ3F+yBV+Osz+bgAAAACoBnj9qR/8AACSxzAlXF68KWsJ2Gwt/3wXvRd0tSPj+6NxZodRTzVnlGLEAAAClQZokSahBbJlMCEf//eEAAAQzQHjJICD/KTV9un6PYR5Oc2h0qbcQ53IbGsHlo1b6Vj7rNjqr+Kc5l8etF6w5x+784/mr8rhhr8w8uR1sLnTrLuokXRH3yJtDeFgrZcfI+0IwMaHTObsg/bLFgHjLb8s5Ddhy9j0MURO6kWOg1Ndp2LmZcLgremTdjS8iSw1knglc3/tZdJ6LvI9vA6Zi1x8UBLDAAAAANkGeQkUVLCP/AAAXS1tupuYO77JEteMh/8VQ/avEoZomIQDzzgrh+NgQXPkngOBJllA1TAkkwQAAAD4BnmF0R/8AACTAmSK+eOi+Sxe0nNmmyKH36PHQjVPqpkbJw/zabJEt3R5qyKdTPVHABLLP7XUNk1hhmB1UYAAAAD0BnmNqR/8AACSxzA909TQ5Btd0AzZQ7b4xYl00DDpB1EveHTvgy6aqAkQOdjXhA248+oPcU65CEf6P9KlRAAAAjEGaZ0moQWyZTAhH//3hAAAEM0B083YldpRF4e5asgBB4SOhdEFJ1eAJMR7X9TrWRGSA3Biz8zf9FUxofUq4SNY6puEduqPkdXhUA8fCHAQf+r2Nc/V+k1zXWsoYZ2U/Dvmthc+u0zPqZLU+QooTthbUyHOx+pzX1z68Yo+QLeCGbAA7JAW20er41lDnAAAANUGehUUVLCP/AAAXS4qUZI34oAS04qC2erBaLKtCs2Qj6+WZrU+rPSjJ8g4RinzFS4axQn2ZAAAAPAGepmpH/wAAJL2M75oAAniAFtoyRnItVkH1D81M8xPZvmLDRV+950ybdIFc6Hfl3kem2YmWBoA9tMFtwQAAAH9BmqtJqEFsmUwIR//94QAABDNL6OhgaDc4j5sigAOEqmOlAm+zuEjBWjjtw6T3xcHBpqzVvFUSuLqPX+KGft+oI9bk3MTZL1YXkgGFYGqtXrEIrySsJpxslUucl6UiCF/yUGwcOnitzhQvkYJjqGStUyTN/PuBU7mlBzWl6JiwAAAARUGeyUUVLCP/AAAXS1tmDzst+pQOG02U4Aize1DXPjsIB7Ou1Twec6YsAP7RpckPGXUkhUpTBsqVf1Ll7uLH2sk80XP5UAAAADIBnuh0R/8AACTAmdr0WsatNoYX7TVeGEqSl4ry45nDylxDHLsdX/8CAE17aDU4QrVCYQAAAEkBnupqR/8AACS9hB3837+n/Nz/IUKJOOBzCUq3jSFtfAT+yF1aphbRfBVpkyxfTU3nUePUkxIAW7//o50NrgszLh/QwEhcJWvAAAAAb0Ga70moQWyZTAhH//3hAAAEU1KVkaX9gpjiy9k6Ah65TxYgnMWQyIt/rp6mNi+cTxX/XJ688TVHpAOQYNFP2O4OqdjpZGXoBhrxDpDfiAG7bi4I3SzqjJKcsaOuX/lmtewvSKk09+GrwpCwwB1s+AAAAERBnw1FFSwj/wAAF+h0WuUKoIVeC4kB5Zbo6AAWz7n1jmUb9g+vYY5KrHm3XBaeqlsm3u2QdyB2hQwE8MqP1H4l1E1FgQAAACsBnyx0R/8AACW/74pyLSjAtYgh+ZGXJ1jirK0907CMj83IimEHi+WmSXalAAAANgGfLmpH/wAAJa1cDMyFM9WUiBBUVbSxp7TMDrWoNgkp8wxTifNI6pFJHx82drHwN+naf9fzcQAAAIBBmzNJqEFsmUwI//yEAAAQy4N7BqEAK/vebs5gBRFNyT/g8NqSC3Ln2MMz9zfmTUu7HG/oousW8zj/tREQvOmvNUO9D2U5wjN6t/Jo64B0H6ixfxb4WAVxAvApPjL3r/SsxZ3ZUdmR4cFsHcXrOG/3DLaLzbkkE8mUJbJR87cbwAAAAFlBn1FFFSwj/wAAGIl3epLgTuIR2K2ciFa6FDTDZuofBt+cV6tP5gHApscMw3TMuZvkLwK9rnkRWHG2zCheM6+bdAjowAhHxDi5qaq88KxJVw3MYRSzbzdDggAAADABn3B0R/8AACW/E3E4UgOFjxVowtvtAIfswm5DrSAAoChUw5cB8j7rU3OFT/x6FlEAAAArAZ9yakf/AAAmvwGWm6ZQF3Jql9Rw/yiGXNxQB2MQjfAXCBRxfQq3CaZFgAAABZNtb292AAAAbG12aGQAAAAAAAAAAAAAAAAAAAPoAAAEEAABAAABAAAAAAAAAAAAAAAAAQAAAAAAAAAAAAAAAAAAAAEAAAAAAAAAAAAAAAAAAEAAAAAAAAAAAAAAAAAAAAAAAAAAAAAAAAAAAAAAAAACAAAEvXRyYWsAAABcdGtoZAAAAAMAAAAAAAAAAAAAAAEAAAAAAAAEEAAAAAAAAAAAAAAAAAAAAAAAAQAAAAAAAAAAAAAAAAAAAAEAAAAAAAAAAAAAAAAAAEAAAAACWAAAAZAAAAAAACRlZHRzAAAAHGVsc3QAAAAAAAAAAQAABBAAAAIAAAEAAAAABDVtZGlhAAAAIG1kaGQAAAAAAAAAAAAAAAAAADIAAAA0AFXEAAAAAAAtaGRscgAAAAAAAAAAdmlkZQAAAAAAAAAAAAAAAFZpZGVvSGFuZGxlcgAAAAPgbWluZgAAABR2bWhkAAAAAQAAAAAAAAAAAAAAJGRpbmYAAAAcZHJlZgAAAAAAAAABAAAADHVybCAAAAABAAADoHN0YmwAAACwc3RzZAAAAAAAAAABAAAAoGF2YzEAAAAAAAAAAQAAAAAAAAAAAAAAAAAAAAACWAGQAEgAAABIAAAAAAAAAAEAAAAAAAAAAAAAAAAAAAAAAAAAAAAAAAAAAAAAAAAAAAAY//8AAAA2YXZjQwFkAB//4QAZZ2QAH6zZQJgz5eEAAAMAAQAAAwBkDxgxlgEABmjr48siwP34+AAAAAAUYnRydAAAAAAAAJxXAACcVwAAABhzdHRzAAAAAAAAAAEAAAA0AAABAAAAABRzdHNzAAAAAAAAAAEAAAABAAABqGN0dHMAAAAAAAAAMwAAAAEAAAIAAAAAAQAABQAAAAABAAACAAAAAAEAAAAAAAAAAQAAAQAAAAABAAAFAAAAAAEAAAIAAAAAAQAAAAAAAAABAAABAAAAAAEAAAUAAAAAAQAAAgAAAAABAAAAAAAAAAEAAAEAAAAAAQAABQAAAAABAAACAAAAAAEAAAAAAAAAAQAAAQAAAAABAAAFAAAAAAEAAAIAAAAAAQAAAAAAAAABAAABAAAAAAEAAAUAAAAAAQAAAgAAAAABAAAAAAAAAAEAAAEAAAAAAQAABQAAAAABAAACAAAAAAEAAAAAAAAAAQAAAQAAAAABAAAFAAAAAAEAAAIAAAAAAQAAAAAAAAABAAABAAAAAAEAAAUAAAAAAQAAAgAAAAABAAAAAAAAAAEAAAEAAAAAAQAABAAAAAACAAABAAAAAAEAAAUAAAAAAQAAAgAAAAABAAAAAAAAAAEAAAEAAAAAAQAABQAAAAABAAACAAAAAAEAAAAAAAAAAQAAAQAAAAABAAAFAAAAAAEAAAIAAAAAAQAAAAAAAAABAAABAAAAABxzdHNjAAAAAAAAAAEAAAABAAAANAAAAAEAAADkc3RzegAAAAAAAAAAAAAANAAABMMAAACVAAAATgAAACgAAAAoAAAAgQAAAC8AAAAYAAAAHwAAABoAAABAAAAAHwAAAC0AAACmAAAAOgAAACoAAAAxAAAAnAAAAE8AAAAwAAAAIwAAAL4AAABMAAAANwAAADgAAADSAAAAaQAAAE8AAAA8AAAAaAAAADwAAAAgAAAALgAAAKkAAAA6AAAAQgAAAEEAAACQAAAAOQAAAEAAAACDAAAASQAAADYAAABNAAAAcwAAAEgAAAAvAAAAOgAAAIQAAABdAAAANAAAAC8AAAAUc3RjbwAAAAAAAAABAAAAMAAAAGJ1ZHRhAAAAWm1ldGEAAAAAAAAAIWhkbHIAAAAAAAAAAG1kaXJhcHBsAAAAAAAAAAAAAAAALWlsc3QAAAAlqXRvbwAAAB1kYXRhAAAAAQAAAABMYXZmNTguNzYuMTAw\" type=\"video/mp4\">\n",
       " Your browser does not support the video tag.\n",
       " </video></div>"
      ],
      "text/plain": [
       "<IPython.core.display.HTML object>"
      ]
     },
     "metadata": {},
     "output_type": "display_data"
    },
    {
     "name": "stdout",
     "output_type": "stream",
     "text": [
      "test/ ex1-episode-150.mp4\n"
     ]
    },
    {
     "data": {
      "text/html": [
       "<div style=\"width: 200px; height: 100px;; border: 1px solid #FF5733;\"><video loop autoplay  width=\"200\"  height=\"100\">\n",
       " <source src=\"data:video/mp4;base64,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\" type=\"video/mp4\">\n",
       " Your browser does not support the video tag.\n",
       " </video></div>"
      ],
      "text/plain": [
       "<IPython.core.display.HTML object>"
      ]
     },
     "metadata": {},
     "output_type": "display_data"
    },
    {
     "name": "stdout",
     "output_type": "stream",
     "text": [
      "test/ ex1-episode-200.mp4\n"
     ]
    },
    {
     "data": {
      "text/html": [
       "<div style=\"width: 200px; height: 100px;; border: 1px solid #FF5733;\"><video loop autoplay  width=\"200\"  height=\"100\">\n",
       " <source src=\"data:video/mp4;base64,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\" type=\"video/mp4\">\n",
       " Your browser does not support the video tag.\n",
       " </video></div>"
      ],
      "text/plain": [
       "<IPython.core.display.HTML object>"
      ]
     },
     "metadata": {},
     "output_type": "display_data"
    },
    {
     "name": "stdout",
     "output_type": "stream",
     "text": [
      "test/ ex1-episode-250.mp4\n"
     ]
    },
    {
     "data": {
      "text/html": [
       "<div style=\"width: 200px; height: 100px;; border: 1px solid #FF5733;\"><video loop autoplay  width=\"200\"  height=\"100\">\n",
       " <source src=\"data:video/mp4;base64,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\" type=\"video/mp4\">\n",
       " Your browser does not support the video tag.\n",
       " </video></div>"
      ],
      "text/plain": [
       "<IPython.core.display.HTML object>"
      ]
     },
     "metadata": {},
     "output_type": "display_data"
    },
    {
     "name": "stdout",
     "output_type": "stream",
     "text": [
      "test/ ex1-episode-300.mp4\n"
     ]
    },
    {
     "data": {
      "text/html": [
       "<div style=\"width: 200px; height: 100px;; border: 1px solid #FF5733;\"><video loop autoplay  width=\"200\"  height=\"100\">\n",
       " <source src=\"data:video/mp4;base64,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\" type=\"video/mp4\">\n",
       " Your browser does not support the video tag.\n",
       " </video></div>"
      ],
      "text/plain": [
       "<IPython.core.display.HTML object>"
      ]
     },
     "metadata": {},
     "output_type": "display_data"
    },
    {
     "name": "stdout",
     "output_type": "stream",
     "text": [
      "test/ ex1-episode-350.mp4\n"
     ]
    },
    {
     "data": {
      "text/html": [
       "<div style=\"width: 200px; height: 100px;; border: 1px solid #FF5733;\"><video loop autoplay  width=\"200\"  height=\"100\">\n",
       " <source src=\"data:video/mp4;base64,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\" type=\"video/mp4\">\n",
       " Your browser does not support the video tag.\n",
       " </video></div>"
      ],
      "text/plain": [
       "<IPython.core.display.HTML object>"
      ]
     },
     "metadata": {},
     "output_type": "display_data"
    },
    {
     "name": "stdout",
     "output_type": "stream",
     "text": [
      "test/ ex1-episode-400.mp4\n"
     ]
    },
    {
     "data": {
      "text/html": [
       "<div style=\"width: 200px; height: 100px;; border: 1px solid #FF5733;\"><video loop autoplay  width=\"200\"  height=\"100\">\n",
       " <source src=\"data:video/mp4;base64,AAAAIGZ0eXBpc29tAAACAGlzb21pc28yYXZjMW1wNDEAAAAIZnJlZQAAImFtZGF0AAACrwYF//+r3EXpvebZSLeWLNgg2SPu73gyNjQgLSBjb3JlIDE2NCByMzA5NSBiYWVlNDAwIC0gSC4yNjQvTVBFRy00IEFWQyBjb2RlYyAtIENvcHlsZWZ0IDIwMDMtMjAyMiAtIGh0dHA6Ly93d3cudmlkZW9sYW4ub3JnL3gyNjQuaHRtbCAtIG9wdGlvbnM6IGNhYmFjPTEgcmVmPTMgZGVibG9jaz0xOjA6MCBhbmFseXNlPTB4MzoweDExMyBtZT1oZXggc3VibWU9NyBwc3k9MSBwc3lfcmQ9MS4wMDowLjAwIG1peGVkX3JlZj0xIG1lX3JhbmdlPTE2IGNocm9tYV9tZT0xIHRyZWxsaXM9MSA4eDhkY3Q9MSBjcW09MCBkZWFkem9uZT0yMSwxMSBmYXN0X3Bza2lwPTEgY2hyb21hX3FwX29mZnNldD0tMiB0aHJlYWRzPTEyIGxvb2thaGVhZF90aHJlYWRzPTIgc2xpY2VkX3RocmVhZHM9MCBucj0wIGRlY2ltYXRlPTEgaW50ZXJsYWNlZD0wIGJsdXJheV9jb21wYXQ9MCBjb25zdHJhaW5lZF9pbnRyYT0wIGJmcmFtZXM9MyBiX3B5cmFtaWQ9MiBiX2FkYXB0PTEgYl9iaWFzPTAgZGlyZWN0PTEgd2VpZ2h0Yj0xIG9wZW5fZ29wPTAgd2VpZ2h0cD0yIGtleWludD0yNTAga2V5aW50X21pbj0yNSBzY2VuZWN1dD00MCBpbnRyYV9yZWZyZXNoPTAgcmNfbG9va2FoZWFkPTQwIHJjPWNyZiBtYnRyZWU9MSBjcmY9MjMuMCBxY29tcD0wLjYwIHFwbWluPTAgcXBtYXg9NjkgcXBzdGVwPTQgaXBfcmF0aW89MS40MCBhcT0xOjEuMDAAgAAAAjhliIQAJ//+9bF8CmrJ84oM6DIu4Zckya62IuJtAMAVHyAAAAMAADtlv8XMgJRqXwAAAwBCQA1AfQZQeYiYqxV4jO8f+8W7mJABlu2W+BvP/cMPIoQXk2l7gZdojT4Z3mMdCJjlK6TKDDiJQxQkWpMZq5GE9p+/nzndPjjLpOu+VFVyUuvj9hfBxu1SCd980XuFxUFu1t50jUbh4DlbfFvJfrWczqIr3nxsR6Y/N2+nobLTWIdwjTmkfLy2wVyw9Qr1UQ0TbPTxV86FjGLD/nU/js3q6khkZwu8Kl68bMIG/blM/dCCHu0rVu7uJHhvknoIbS4KfUAJkaa1FnWybLJoCzW6rpapbbtWnGQdJi4GyAwq6bMhHqw6hZvAz4A2g0i1gY9NBUla7prdcA1+Ry4+ZQ6AhXNoZo3GSQbQcGXYF0Hd4v4YTOWDo3ffTCAaRhLHUwADrXMgV/5WOgIWzROQIrGDY5d7runyKkievOsaiRy21OmqrcNPf5DU+b4g4BFwQbOkga2kGUNfepaS5e+shcr7Igp4HK9jcV7poVelz4Jbu/mMv4khx2M///D64mvD9Co16ITVGj7apTq1vxy+MinCOVsQshDPvalHrgJz+dm7MMQD2NO8IzU/u29Xfrr/Fy0+OrgQ1bgH2aV+IAJGthsfBTJqKyIlyrtluF7J1ZxgGgUQiH8h2EmOP42Dim61Y6wdRVB/U4Fg0TI9RpFmzPq4AAUAAOTOAAADAAADAAADAAADAAZVAAAAiEGaJGxCf/3xAAADAPg/DPgXpkEYNTM2zoaUAV6TPtD1D+zdNt+J80pudzjXQ/eFSOHYEWN8+yNflgqT58C5H4wlZmxxzt1FG2mm7gxnHvnG7lcOOr+l4gRjKMuL1+8cf4FfQ/Zt6nO6Vkbj8YTlZlMATnMDALgDZ5BUfX6MzMiRbH/kFxMEbwwAAAA1QZ5CeIR/AAAWs0iQYmm5FcmOhnVau0WPX5IBj2/Dp73ACX7MdsbP+wnb5y7I1FQhjFh2E2cAAAApAZ5hdEf/AAAjrDlcFwksG2v2ZcbwfdhBYIFp9xhcZyar/OkmwKyA/+AAAAAnAZ5jakf/AAAjsisHE3qgq3sYe//MG/+CZkJOajGPVuCiNmy5pqmzAAAArUGaaEmoQWiZTAhP//3xAAADAqEBMo/ANXLpSYjViNMPG3tFuPx5T+JngroE1xKAsxKqEmbLIBx+M0fZiKWyA7kvdRJpn+ugpk0KZ+0G3Ke0+1l4n0udHVaMAbx9UEGvCv7c6lsJPNoR3kZWSJoWKq6lc7IUUfLRS8OFwph4hZDwNjanwnRkuvjZeDrZf3lGQb/89tJiKHYH5AC2ER2W9oVjtB41Nbk5B/3R0N4RAAAAP0GehkURLCP/AAAWtV8g+nspxPrU8VH+AtUSULuwFurBynC0WYrSVzp8po8jcS/cnvu58VVab8spu5QoJz76MQAAACEBnqV0R/8AACPDRwiPO0FjaRv9sTww/XogtElAs1Ww20EAAAAvAZ6nakf/AAAivx/cPtNmEkBEl/0pl6C977AZMTJ20VF1yRT4oJHtER30so+xyAgAAAB1QZqsSahBbJlMCE///fEAAAMCnwLFSd/53r6JXNHpIzAH5RCeQH1/ABHbz9Z/PxWeZ5QWw2x8dw8xvW8R9twZad5/UN/r+DFqR7S7o3EHdsMerlx23u08PS4Io6xz83hkhhNhXQ7U5Xrfj15N9SiubjC8eLymAAAANUGeykUVLCP/AAAWtV9G8qaqiKVsJvNMMd8sLJXpOzZX8uYhZfCwUh28GLRGiIEpe/msTCVBAAAAMAGe6XRH/wAAI5K9iFoLILXqt9Dw3scdezKhCgCk3hTdslfHmEAE0lPhqZa6ATuqMAAAABcBnutqR/8AAAUfNNUmOWWqy+bOBR8CggAAAJ1BmvBJqEFsmUwIR//94QAABDNbvijS2OWBZsutSlvL0Cn4nlG8bRLMZm8vcNLGdObmPyrnohVpxjxritoMUEgNCW7mnlhYHqhGWq2CCjqKCFUvrvkAUVwO5XVgw2ObCWxJ6MHbn1J+c9tDPjZAncWhuyOlTkpwhBUsykSNDPtiOzNKTkfYQKBCDTFRgwB+PNraOcWLeMhQjvMBjSgxAAAAMEGfDkUVLCP/AAAXTD0uY0g0OJPxBy++9+DK+52IK93fTfcAfVgUcdPss3pxlf7dgwAAACsBny10R/8AACPDO2g0XEgnUaIdwg/i+K9uMAaUf1KKR3yLo6i2D0bGDz2ZAAAAIgGfL2pH/wAAJL74nlRkVj3x+NBZ0p40uYb3MSGTStXJcqAAAAByQZs0SahBbJlMCEf//eEAAAQzW7Rjb/uATByVue2qaAC2pSarrBSnxmo26UjD9VEZm2K/AQeNlZ1qMgNJR++qnrhfmfH9+HRokrXU/vKO33iBz4aYrdosspqBCZhYYWtBV23d3LecuE4Tz/QBaur1SAuwAAAANUGfUkUVLCP/AAAXQ0e3Df/HJ9Jbvbw9Wuyc0fsdiAIVUet/LdcftrgnZSPg/ByFQAIjMMHJAAAAMAGfcXRH/wAAJMMXacaJAtNnAnAA4k1t37tkC2w8g1LFJTRmN3/ez6ljtyfZsl9bcAAAACQBn3NqR/8AACS/BCcSyWmtXJ8gzE31KqCQX6U2xnIrEesMkmAAAAB3QZt4SahBbJlMCE///fEAAAMCsOk96aALWO6GAT6UCn9WvXEt1vEwZpR51QiqhFJwGlF2tGBbtj1o3XnkDLgUMQn9v7ghGC7KCYe30eMZb2TD+sS3Cu2paZFoxWTgOkoSJPx9g0CcRCZ5YMDTGNGQUiGy5fB1DMEAAAAzQZ+WRRUsI/8AABdLipRkjT7WTioujdJP4W/gzhOMgXEsJOm7+Z9m5H4hgnaNBmg9b4QEAAAAHQGftXRH/wAAJKv4W3gSnb7qoV16tWKAcgeqbm9nAAAAIwGft2pH/wAAJL2DgcoA+ycE7kxeWKrnvMX9xJetSdzxqlVHAAAAl0GbvEmoQWyZTAhH//3hAAAENRR0jt6AYBnX5020bublbp08c9Ki5cQoKN/Dt0K1nBZEDt0iOz15eH5P36FxsnG5OOwoCAmdMNfqa3PcC/PTHhcRlsRTR8PKkOHAMHhpJEYisfAG8VSWH/H0QTVutC/mtP96uHYW7w7z30JgX/TevvSryELoyKPBCntfJz3+BYH7BvnsQMAAAAAoQZ/aRRUsI/8AABdCq++Unz5oHJESWrO0yvjhRaoWSEtdgIVm4ii2YQAAADEBn/l0R/8AACTAmd3oLlB+RvTCIUCe0BpG+a+qfJfRE4vz7u/qO1/B5S+N7g4KB8yoAAAALgGf+2pH/wAAJLHoNHolPJv+lukB5r4L35Uy4hKL4+7N5lfrqmER3IT3ROYRUYEAAACFQZv/SahBbJlMCEf//eEAAAQ1FJulnKc3UDur4QLrhKYWXYwzp0NoHNMgH9CSH0Jw/gAAdGUNv4GYZjOOxQJfqlcEyr9TRzvUPHxIJ0UZZ3cP6czef5OTva4VDR5Yn52+TSVVWdkd6h3YIOwT1YeEvOZ/2fqb9DBaKGcDzMGs5xtpGka2QQAAACdBnh1FFSwj/wAAF0ID6FcDuIyOEH7HCAcfLPv9hf/rs280nrOgdsAAAAA0AZ4+akf/AAAkrl5pHgU5Y2BOzPV9iV3MJ5utdhA0rUZGJVm2vwA1m1i0WJUx7jP7d3B2wAAAAKZBmiNJqEFsmUwIR//94QAABFUUn6XAyEsM+TMdHf7lx+GqtNyII81MEIrWRxFS9Zt+CnxXj5kvCegA6RcjJ3xQxuQ+MoSememOFYSu4VhTUdxYW8Fkpr/tZU27j4n27uST51aZwt/wChRgVMzMkN+Rw0e/R1cWL8nrKPo4yOXzkcjuZ9fij0gX8BRC4vxKt3yAQpq0OGbHcDigVh0sh2PYFIzoI8AhAAAAUEGeQUUVLCP/AAAX6XXNcTlLV0gDr7bTlNvp1sal2IG9Txex8g7CHTx7Lg62UU3Et7Y0/iiHZvxz2rvjvhcAHiSiR4z+lFTNxgA1MsP7+c4EAAAAMAGeYHRH/wAAJMCakiym0OYfG+EDnAWLqcdK4wy4+uU6Id2780NqzzbCITuKTjj7YQAAADYBnmJqR/8AACWuXjOC5/BkxIqWau9vRlQodQ3mULkP6Hv0UxSWMtScpsZcLPt4dEqm2yNCHuAAAACDQZpnSahBbJlMCP/8hAAAENnYD8V3TAdyVhPOc/XzW/bMg8fPvZzvS4hWcs6bUORXUqWFPBk/bnJJWV44bUiUyy9u45hjg3J5KDe6XJSc+POyMFdmsGyEw8d5M2BQLdnZMPHgh/73SUh3cAcg7fvXV6D26sMS4iglNG2+SpGbrEkqK4EAAABFQZ6FRRUsI/8AABfoYxtChg1F0l0ENoOSA6x911msW92sGQGsuICA0OsrJ4yWLHPxa1zcW9vZQ2WQho77Xw3O4jByqdSBAAAAKAGepHRH/wAAJcCZ3egkeaMjues1+48JLhWOrEw3b/k4zV0CPF8jOCEAAAAyAZ6makf/AAAlrl4ePqim6a6muAzfM/PFYzW83AQq63lioWTC/q1bdDvpR6By9yTGtSEAAAByQZqoSahBbJlMCEf//eEAAARTW8jWio6wXPQCt+4T+NR91izyoNcqhhg+LK4qQZH2PpgCkwSgEJbB47atuFjCvBbX5/6w51/phxUuT9X1ZYkvhB+7WZ5HFF3FdYBvxyBySGzH1NpuA8ZIRZZkFzXvSi6AAAAAj0GazEnhClJlMCEf/eEAAARzUlv3JSUuBn+Gt+ILnWyfIAATLVcVDCi3J5vku1IOYhs00NA850vJ7zM+U9wf6FUKxJl45PAcbtRBOqXCDbt3zptRprsBUKR23hzTJSDzDkeAaKsOUOXnzQlD1aaULy1sIvSfGAeMN9FLbL7v4hb13fsfmeR6hhshVRlPY1NAAAAAOUGe6kU0TCP/AAAYiXxxSYLf5fA+8nhPGIACIWbaJ53vOkiq/eiGMCAlOTdMzgx/gQg9RClyyQa6wQAAACsBnwl0R/8AACWpTMmirVUpGv2rYaUc90zHiCFRZfLoOLPhMl+mZ5ThbjpwAAAAKgGfC2pH/wAAJr70cQ1PKLMgu8+gwrxqyCuNGYBj2BymUJ9KEiRkUrzbgAAAAFdBmw9JqEFomUwIT//98QAAAwLU8AZEFGbQ/V8eKCV0BlZvYeaRdXTIB6LfKJlmO6lYPljUgCsHZpXAhmEw5ryekJnlgwLojccOeTqEYvmSgMPBkhav0cEAAAA4QZ8tRREsI/8AABh/dR0LXm3AABdeHXpAn2kavXwAzXiu2IFtWzSbp/ukd9/M1PIB6XZ/CCDYIEEAAAApAZ9Oakf/AAAmrVvDiQhhQ9et3IbIUlMbX3aaXHsmCRphk6dZqj/Gs+EAAAB7QZtTSahBbJlMCEf//eEAAASTU0lgS/x/y+FgoxCvTW2RGs7mCQss2Df8QcXmnz8rifXl8znic6buAepEZXXoMsARlHh7kB0nSg6u4IFwmSSkVTas1T+82PCknMRxYtbp3jqHPLZnR0F3bWIU3cOWtrDInLxn0xpgYMyNAAAATUGfcUUVLCP/AAAZKYLNtmgd+maVkUMZNVpfZ/yEBLXS7mFCgvNxpplhGFnsH1hnHadRQvES0kGSRbDjr9azLir4klACR9Mfodm5w3tAAAAAJwGfkHRH/wAAJr/vbpz1c46uZbSoqehrM6xLqpKwdft6PS2r3TYoDQAAACYBn5JqR/8AACfZgZFKqG2mX399I1QJtNwTtGgR0XlKRc6YGLSdlQAAAHtBm5dJqEFsmUwIR//94QAABJS3/skf/AkFk6tKOgiQ7N2lHpVKWJpn1KuZYdXNyNh1ZCQUIS0DNvNw3Z/kqdsFAa0U5JJQCw1HuYpnRWd8PbzeTnR6MfeWhs63UmiqwXgU9bbBs2c/YlK1ZEjheC7sEZW0cko7N1hIoJQAAABBQZ+1RRUsI/8AABkodFtCiyMhs+lL5gAHHw3X2kKnSo2hb6JsxZd4T5XND5fhkaoYJsqLsaDf/Yl2bdLwKmVtg4MAAAA0AZ/UdEf/AAAn2pz3k7ahPdXyZEfsocrh3G2YpiUlT46kxj9xYOig4gl5L9gEyshJyU7KgAAAACUBn9ZqR/8AACfEGTJw+Kg+oR5yCYGzhJkMTY5iCaU8vez0Ta9xAAAATEGb20moQWyZTAhH//3hAAAEs1RdNqLx/y8wZm5sBPf9tnPegAKEy61aUqcJ6VuKB5gOZ6ecCzsAR5FfdgTaTS2U/Jk0B+Gn6F99dJEAAABAQZ/5RRUsI/8AABnJfIVSYLstuAOsDolwACSq7hyoDJiBQoI+lWdefWLfih/OgBbe9OdWUX4GMLAH0coL1v4suAAAACMBnhh0R/8AACe/nqCjIP2wgLiJMhaYf1nQlEHyX1YLAmejTwAAADEBnhpqR/8AACjinNjSl6j7Ig7oOnYz0/jjiElYcWQkdOPMUBRIZZUAH2P5mlTFF5mnAAAASkGaHUmoQWyZTBRMI//94QAABLUU+TNqz9yp3LHb31vQuImEpuHFCjjSRnu1YGVIIKnIpJGCoVSQATN7XLr1DHE3ECkbS3DLYS5HAAAAKgGePGpH/wAAKOKcn/SGPzVfyc0AJZSZXffeSUmKGBD1FOzoPHt2MMbsWQAAAJpBmiFJ4QpSZTAhH/3hAAAE01TnNslx/y7d1iWQVeQ0MGlolSnii5xQh37qwP7A3cimYmBI2cbknMOgpLI/VK1ZQB0RadQxhg6D73PzNVRXHuRvD58Z1Nxv9NNvML/PHrJjhxCp/J1ANob1f2p5i7cnYZ4q19lB+Hccd9dM/ZQK0egD4ndTbyjDNLXelvQlNHJcLJIei8wWOR6AAAAAV0GeX0U0TCP/AAAaaXyFUmC2aA2VSFDQjYPcU+gBeDhNdGYGgNk6sjaIPvLmiPOKVqBzw/kXz0atCHsunEjqIN2tNjkzZMrqYughrcre4/63NcIEmNaOEAAAADkBnn50R/8AACj5tfKaNTC/zRsg/zkOy86FFcQIW9oclDArTNcxPM5mIA2X3jKEHJFWZHAs42ze8CEAAAA0AZ5gakf/AAAqApzY0peoH7+4QAszVgfEroLcWrs2KtFrmbruxZdos+gOa7mWsNwEX4J+6QAAAFhBmmNJqEFomUwU8I/94QAABNNOEOfQd95+iR0CXRXQk2ELQiYSjRAIbqhpPoaxcA0TThCNShb/GdDcqlgGY/nsOTiQB/WvIPH4k9aS5VPv67So7lJYuRJBAAAAKQGegmpH/wAAKgKcn/ST49phMSBXbqRxWXlN7SWd7qo242a2TtjyQXHAAAAAfkGah0nhClJlMCEf/eEAAAT1lOc2yXiBc4r9T6inTjmx/N9tVOBsdXThU/BlkwRuZBVPdgmjfqCeA+YVARrGrClCuyPbjcsSwBXWrvSeKqHwvyviIY9kk7gMp6KOgB2+S+6bXkDi7426ofdP3WJgdMAnZvxlJXkXbuyqWDvTdQAAADpBnqVFNEwj/wAAGv+eZXOPkuftJZAAbpT/FTJ4/m6T5hZpfEb0SdtvsB+47wdBSf/hGHKAecVKvfWTAAAAKwGexHRH/wAAKz5YkWPIuTg55CKAas/wpqqjys2ykklJePTkpJUZ9cwZvYcAAAA6AZ7Gakf/AAArIpyf9IY/VqhiqLxV/mVm1zsm8mMn8gZEaSKoRCHkL/nHqTjTlyvsBka98ObC5tnLuQAAAHhBmslJqEFomUwU8f/8hAAAE0tlkdoqBKi+lK6teFtWMqJSJS0xWiWyzYrJ2aEPUrH+meFgChKA56EtkGXWuAzVBGqJShD4WbB3jJ3E2F6EREmjvBMEz0pkkYL6kJjpKD4VueZOdKQ8dDs5ZO9CjbdCTf//pDKTFeoAAAA8AZ7oakf/AAArJBkz+a6g7I/nVIjK/WDmUuYL7peWXk/jbFUGPgg5voIDOMGsHjqLqo945zd2BzgjjGWwAAAAgkGa6knhClJlMCP//IQAABNbQHeapIIAc9YFlSY7Hm4UdLXi3uHrjDi34KTgXijkk6kQALckPXw7mfbDQUKigFpd5zo1YrX2Q9tWwGwgKxVcZVfPO6fM2Vg+FYLNSHB1ry//JvXQUFqVd/BDgHZ0zhCL3dRXxCl8GlPSJvuKOZYNh0EAAAB9QZsLSeEOiZTAhH/94QAABRl/j/MmX3f4rx4cdMHEAMwegrGIhMo0xTXghwCvdTLmFgC275U9Zo5OotkpwmqZXoPZ1QbjVIwXuPsZILEs4btDnKlg3iX3J8i7cG/klBZ74S4g1AUJBMUcW5prkyqP93lHkE1HTxRgSZ4QrcAAAACLQZsuSeEPJlMCEf/94QAABRmT1DoYGinzBELgAG+0O+VboAszPXSoowOeEdq7deElmXNp773vP7AhGAHHT21SnQ6NYwDlx9JPdHNnvk2YDQfNPttub9yKUQILFhVZwzphmDG7IS8bYia0NaErT06OPeDI1lFdTAp62zA+o2kc8TgK3VdKDwBlDv76HQAAAChBn0xFETwj/wAAG6hjGeVuoOXShVo2kISrsU7MfKJROH8jWZHtQnzBAAAAQAGfbWpH/wAALEMOH/PSpOABdDwKeejkto2Z9292TtxtsCcxnfD6bHoczHn8bHVassnd8j2wsiQv4/BjQ44yvMEAAAB/QZtySahBaJlMCP/8hAAAFGxzVBgAGjHOGTk/5WwBDxLMTWh23NbTaXy7uSqDV2rREuyKxjZdW19zcgL0ddq+8qUHSVY6j7eRYO8W2QpsAzZOsH48XiQTaajo9pLaddvspiKrLyXkGAyqMSUKS+KD9PG2MmPymhxApd1Xce6aOQAAAFJBn5BFESwj/wAAHEy6ZILELN4AFxnpOVXHlLYrZ4vH/ZNymlCRL8ayYI3y+IuGItLbFid4gAcx0oHHfm2NTw1VmPW91MwfDCPjrrbIR4JgKbbgAAAALgGfr3RH/wAALX4y76wjObZK0BvNiu1ycQi9oSm1J+Y98cNrJkjLd1BMMY49+XAAAAA1AZ+xakf/AAAtSCPbOZQLezXvGgdCHF+Dbi2zLHJpzhp1zCXsuWEEU0ecL5CTuTdougVUatkAAABWQZuzSahBbJlMCEf//eEAAAU/py2vYAGkVxTHk3tui7zG6hBzCedXk/dbOKZGDik7L2g90jRI5nsy8MQmCvxqQ3FqTHPU/eIO1aXH9PApO1O1nW4XYwwAAABdQZvXSeEKUmUwIR/94QAABWGV+2xCUYGu6AAN1j/idb+sZ0UA3gfrXnKDpWSdpQXKJWKWllxosh1AxgcswBiM/sJ8w/i5nDk5yyEeJ2kT9/U5sC97sr+UeCujhBElAAAAOEGf9UU0TCP/AAAc/KxkgthlZn3vktheRYDQxyMRTuXWA9ftDeQRaT+FCOI0CFYgADnymMT18wdJAAAAMQGeFHRH/wAALpm130m6n+1OHNtz3zGdQJQAkuvvI84vU6QQssedbxmy1M9UW/La+PAAAAAiAZ4Wakf/AAAugw4f9IY/NV/D63tEY1JFU5wpytXCTlHVMQAAAHVBmhlJqEFomUwU8I/94QAABYWQNphYfTICegeQ6nFOIeFpns/z2reRJVu9VoEPBJ5tXRTvdv/7I0IhdPU9hkDonrIBisGzI+/+ovVmw8CINT65kIN04NRCTXDknR7R6cOGhFlIzhHmYg35lOneYlvL1JMZDckAAAA1AZ44akf/AAAv0iRSspd0Ka3zNDj2fcHgBd7FCPiF36prU9bD+QUQCejH8D1EDVxL6CQvwbgAAAB7QZo8SeEKUmUwIR/94QAABYQTi7q0kZIAHt2EHF5rnWvBaa14ieI3LYdjUpIxn6Meo+5Twf2lnj58cTUhv1+Mlb3NTnpxLNGmGegKDJBqrfM6n/ZpvQJW7rjGeBf2iKEPH//uqi1bdTTPVhoCZ5ODABtRZW/dTSO6ocJJAAAAK0GeWkU0TCP/AAAdrLpkgtObYpnHe5UP0kHuwqi70B+sS3PonQKka2pFBeAAAAAsAZ57akf/AAAvt58aT0W4oASYyJ3aQablCGA4RFCWLAFY9arv0xR59mxHwXkAAABNQZpgSahBaJlMCP/8hAAAFhTRt9+VBHBeTKAIpl6VqElpkqhh1MzmpXMnEBfipe/ZU166W75ffcWWKTFNBGWMBAr5vZouFkH9GoWWTV0AAAAyQZ6eRREsI/8AAB5crGSC2GuxY+EbfrDeuPXs08LS3GnGx1mrta3Dq+pH0n5emm8zdi8AAAAwAZ69dEf/AAAxEX1TsPVsmwjKFqs4cvHhX6AEl0kg55ckSqnLWVmr1ncg2IWvPHQgAAAAJwGev2pH/wAAMPcYOaOaktN56AIY9/XAyQccofhN31bBTWH7YLULdQAAAD5BmqFJqEFsmUwIR//94QAABc2IMt/pSD1fJsAE1r+dCh3xt+Px303Ldy1MML2oniMMvIx5oMxmfgJnBf4VgAAAAEZBmsVJ4QpSZTAj//yEAAAWpMhABReqNWiHyaGaeIMiRooXZK8TmBWWl9XIc0ulzHBfknXXBJZeYbfLHdJ3qJdxTRhNwKUTAAAALEGe40U0TCP/AAAfFxSVK92dw7nYe9n2WU7PK3cxtHBNMgkhaWmVe/1Rj2ggAAAAJQGfAnRH/wAAMlHiVRH1bJq7JPs6Bmu8zqNiFEDmIgPgye2CnVkAAAAhAZ8Eakf/AAAyPto1WY9v41p7mV3gheo3LaSAPFqKDpr1AAAHy21vb3YAAABsbXZoZAAAAAAAAAAAAAAAAAAAA+gAAAf4AAEAAAEAAAAAAAAAAAAAAAABAAAAAAAAAAAAAAAAAAAAAQAAAAAAAAAAAAAAAAAAQAAAAAAAAAAAAAAAAAAAAAAAAAAAAAAAAAAAAAAAAAIAAAb1dHJhawAAAFx0a2hkAAAAAwAAAAAAAAAAAAAAAQAAAAAAAAf4AAAAAAAAAAAAAAAAAAAAAAABAAAAAAAAAAAAAAAAAAAAAQAAAAAAAAAAAAAAAAAAQAAAAAJYAAABkAAAAAAAJGVkdHMAAAAcZWxzdAAAAAAAAAABAAAH+AAAAgAAAQAAAAAGbW1kaWEAAAAgbWRoZAAAAAAAAAAAAAAAAAAAMgAAAGYAVcQAAAAAAC1oZGxyAAAAAAAAAAB2aWRlAAAAAAAAAAAAAAAAVmlkZW9IYW5kbGVyAAAABhhtaW5mAAAAFHZtaGQAAAABAAAAAAAAAAAAAAAkZGluZgAAABxkcmVmAAAAAAAAAAEAAAAMdXJsIAAAAAEAAAXYc3RibAAAALBzdHNkAAAAAAAAAAEAAACgYXZjMQAAAAAAAAABAAAAAAAAAAAAAAAAAAAAAAJYAZAASAAAAEgAAAAAAAAAAQAAAAAAAAAAAAAAAAAAAAAAAAAAAAAAAAAAAAAAAAAAABj//wAAADZhdmNDAWQAH//hABlnZAAfrNlAmDPl4QAAAwABAAADAGQPGDGWAQAGaOvjyyLA/fj4AAAAABRidHJ0AAAAAAAAhrIAAIayAAAAGHN0dHMAAAAAAAAAAQAAAGYAAAEAAAAAFHN0c3MAAAAAAAAAAQAAAAEAAAMYY3R0cwAAAAAAAABhAAAAAQAAAgAAAAABAAAFAAAAAAEAAAIAAAAAAQAAAAAAAAABAAABAAAAAAEAAAUAAAAAAQAAAgAAAAABAAAAAAAAAAEAAAEAAAAAAQAABQAAAAABAAACAAAAAAEAAAAAAAAAAQAAAQAAAAABAAAFAAAAAAEAAAIAAAAAAQAAAAAAAAABAAABAAAAAAEAAAUAAAAAAQAAAgAAAAABAAAAAAAAAAEAAAEAAAAAAQAABQAAAAABAAACAAAAAAEAAAAAAAAAAQAAAQAAAAABAAAFAAAAAAEAAAIAAAAAAQAAAAAAAAABAAABAAAAAAEAAAQAAAAAAgAAAQAAAAABAAAFAAAAAAEAAAIAAAAAAQAAAAAAAAABAAABAAAAAAEAAAUAAAAAAQAAAgAAAAABAAAAAAAAAAEAAAEAAAAAAQAAAgAAAAABAAAFAAAAAAEAAAIAAAAAAQAAAAAAAAABAAABAAAAAAEAAAQAAAAAAgAAAQAAAAABAAAFAAAAAAEAAAIAAAAAAQAAAAAAAAABAAABAAAAAAEAAAUAAAAAAQAAAgAAAAABAAAAAAAAAAEAAAEAAAAAAQAABQAAAAABAAACAAAAAAEAAAAAAAAAAQAAAQAAAAABAAADAAAAAAEAAAEAAAAAAQAABQAAAAABAAACAAAAAAEAAAAAAAAAAQAAAQAAAAABAAADAAAAAAEAAAEAAAAAAQAABQAAAAABAAACAAAAAAEAAAAAAAAAAQAAAQAAAAABAAADAAAAAAEAAAEAAAAAAgAAAgAAAAABAAAEAAAAAAIAAAEAAAAAAQAABQAAAAABAAACAAAAAAEAAAAAAAAAAQAAAQAAAAABAAACAAAAAAEAAAUAAAAAAQAAAgAAAAABAAAAAAAAAAEAAAEAAAAAAQAAAwAAAAABAAABAAAAAAEAAAQAAAAAAgAAAQAAAAABAAAFAAAAAAEAAAIAAAAAAQAAAAAAAAABAAABAAAAAAEAAAIAAAAAAQAABQAAAAABAAACAAAAAAEAAAAAAAAAAQAAAQAAAAAcc3RzYwAAAAAAAAABAAAAAQAAAGYAAAABAAABrHN0c3oAAAAAAAAAAAAAAGYAAATvAAAAjAAAADkAAAAtAAAAKwAAALEAAABDAAAAJQAAADMAAAB5AAAAOQAAADQAAAAbAAAAoQAAADQAAAAvAAAAJgAAAHYAAAA5AAAANAAAACgAAAB7AAAANwAAACEAAAAnAAAAmwAAACwAAAA1AAAAMgAAAIkAAAArAAAAOAAAAKoAAABUAAAANAAAADoAAACHAAAASQAAACwAAAA2AAAAdgAAAJMAAAA9AAAALwAAAC4AAABbAAAAPAAAAC0AAAB/AAAAUQAAACsAAAAqAAAAfwAAAEUAAAA4AAAAKQAAAFAAAABEAAAAJwAAADUAAABOAAAALgAAAJ4AAABbAAAAPQAAADgAAABcAAAALQAAAIIAAAA+AAAALwAAAD4AAAB8AAAAQAAAAIYAAACBAAAAjwAAACwAAABEAAAAgwAAAFYAAAAyAAAAOQAAAFoAAABhAAAAPAAAADUAAAAmAAAAeQAAADkAAAB/AAAALwAAADAAAABRAAAANgAAADQAAAArAAAAQgAAAEoAAAAwAAAAKQAAACUAAAAUc3RjbwAAAAAAAAABAAAAMAAAAGJ1ZHRhAAAAWm1ldGEAAAAAAAAAIWhkbHIAAAAAAAAAAG1kaXJhcHBsAAAAAAAAAAAAAAAALWlsc3QAAAAlqXRvbwAAAB1kYXRhAAAAAQAAAABMYXZmNTguNzYuMTAw\" type=\"video/mp4\">\n",
       " Your browser does not support the video tag.\n",
       " </video></div>"
      ],
      "text/plain": [
       "<IPython.core.display.HTML object>"
      ]
     },
     "metadata": {},
     "output_type": "display_data"
    },
    {
     "name": "stdout",
     "output_type": "stream",
     "text": [
      "test/ ex1-episode-450.mp4\n"
     ]
    },
    {
     "data": {
      "text/html": [
       "<div style=\"width: 200px; height: 100px;; border: 1px solid #FF5733;\"><video loop autoplay  width=\"200\"  height=\"100\">\n",
       " <source src=\"data:video/mp4;base64,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\" type=\"video/mp4\">\n",
       " Your browser does not support the video tag.\n",
       " </video></div>"
      ],
      "text/plain": [
       "<IPython.core.display.HTML object>"
      ]
     },
     "metadata": {},
     "output_type": "display_data"
    },
    {
     "name": "stdout",
     "output_type": "stream",
     "text": [
      "test/ ex1-episode-500.mp4\n"
     ]
    },
    {
     "data": {
      "text/html": [
       "<div style=\"width: 200px; height: 100px;; border: 1px solid #FF5733;\"><video loop autoplay  width=\"200\"  height=\"100\">\n",
       " <source src=\"data:video/mp4;base64,AAAAIGZ0eXBpc29tAAACAGlzb21pc28yYXZjMW1wNDEAAAAIZnJlZQAAIv5tZGF0AAACrwYF//+r3EXpvebZSLeWLNgg2SPu73gyNjQgLSBjb3JlIDE2NCByMzA5NSBiYWVlNDAwIC0gSC4yNjQvTVBFRy00IEFWQyBjb2RlYyAtIENvcHlsZWZ0IDIwMDMtMjAyMiAtIGh0dHA6Ly93d3cudmlkZW9sYW4ub3JnL3gyNjQuaHRtbCAtIG9wdGlvbnM6IGNhYmFjPTEgcmVmPTMgZGVibG9jaz0xOjA6MCBhbmFseXNlPTB4MzoweDExMyBtZT1oZXggc3VibWU9NyBwc3k9MSBwc3lfcmQ9MS4wMDowLjAwIG1peGVkX3JlZj0xIG1lX3JhbmdlPTE2IGNocm9tYV9tZT0xIHRyZWxsaXM9MSA4eDhkY3Q9MSBjcW09MCBkZWFkem9uZT0yMSwxMSBmYXN0X3Bza2lwPTEgY2hyb21hX3FwX29mZnNldD0tMiB0aHJlYWRzPTEyIGxvb2thaGVhZF90aHJlYWRzPTIgc2xpY2VkX3RocmVhZHM9MCBucj0wIGRlY2ltYXRlPTEgaW50ZXJsYWNlZD0wIGJsdXJheV9jb21wYXQ9MCBjb25zdHJhaW5lZF9pbnRyYT0wIGJmcmFtZXM9MyBiX3B5cmFtaWQ9MiBiX2FkYXB0PTEgYl9iaWFzPTAgZGlyZWN0PTEgd2VpZ2h0Yj0xIG9wZW5fZ29wPTAgd2VpZ2h0cD0yIGtleWludD0yNTAga2V5aW50X21pbj0yNSBzY2VuZWN1dD00MCBpbnRyYV9yZWZyZXNoPTAgcmNfbG9va2FoZWFkPTQwIHJjPWNyZiBtYnRyZWU9MSBjcmY9MjMuMCBxY29tcD0wLjYwIHFwbWluPTAgcXBtYXg9NjkgcXBzdGVwPTQgaXBfcmF0aW89MS40MCBhcT0xOjEuMDAAgAAAAi1liIQAJ//+9bF8CmrJ84oM6DIu4Zckya62IuJtAMABjhSAAAADABos3+LmQEo1L4AAACEgBqA+gyg8xExVioEsGJOo4t3JVLF7Zb4G8/9ww8ihBeTaXuBl2iNPhneYx0ImOUrpMoW90rbAi4K+44H8ibCxa1A31jj29UhAqdOSr9an2PwD42FikQvteGvCmTZEhaISMpiLVP5haJ12rzGBvc3S4AdMuoXIMu3IIPGJxZUNLlm02B98Nw0SyQwk6FhwM4g0AgY3xNLzt+zRBAwLAh9j9stCKuhqIjdAwsQNi5hQi9ih0SfRr28wEH/D1NtBTgMQsNA7uWnViWLAC5kLRLuI3qRbn4gpvrAQnnir8yNxqyaMJFMhCC9C2WfrgItPL5649ZuyAlMC/tVhlKa4KkkfI1oqdEIgQONpg7kA7Q/TazaolgOohV5DJ6BWZ0cvhMnZYQ2GEmPBc7itnn+Q2/s5KyHLXMg+9XW0NjPiJXqr6cutvcqqb1JISXNrv2c6ulwCDZ2vNW0gyhr71J7Jl/8AKPrXizquXtWoNK5maIsXbbAmefetOK3ZcSJwwZeAEt99FWpqvPKjKh1V44ZRJ/3Nbo/yyS+E+KlHMMeFXIrslx/nwcHJOfMaV4sUcZR9Hib9Y5zTmrnG5wAAl94Ab+2XzUttZchXGuYEu6y6HvMvKzLf0lsYIEvXieCTGeFV81WWx/He71FUaY6EAWDjKBA0AwAAAwAAAwCegQAAAFNBmiRsQn/98QAAAwKfXSNIBoKLckqw3eiaJvVbDexDRFo3uYWPM+t+eHRKX8knhp59M86l4iqkpYOZc3vqtT0V+BFkg5kW1Yj7dvZmafSB4eDfEAAAADBBnkJ4hH8AABa1X02Tq0c/9NKkqwCxU66uCAX7+EgBKvsL+8PSKWEB9yEu8Z7pHPkAAAAqAZ5hdEf/AAAjrDlcF/pQsD+JinYd/mKjGfQYq5DfK4a/xWfNtJ/BID/4AAAAHAGeY2pH/wAADdSeFsWKo7rce+9CvsmcE8EqQVkAAACwQZpoSahBaJlMCE///fEAAAMCobfKBgWgDby6UmIsjpeR8XbzadAOQbpVP/bZW3nixFyQiCZa3RN+6Pp/7sALamlO+GPZ6ZbRf6yn1I2Uu15vd1aFVDboCPQHohMoZxwok8dKfQ/p5nXgnAtXlz/o7joNqRmBl8YnW+wwu/hKFcTxWyAcaEBS7cNK34lXDXze3R1PiAJ5lxgTbA4RXH9dmgBtepYliI395i6FaY6qiQUAAABNQZ6GRREsI/8AABa1X09WA4aXIljB3rd+jBIdGYI3zwdWP2u0QcxrNWc0tttpPRFj6xKHF8Q4bwowAUmEIC3BN48NtAV+J321gd8EWZUAAAAzAZ6ldEf/AAAjwJrMDwJtAEhdy6jNOgA/tagrJ4klqsfF2a65lv4v046EyIQ/+RTS6xOBAAAALwGep2pH/wAADdSunETthcCPHwLmnoPBxiVrMbqFfZpe1ugCCaSfEPPvCn4aBEHJAAAAmkGarEmoQWyZTAhH//3hAAAEO6JqcPELpNzvm4bMFfWHRiB1oNORCh+hAw3GrLwA1HLt+LYkI5dNqh9NV0xu9Iap9gf0JWHTvyqatg0HR9mbuPdUZqjkoTX1EGRVuRpXMiKdGHPNgsIm0q7x02cZvnb3PUGBW0uirSH9BTKKKqqi1y6niJBZqD77/urdbvUopKIb3etTq86HzRAAAAA/QZ7KRRUsI/8AABa1K0drHfTy6RYxPWAxGLgH/2VQTg+B1ZVPB66Qt/HepGgr7NfVZnxsO+/E23q0q6kyVflBAAAALAGe6XRH/wAAI8LwizBILgF41uEjWXF0LAN5swAvfABNJSGEnGJoo280ebtoAAAAIAGe62pH/wAADTSfmDuj85P884PFelwLkGFAATlnktuAAAAAg0Ga8EmoQWyZTAhP//3xAAADArD22GeL/ILuI7KOvlV9+fynmJ2kDrcOgJmSzHDRZv2MX56xnWCojtGoNF1vwD245r7cCAWzuVn98+ppKvxdCIfBuI2G1lTx4h8n5UVlMkd7joVpZpLG1I3VpcZM1UolQewtVL4EVZ7eAfRvxsIgWABZAAAANEGfDkUVLCP/AAAXTD0uY0ghTLA0OHmOnKlqD7zIQuDfrnyU3EcB92GGefDdHrornIx3ZXsAAAAlAZ8tdEf/AAAjrDoTCUbm+rkIOpg3dxfBbM3klGw0MrbuWGkhcQAAACcBny9qR/8AACS/BCb7OXLSS7Jq3Qa5btvCwPQO44NNR/UwE1I83+AAAACaQZs0SahBbJlMCEf//eEAAAQ0tMa7gEIYBlMkkOU5v9nXz41AmQImTfBkqcNpCAgX+vEU0dackSyMoJOYaoR2o2IV7DwIXwBQuIOqYF/DotvNa7L3fHudgVnN3e/Uie19YBfuIT2JeWGfIJD8STUgqKso0MvQ8LLjgX1u9hHfKbfd4SOH85RP2XPM3eCba6sCoKhutAA9LfEDwgAAADpBn1JFFSwj/wAAF0KsHqLUXZz4EvN0IG6YFvXJKo4mRwyR+GMRgeTN9s7geWJIsIhzCmnpl8rIDQAdAAAAGwGfcXRH/wAAJMMXaKk3IJ5rVWhCN2AqN/yk4AAAAC8Bn3NqR/8AACSuXjOBeSwAT7V9jU/Sbvn2Noto62LA62JLjU6AUuHzXoa6XqG9mAAAAGlBm3hJqEFsmUwIR//94QAABDNbs9kYQGqRchkTxt7QqvJ1nG06qQZef2BMX4Zvg5Q4BMv/zcCnujS5MfRWz7QGGZ3bJIbC8uv54COGfRW+eXSoF0lsv3jrchfqYzb8oBtTpHeMiLhUD4EAAAA5QZ+WRRUsI/8AABdOYIsY1qJ+KInkqXkJnWxd8qtUXF0n8FJDcbgpD09AwMh7Lp2U6eGygYmM73nwAAAALQGftXRH/wAAJMMXaKk27lDYdhgRGY2xYFCrT7YNrF0BzaKRLd/mEO1mIdbZgQAAACUBn7dqR/8AACS9g4HKwmo638KjUbVteOe+UZhQrQGiFFJxwa+zAAAAgUGbvEmoQWyZTAhH//3hAAAENRRFDWoh/+DFBZTtjegC0XFHefoANFTt3ZbV05IRrCjawCBU0rCYXeUYqkZhV+nnqkmFun9Hw8+aZGrxEkcuY4rgLtVrgi3oTgRMXyp4Y3d2jxIzEnhuCxEnIinrbbyPyOCfU4LP6g66w/FNZI/WcAAAAC5Bn9pFFSwj/wAAF0KsRck0sUT6Pw9QGUFwXeeN99VvdUNFvNdNizvlR7xXfFhlAAAAJAGf+XRH/wAAJKnqZ2rcLwDdbgDTqPBLTWQjRGJsQaqk4RUckAAAACQBn/tqR/8AACSuXjOBeUO8K61hnA03t/AjZtSiBnhssJC6EqEAAAB5QZvgSahBbJlMCEf//eEAAAQzThDoYGc7r6HD5/B0YY8QBCXu2iUqMPTMdX/K4RrYcO/YLcmyXNY8q9Qn1dPrGMQaan8IeZAj5UEHFP7OJBsvDNXoFVKMl/y2sC7ZOyE9wc+P//VfRKC63GWGSGw+X3QOCnPpUxd/9wAAAD9Bnh5FFSwj/wAAF0ID3qvng4B3Zvjxf0sU5GYoCQNXzM9Lvx+2gn5GAiW6B4bYe6XiQrqVouVmeVfQRu8ZysAAAAAxAZ49dEf/AAAkkieZ4lvHIx4MVjm0xkFna/TeTxEDczFsu26JhYNvoqDO/quZu0h2wAAAACYBnj9qR/8AACStXItX9Y1dr/D+/i2yE8gJWT6usMpMfoLLslDgQQAAAGBBmiRJqEFsmUwIR//94QAABFNODL1ujsZtTwNOnN5Y6HFl5w1+xdgqf/mot4Z4MdwY/0MNx+GczLdaEFjqrC8GXaSAhCA5sZxV5gDKU49ISVrU+DwKettjlTfK/VIp6YAAAAAvQZ5CRRUsI/8AABffQ9Q4C5HmdsvnsdlBKt5JDA+FdR5jFrTiM047ii7ejq4gBA0AAAAoAZ5hdEf/AAAlwK27BDHdLvpCNphztafpqH2wcKRgHekbA70y0fsPcAAAACcBnmNqR/8AACWtW2Zw3zqm6vpumDNezyY+NepsOc/cPxKd+VSeRwUAAACYQZpnSahBbJlMCEf//eEAAARWPYxlh0RALBzSEaRuKWPaPGDQHjot5NB23d+mTrCfq+P+MvhB9WAolhsisiweO9mF5uSOA2skyFJui+ZXJKcAf9p/xJfSWhHX2ZpsQAxtW9O/dHF+bhs9P7P6pubgChrtdVq990gZ4KuCvHT3dCYhiR+8NslsyXFLzATall5EvxHCr84hzcEAAAA/QZ6FRRUsI/8AABfoypRkkANby428Xe+V5QTkKSNlWInEMS9b9BxBBdhVTyaxk+u4htHuFALtJmhH/GcNoXJTAAAAJwGepmpH/wAAJb0ml3D5npj/uHVk5HYivGrdDMmeZgGwfYm70PuHBQAAAGNBmqtJqEFsmUwIT//98QAAAwLU8i34fDP8AXLSUKUEN/UuVcx1k+tdkxlhX8/bg4gg9VQ4eHnN6P3Bem3TomAI7OarLCRAWmmZZKkGhB4b+IYjXMIqdn3jX+b6CMDBK241KyAAAAA1QZ7JRRUsI/8AABiJfHFJgtmOAc2iw4BJ6EsAIDklyfsgio9e44h0AJaw7mVR/gCAdLNI4fAAAAA2AZ7odEf/AAAlv++Uwse1bfamTLWVk7/vwZ+fAsluAarff9Nt6BEwACd3JbVCp9pz14ZF8JBZAAAAJgGe6mpH/wAAJr70cQ0yIBuqok+0E10JFRzrlWiKcF5qyEh0DNVmAAAAvUGa70moQWyZTAhH//3hAAAEc1PfTrANXrgg+LhMDxiSARnD9s27VhLCjCiiPyfFqgnGYmZWC3+x1Xb8gvi7ssiyoD9UbD4ZkibOlwV9gkM9jIAc5dTuW/Wz9X8MZ8jBgwGzJuH0YWvkOJLujmvRZq4evpNwxCi1JuiFnYeDU1dw/lJE3polJHD1p3I56D7ZDVaKBVWNdCrHGl1cEWYc3OtlJgdC7ADb5a/st4jhz+6S9IMbCda1HmuCQRltaAAAAD9Bnw1FFSwj/wAAGH+Fr0LXn7n7gfBWBP4SqGqHVlN4lLCdtBuyUcLxe3huQ3bpvQUcRQEPbASed9U9b5RWVYEAAAA+AZ8sdEf/AAAmv+/YMVqNZ3EiJAd0okQsXzJpg/4fWfC9BYHmrQ5CcksnTJm35EWj/h8n9YgUv7396GsTDp0AAAAmAZ8uakf/AAAmrAoJntb1IONZT4Z3vx6jDCIG10+0pN2NuPChunEAAABdQZszSahBbJlMCP/8hAAAEcuD0EahS/xDui1LZld26qT1Bt/yhVMCHIWJbkIVUw0k5DwVUja4BvARO8IUCI0GAAwcDw5K7DVasiTItqgJ7H8chvsGaYG9pxUobpuaAAAARkGfUUUVLCP/AAAZKXxxSYK+/NIiSwiNvo1pNWL4oT9kar4OkhGEdFSTRVdlBYxwp4dnUhlYUSMqAIQfKP6xy9cIxjcheDgAAAAnAZ9wdEf/AAAmv++UzT0mqiRdhdlEeLdjbX6/pXSFAVMo+jWMiPkhAAAAMwGfcmpH/wAAJ8QZl8kcEIWtpJJOa2VKJt9ttgp1vc8ZoSLv03tTsY50shFbc1u1tKRNlQAAAFdBm3RJqEFsmUwI//yEAAAR01u/aDEA9mnxSkA8g2M+Ihl1hYzIUXbpQth9W4YNX0sSZAySKHrruZfzR0Jj9B4svYGnljGaSbJywNRrl/nMyZ1WnQXnlLAAAABmQZuVSeEKUmUwIR/94QAABJNbwKrJBC22mhbaHTmt1qPZFDm5A8ucuXkTuw8WtiEoFCtKQSOzczD96cKxijCKJBIAbx3BdoU4/r5lG8p4Sgb6zHBzJZEM5JRtepJULGi5webJQe+xAAAAkEGbuEnhDomUwI///IQAABJLdzCaxH/EZHK6MqrFjRPHdGrMr4iRpWq3QG1TMv7mSVODc0FpbgEgbXtUY94xS5suc5NNM44lY7kDBwaZPe7s6V9zAQNczGpdAplK1QL54e7AZpwYrlzr4dxg5G/N/RCD722cqyBX+rvPTgjSse+MPPW6i3lsineQaemXVxSR0AAAAEtBn9ZFETwj/wAAGcmC7YVQTOEk9QOOVU6SLq3YHOeRYskHiWV9aLYcvXM+Vnt9vvIka/1pEXL9TUDQ35gm8Scsukp6CVtNzWgZZ8EAAAA6AZ/3akf/AAAo+Wz7lemnq33Il1cANRdQTh0gAFsCkfjlODnJwalGKLZ8DPDXxDb1HqCGAE23WqhtlwAAAG5Bm/lJqEFomUwI//yEAAASUbQB4Za05hAG7BC/Bxfy73qJ6OpqI/RZhdCCvXvsXWkiUfuzQqNvSf/mmFDtmEkxNZmpjL4JZDtT3koda8Ernv20VgltP9bu0qxuUmS8IG0ClMWo4NQrR0CkAIBlIAAAAFRBmhpJ4QpSZTAhH/3hAAAEsz+SyFYgBEuAiGS1wiCL6LRA8cknPOWCY7QADZWQj6Dfy6kf5mRxmp1JrJVUCO3SJQRGD/2EbpUJxGdiZgpuSGRPgIkAAACCQZo9SeEOiZTAhH/94QAABLZCSqixNUAJz/aJhd+NQBOxAXMXQwrqO7xU3ssW43M1trwSZfEkmjwMc18osfMkCsgqJrjo3wwdD2iYEgbbfs3fL1JLAYDDiOr0Di6mEDihyWoinrbQ59AewxFyHwKvHhjmM90ogPzkmSeCYr59EYDtgAAAAElBnltFETwj/wAAGcibTYgwwh7dRTNTIwQ40lzc+da2CGUKbfJnbxKG8Y16sYk0XcqcEA7oCUM5qWcr7PYABCcfq/qXUuDv2N6BAAAAJQGefGpH/wAAKQMc+Tvs4oDr8gdpbBWs4yrpokcaShUHULAIaYEAAACNQZphSahBaJlMCEf//eEAAATZWOTNCb/5f2MxuWMl7f0uTloPaIzarDBKf1b7FpU0ajTDflZBlXHhyFCKEciPCnkIEesPgDwx35fdTkB0yPovnBMP4m4od2Lu2Qu3QMkesYQLPgXAo6BPu9vlmEyMMBINLBPhNIQ812h5k07GBz5b92qZfP7w1H2CZWDtAAAAUUGen0URLCP/AAAaX5IHQthrHrRHgVsHcAFL5CUpAXC+jx7b0iRbsMNjSvvFur+gvrrraovTEPBGOEaVe+B7MYYQy02JrPw0vVE4xCRi87UwIAAAADsBnr50R/8AACn+u92vf1NO1+PeXX/zhNmLlq+ShGXgAC2MMAUQsmma1wD9mZDyiRjvaLw2dtKGWEJ60wAAACgBnqBqR/8AACnoOrD43aEhPV5RHGXqkvAjOzHl6Xs+TJbUCW3DCGSAAAAAaUGao0moQWyZTBRMI//94QAABPWOC/ck+5W2f4a3uQEIdlRfmR/KXMl9U1Q6oAPlO/W3fg0LJfrSLiawazF27RuRgLUw5q9viXjqqvMgSG5hohs/5yWFX8k3D7pUpHwXGXV/SPB9RPoZZQAAADcBnsJqR/8AACs5a31N4eZDy9C2K+kr6uf2Q4zmr/1LSgBJfkn8TLx4dwKRThlQg1Qx6eRfsGHwAAAAdUGaxknhClJlMCEf/eEAAAT1k9M2fZLhafRPuDhc0/gAmIn7QJJFM4mePGhJoWS22bdmwszyimberVq48sPfL7+kZroaabS9VthAvlcajAhes4y9nLPspKwGdrLGxl+unpowlLD7gsN9y3Ke4A7Noj7jwiYbgQAAADFBnuRFNEwj/wAAGwhjG0KGMG+cUQ2Q/CbcRzo+FAHhIU39E9Wbhdffuo+PSiDLl9OVAAAAMwGfBWpH/wAAKyMOH/RbbxbjmuUx/iuuXlSO7e3XmIoTv1W2vOQiZNVxlFMOoYAH01hr+QAAAE9BmwhJqEFomUwU8I/94QAABRmODL1uUHhqxuKnEwFINmzPSS8NDYURcQRvUxQOOsSuZe1xoYhZzlc2akSjcDUW1kv+K7IdMvyH6UlYo1AxAAAALgGfJ2pH/wAALFlrfU3hx+wBa3RcbXm/8F1pencnw2uIcRRzPXjTpnLMMxgYwIAAAACGQZsrSeEKUmUwIR/94QAABRmT0zZ8eIAeCSPfbVAAiXFTb9AwFxEgCWZRTTzk9rLGpekcFeA3CyJyI/U3DJAQca4HrwAcaOfa0CJPPIy538f4zrrM5l24XH1mA4zOHVmuP72alTJilwo8PlkL2F0OGHoExQRBem+XI5yY+KTimoL9hDrVhKgAAABEQZ9JRTRMI/8AABuoYxnlaJQegSWHiG/ziNrENgQYhFYsCpwVlCStj/2Hycl4P/LKohX7c3DeIUpjG3yYWAQbR2ywVbEAAAAtAZ9qakf/AAAsKDqw+N+mNZK/OGJ1bBQGh12oM0aHrQ9b1ihwC7YvETEIONeYAAAAekGbbUmoQWiZTBTwj/3hAAAFPZA0v33EBVTbNoP9xXG7csrZH/UQCw7J1oqWIky365nElGoHs6qiRNvtt0NZWmr2iFe9RKoFreQHSDhzyeMKMc6/4Gu/UUViOz+Sq1z3Cno1juP5/Kk1BZWuNS5WLyvugCU8DlYuDsfXAAAAMgGfjGpH/wAALXlrfU3h5sL87NA0LjzkwBe2gtUqqP2FYC1H8u+t1k/C4R7NFgnc0xWBAAAAXkGbkUnhClJlMCEf/eEAAAU9lf3sADSJPzKJ0fUENpastgt/IZWJeltJ78mkKE2FGxzfgf0zzg09efz7lp46n9s5d/hhU9eMw3hqEm7sgcxu/mQXbd0Kz4CA7m8yi2EAAAAxQZ+vRTRMI/8AABxMrGSC15p4pQADjN5AZKs+ppHNEarQxrX1GopX5nFLkZZIYMgHHQAAAEEBn850R/8AAC15/NoQuBfRtAzXBLbHWZHMVz1DgCr/FDKjmS262jOPVXQxwgAE0of3NKc6qd3Xc13bNwG8YAChZQAAADkBn9BqR/8AAC1jDnMGbgsv9082Jfis6An0cdLc1N976N9aMECSQM+6DqBAkcPAcY3k1vpT1DqW5VsAAABEQZvVSahBaJlMCP/8hAAAFPTRslRBO80L+Ea5U7PXqE6adHtGYoiML85i9J6N/lyYsJTugBrg+SyyxGkqf+ZVEkeAqA0AAAAoQZ/zRREsI/8AABz8rGSC15p4MXzYVRJ6IW15ETPChvV9GqWI77CtgAAAACcBnhJ0R/8AAC6Ztd9J2z8vhmWSYAsfEZ76GIwdCrULwdaEzy7D/WwAAAA3AZ4Uakf/AAAugw4f9I7U0iDbczflgIevECknYCzI9uKo9j4qUf3OtmzTvHonu4UGEsF0vqfW6QAAAEVBmhZJqEFsmUwI//yEAAAVhE6Ptvzhr63gbm6goS6NcQsxtV321L0pj11DyiuQhVkK71tJnfGdN3QRGAgpaoDMOXYuPSgAAAB/QZo3SeEKUmUwIR/94QAABYWJG5zAVvDlDe6+kCcg4IPTP5XfUwElSqJ6Q6TDl0ALKloQBANYkbusluVf0WcPI9F1G1PYB2IG4wHdgyn0eIgGXPVjG5geFH44A6B9EdT5vxZhC/UGZBTy0q1Uf5Tax8r8BzE4q/OnKYxbWSYUQQAAAJBBmltJ4Q6JlMCEf/3hAAAFqZcPN2Nx/y7d1aKN4SCAL/WKKZvno7i1fwtvRkEJBDUED53dbWXiCVD3MAmP6jE+tyv6VUhnjIjuv3D9SwyETPlKaIogRc8QfL0Fk2A5H3Y/v+0f7n7xjdJL0NNJD2OnfVmlvTmqQM+mYfv1Is2zlZBJSclVpEuZIctwT1cWfbkAAABHQZ55RRE8I/8AAB5ociKSYLgJ5dEXvndjJ8ya46LPhZm2iwVP4YdX3pEYqsiWpwJOQswXbZqaJqMAN13m2JvxI0lW/TEoJr0AAAA5AZ6YdEf/AAAv0eIQmak57FGZBreRAUUExTR/43q92s25EIMwHaMFWEJzvrue22Wr6FwzD93cNFTBAAAAMgGemmpH/wAAMPeewNhdaEoD27US3U84oNQIZGLktfDfVcNkKLB6OG4TamyAC5Ia4NTjAAAAOUGan0moQWiZTAj//IQAABak1N4rFLyy0W6pbVTGCVfXJovx7jz0wbym2fihaZ0nH7HkjmMKWoNEIQAAAElBnr1FESwj/wAAHxh68JxasKSAbgvoMyCuE4TmOG5z0MzyZWWqTvk5OZ01x0RBDLiFZMx0z9atp91mgASpNdeyyTrfb9p3ak71AAAAJAGe3HRH/wAAMRHh+SK6r7mIyih8s/q49I2+oMVMfJIIIQO/gAAAAC4Bnt5qR/8AADJSO+9zCJKUi5AVzUgqi6NjE9usioolyH6waoys5+S9W+sI021BAAAAckGawEmoQWyZTAhH//3hAAAFzYvlezr0BZKk687LWUTT6iWUsAtn7RSgOiAOavTWmPJxifVJbzY0+RXBzKLs/Vm/nQ5bYFpkMvL2wk57qafpHHu7zv3uKpCmOVJ6wnJgqYhTDAhzmrg0Od2h0n60KFCdgQAAAKBBmuNJ4QpSZTAhH/3hAAAF9FV/aSUAOjyatP+Jnf4t9LpijK0ULOmEjOrqNEFnQjDck92HMDsfkuQPNrvU0uSINbNITOdaL3lGxhjAa/wk3OlaSrJgHRJ1Cot6hoAGu7Zm+x0BDD2zjPGZmlmfd9Q0A0VImb1psDfoN+ytx1KnIjPmwW4QoSxL621uxBOFFpNV9hqv5nrRyAIkurB2QuWAAAAAQkGfAUU0TCP/AAAfyHrTkWrCpV3gANVeqnYPY+Jyel8amLRU8uuVK2SbXN8OI881hFy2Ok4JzYagFJOEQm4M6AbWwQAAADoBnyJqR/8AADN3y/7tl84xQJbXELZHzvrIbmDSlABqtnzrvWKRxQK+gsz8oeP6NkhSG+VZZ61YyNNwAAAALUGbJUmoQWiZTBTx//yEAAAXNIFBdKSJE5lIHJx36JhHvH6/AuFycK7/CScrMwAAACMBn0RqR/8AADN+2jFlLtTIYOVJ8fFktA9PqA6Wqe9bb/xSQQAAB6ttb292AAAAbG12aGQAAAAAAAAAAAAAAAAAAAPoAAAH+AABAAABAAAAAAAAAAAAAAAAAQAAAAAAAAAAAAAAAAAAAAEAAAAAAAAAAAAAAAAAAEAAAAAAAAAAAAAAAAAAAAAAAAAAAAAAAAAAAAAAAAACAAAG1XRyYWsAAABcdGtoZAAAAAMAAAAAAAAAAAAAAAEAAAAAAAAH+AAAAAAAAAAAAAAAAAAAAAAAAQAAAAAAAAAAAAAAAAAAAAEAAAAAAAAAAAAAAAAAAEAAAAACWAAAAZAAAAAAACRlZHRzAAAAHGVsc3QAAAAAAAAAAQAAB/gAAAIAAAEAAAAABk1tZGlhAAAAIG1kaGQAAAAAAAAAAAAAAAAAADIAAABmAFXEAAAAAAAtaGRscgAAAAAAAAAAdmlkZQAAAAAAAAAAAAAAAFZpZGVvSGFuZGxlcgAAAAX4bWluZgAAABR2bWhkAAAAAQAAAAAAAAAAAAAAJGRpbmYAAAAcZHJlZgAAAAAAAAABAAAADHVybCAAAAABAAAFuHN0YmwAAACwc3RzZAAAAAAAAAABAAAAoGF2YzEAAAAAAAAAAQAAAAAAAAAAAAAAAAAAAAACWAGQAEgAAABIAAAAAAAAAAEAAAAAAAAAAAAAAAAAAAAAAAAAAAAAAAAAAAAAAAAAAAAY//8AAAA2YXZjQwFkAB//4QAZZ2QAH6zZQJgz5eEAAAMAAQAAAwBkDxgxlgEABmjr48siwP34+AAAAAAUYnRydAAAAAAAAIkaAACJGgAAABhzdHRzAAAAAAAAAAEAAABmAAABAAAAABRzdHNzAAAAAAAAAAEAAAABAAAC+GN0dHMAAAAAAAAAXQAAAAEAAAIAAAAAAQAABQAAAAABAAACAAAAAAEAAAAAAAAAAQAAAQAAAAABAAAFAAAAAAEAAAIAAAAAAQAAAAAAAAABAAABAAAAAAEAAAUAAAAAAQAAAgAAAAABAAAAAAAAAAEAAAEAAAAAAQAABQAAAAABAAACAAAAAAEAAAAAAAAAAQAAAQAAAAABAAAFAAAAAAEAAAIAAAAAAQAAAAAAAAABAAABAAAAAAEAAAUAAAAAAQAAAgAAAAABAAAAAAAAAAEAAAEAAAAAAQAABQAAAAABAAACAAAAAAEAAAAAAAAAAQAAAQAAAAABAAAFAAAAAAEAAAIAAAAAAQAAAAAAAAABAAABAAAAAAEAAAUAAAAAAQAAAgAAAAABAAAAAAAAAAEAAAEAAAAAAQAABAAAAAACAAABAAAAAAEAAAUAAAAAAQAAAgAAAAABAAAAAAAAAAEAAAEAAAAAAQAABQAAAAABAAACAAAAAAEAAAAAAAAAAQAAAQAAAAABAAAFAAAAAAEAAAIAAAAAAQAAAAAAAAABAAABAAAAAAIAAAIAAAAAAQAABAAAAAACAAABAAAAAAIAAAIAAAAAAQAABAAAAAACAAABAAAAAAEAAAUAAAAAAQAAAgAAAAABAAAAAAAAAAEAAAEAAAAAAQAAAwAAAAABAAABAAAAAAEAAAQAAAAAAgAAAQAAAAABAAADAAAAAAEAAAEAAAAAAQAABAAAAAACAAABAAAAAAEAAAMAAAAAAQAAAQAAAAABAAAFAAAAAAEAAAIAAAAAAQAAAAAAAAABAAABAAAAAAEAAAUAAAAAAQAAAgAAAAABAAAAAAAAAAEAAAEAAAAAAgAAAgAAAAABAAAFAAAAAAEAAAIAAAAAAQAAAAAAAAABAAABAAAAAAEAAAUAAAAAAQAAAgAAAAABAAAAAAAAAAEAAAEAAAAAAQAAAgAAAAABAAAEAAAAAAIAAAEAAAAAAQAAAwAAAAABAAABAAAAABxzdHNjAAAAAAAAAAEAAAABAAAAZgAAAAEAAAGsc3RzegAAAAAAAAAAAAAAZgAABOQAAABXAAAANAAAAC4AAAAgAAAAtAAAAFEAAAA3AAAAMwAAAJ4AAABDAAAAMAAAACQAAACHAAAAOAAAACkAAAArAAAAngAAAD4AAAAfAAAAMwAAAG0AAAA9AAAAMQAAACkAAACFAAAAMgAAACgAAAAoAAAAfQAAAEMAAAA1AAAAKgAAAGQAAAAzAAAALAAAACsAAACcAAAAQwAAACsAAABnAAAAOQAAADoAAAAqAAAAwQAAAEMAAABCAAAAKgAAAGEAAABKAAAAKwAAADcAAABbAAAAagAAAJQAAABPAAAAPgAAAHIAAABYAAAAhgAAAE0AAAApAAAAkQAAAFUAAAA/AAAALAAAAG0AAAA7AAAAeQAAADUAAAA3AAAAUwAAADIAAACKAAAASAAAADEAAAB+AAAANgAAAGIAAAA1AAAARQAAAD0AAABIAAAALAAAACsAAAA7AAAASQAAAIMAAACUAAAASwAAAD0AAAA2AAAAPQAAAE0AAAAoAAAAMgAAAHYAAACkAAAARgAAAD4AAAAxAAAAJwAAABRzdGNvAAAAAAAAAAEAAAAwAAAAYnVkdGEAAABabWV0YQAAAAAAAAAhaGRscgAAAAAAAAAAbWRpcmFwcGwAAAAAAAAAAAAAAAAtaWxzdAAAACWpdG9vAAAAHWRhdGEAAAABAAAAAExhdmY1OC43Ni4xMDA=\" type=\"video/mp4\">\n",
       " Your browser does not support the video tag.\n",
       " </video></div>"
      ],
      "text/plain": [
       "<IPython.core.display.HTML object>"
      ]
     },
     "metadata": {},
     "output_type": "display_data"
    }
   ],
   "source": [
    "# Train Result\n",
    "video_dir = work_dir/'video'/'CartPole-v1'/'train'\n",
    "\n",
    "# List all MP4 files in the directory\n",
    "mp4_files = [file for file in os.listdir(video_dir) if file.endswith(\".mp4\")]\n",
    "frame_colors = ['#FF5733', '#33FF57', '#5733FF', '#FFFF33', '#33FFFF', '#FF33FF']\n",
    "# Display each MP4 file\n",
    "for i, mp4_file in enumerate(mp4_files):\n",
    "    video_path = os.path.join(video_dir, mp4_file)\n",
    "    video = Video(video_path, embed=True, html_attributes=\"loop autoplay\", width=200, height=100)\n",
    "    frame_color = frame_colors[i % len(frame_colors)]\n",
    "    video_frame = HTML(f'<div style=\"width: 200px; height: 100px;; border: 1px solid #FF5733;\">{video._repr_html_()}</div>')\n",
    "    print(\"test/\",mp4_file)\n",
    "    display(video_frame)"
   ]
  },
  {
   "cell_type": "code",
   "execution_count": 6,
   "id": "47f0e835-79ad-47c7-9984-bfc705927d7b",
   "metadata": {
    "tags": []
   },
   "outputs": [
    {
     "name": "stdout",
     "output_type": "stream",
     "text": [
      "test/ ex1-episode-0.mp4\n"
     ]
    },
    {
     "data": {
      "text/html": [
       "<div style=\"width: 200px; height: 100px;; border: 1px solid #5733FF;\"><video loop autoplay  width=\"200\"  height=\"100\">\n",
       " <source src=\"data:video/mp4;base64,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\" type=\"video/mp4\">\n",
       " Your browser does not support the video tag.\n",
       " </video></div>"
      ],
      "text/plain": [
       "<IPython.core.display.HTML object>"
      ]
     },
     "metadata": {},
     "output_type": "display_data"
    },
    {
     "name": "stdout",
     "output_type": "stream",
     "text": [
      "test/ ex1-episode-1.mp4\n"
     ]
    },
    {
     "data": {
      "text/html": [
       "<div style=\"width: 200px; height: 100px;; border: 1px solid #5733FF;\"><video loop autoplay  width=\"200\"  height=\"100\">\n",
       " <source src=\"data:video/mp4;base64,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\" type=\"video/mp4\">\n",
       " Your browser does not support the video tag.\n",
       " </video></div>"
      ],
      "text/plain": [
       "<IPython.core.display.HTML object>"
      ]
     },
     "metadata": {},
     "output_type": "display_data"
    },
    {
     "name": "stdout",
     "output_type": "stream",
     "text": [
      "test/ ex1-episode-2.mp4\n"
     ]
    },
    {
     "data": {
      "text/html": [
       "<div style=\"width: 200px; height: 100px;; border: 1px solid #5733FF;\"><video loop autoplay  width=\"200\"  height=\"100\">\n",
       " <source src=\"data:video/mp4;base64,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\" type=\"video/mp4\">\n",
       " Your browser does not support the video tag.\n",
       " </video></div>"
      ],
      "text/plain": [
       "<IPython.core.display.HTML object>"
      ]
     },
     "metadata": {},
     "output_type": "display_data"
    },
    {
     "name": "stdout",
     "output_type": "stream",
     "text": [
      "test/ ex1-episode-3.mp4\n"
     ]
    },
    {
     "data": {
      "text/html": [
       "<div style=\"width: 200px; height: 100px;; border: 1px solid #5733FF;\"><video loop autoplay  width=\"200\"  height=\"100\">\n",
       " <source src=\"data:video/mp4;base64,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\" type=\"video/mp4\">\n",
       " Your browser does not support the video tag.\n",
       " </video></div>"
      ],
      "text/plain": [
       "<IPython.core.display.HTML object>"
      ]
     },
     "metadata": {},
     "output_type": "display_data"
    },
    {
     "name": "stdout",
     "output_type": "stream",
     "text": [
      "test/ ex1-episode-4.mp4\n"
     ]
    },
    {
     "data": {
      "text/html": [
       "<div style=\"width: 200px; height: 100px;; border: 1px solid #5733FF;\"><video loop autoplay  width=\"200\"  height=\"100\">\n",
       " <source src=\"data:video/mp4;base64,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\" type=\"video/mp4\">\n",
       " Your browser does not support the video tag.\n",
       " </video></div>"
      ],
      "text/plain": [
       "<IPython.core.display.HTML object>"
      ]
     },
     "metadata": {},
     "output_type": "display_data"
    },
    {
     "name": "stdout",
     "output_type": "stream",
     "text": [
      "test/ ex1-episode-5.mp4\n"
     ]
    },
    {
     "data": {
      "text/html": [
       "<div style=\"width: 200px; height: 100px;; border: 1px solid #5733FF;\"><video loop autoplay  width=\"200\"  height=\"100\">\n",
       " <source src=\"data:video/mp4;base64,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\" type=\"video/mp4\">\n",
       " Your browser does not support the video tag.\n",
       " </video></div>"
      ],
      "text/plain": [
       "<IPython.core.display.HTML object>"
      ]
     },
     "metadata": {},
     "output_type": "display_data"
    },
    {
     "name": "stdout",
     "output_type": "stream",
     "text": [
      "test/ ex1-episode-6.mp4\n"
     ]
    },
    {
     "data": {
      "text/html": [
       "<div style=\"width: 200px; height: 100px;; border: 1px solid #5733FF;\"><video loop autoplay  width=\"200\"  height=\"100\">\n",
       " <source src=\"data:video/mp4;base64,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\" type=\"video/mp4\">\n",
       " Your browser does not support the video tag.\n",
       " </video></div>"
      ],
      "text/plain": [
       "<IPython.core.display.HTML object>"
      ]
     },
     "metadata": {},
     "output_type": "display_data"
    },
    {
     "name": "stdout",
     "output_type": "stream",
     "text": [
      "test/ ex1-episode-7.mp4\n"
     ]
    },
    {
     "data": {
      "text/html": [
       "<div style=\"width: 200px; height: 100px;; border: 1px solid #5733FF;\"><video loop autoplay  width=\"200\"  height=\"100\">\n",
       " <source src=\"data:video/mp4;base64,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\" type=\"video/mp4\">\n",
       " Your browser does not support the video tag.\n",
       " </video></div>"
      ],
      "text/plain": [
       "<IPython.core.display.HTML object>"
      ]
     },
     "metadata": {},
     "output_type": "display_data"
    },
    {
     "name": "stdout",
     "output_type": "stream",
     "text": [
      "test/ ex1-episode-8.mp4\n"
     ]
    },
    {
     "data": {
      "text/html": [
       "<div style=\"width: 200px; height: 100px;; border: 1px solid #5733FF;\"><video loop autoplay  width=\"200\"  height=\"100\">\n",
       " <source src=\"data:video/mp4;base64,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\" type=\"video/mp4\">\n",
       " Your browser does not support the video tag.\n",
       " </video></div>"
      ],
      "text/plain": [
       "<IPython.core.display.HTML object>"
      ]
     },
     "metadata": {},
     "output_type": "display_data"
    },
    {
     "name": "stdout",
     "output_type": "stream",
     "text": [
      "test/ ex1-episode-9.mp4\n"
     ]
    },
    {
     "data": {
      "text/html": [
       "<div style=\"width: 200px; height: 100px;; border: 1px solid #5733FF;\"><video loop autoplay  width=\"200\"  height=\"100\">\n",
       " <source src=\"data:video/mp4;base64,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\" type=\"video/mp4\">\n",
       " Your browser does not support the video tag.\n",
       " </video></div>"
      ],
      "text/plain": [
       "<IPython.core.display.HTML object>"
      ]
     },
     "metadata": {},
     "output_type": "display_data"
    }
   ],
   "source": [
    "# Test Result\n",
    "\n",
    "video_dir = work_dir/'video'/'CartPole-v1'/'test'\n",
    "\n",
    "# List all MP4 files in the directory\n",
    "mp4_files = [file for file in os.listdir(video_dir) if file.endswith(\".mp4\")]\n",
    "frame_colors = ['#FF5733', '#33FF57', '#5733FF', '#FFFF33', '#33FFFF', '#FF33FF']\n",
    "# Display each MP4 file\n",
    "for i, mp4_file in enumerate(mp4_files):\n",
    "    video_path = os.path.join(video_dir, mp4_file)\n",
    "    video = Video(video_path, embed=True, html_attributes=\"loop autoplay\", width=200, height=100)\n",
    "    frame_color = frame_colors[i % len(frame_colors)]\n",
    "    video_frame = HTML(f'<div style=\"width: 200px; height: 100px;; border: 1px solid #5733FF;\">{video._repr_html_()}</div>')\n",
    "    print(\"test/\",mp4_file)\n",
    "    display(video_frame)"
   ]
  },
  {
   "cell_type": "markdown",
   "id": "b9298a34",
   "metadata": {
    "tags": []
   },
   "source": [
    "<a id='Q1'></a>\n",
    "<div class=\" alert alert-warning\">\n",
    "    <h3><b>Student Question 1.1</b> Learning (10 points) </h3> \n",
    "\n",
    "Test the trained model from Task 1 five times with different random seeds. Did the same model, trained to balance for 100 timesteps, learn to always balance the pole for 1000 timesteps? Why/why not?\n",
    "    \n",
    "🔝\t<a href='#TOC'><b>Table of Contents</b></a>\n",
    "</div>\n"
   ]
  },
  {
   "cell_type": "code",
   "execution_count": 7,
   "id": "c5678a7d",
   "metadata": {
    "tags": []
   },
   "outputs": [
    {
     "name": "stdout",
     "output_type": "stream",
     "text": [
      "Numpy/Torch/Random Seed:  10\n",
      "Loading model from /notebooks/rl2023/ex1_wandb_fix/results/model/CartPole-v1_params.pt ...\n",
      "Testing...\n",
      "Test ep reward: 144.0 seed: 10\n",
      "Test ep reward: 144.0 seed: 10\n",
      "Test ep reward: 144.0 seed: 10\n",
      "Test ep reward: 144.0 seed: 10\n",
      "Test ep reward: 144.0 seed: 10\n",
      "Test ep reward: 144.0 seed: 10\n",
      "Test ep reward: 144.0 seed: 10\n",
      "Test ep reward: 144.0 seed: 10\n",
      "Test ep reward: 144.0 seed: 10\n",
      "Test ep reward: 144.0 seed: 10\n",
      "Average test reward: 144.0 episode length: 1000.0\n",
      "---------------------------------\n",
      "\n",
      "Numpy/Torch/Random Seed:  100\n",
      "Loading model from /notebooks/rl2023/ex1_wandb_fix/results/model/CartPole-v1_params.pt ...\n",
      "Testing...\n",
      "Test ep reward: 129.0 seed: 100\n",
      "Test ep reward: 129.0 seed: 100\n",
      "Test ep reward: 129.0 seed: 100\n",
      "Test ep reward: 129.0 seed: 100\n",
      "Test ep reward: 129.0 seed: 100\n",
      "Test ep reward: 129.0 seed: 100\n",
      "Test ep reward: 129.0 seed: 100\n",
      "Test ep reward: 129.0 seed: 100\n",
      "Test ep reward: 129.0 seed: 100\n",
      "Test ep reward: 129.0 seed: 100\n",
      "Average test reward: 129.0 episode length: 1000.0\n",
      "---------------------------------\n",
      "\n",
      "Numpy/Torch/Random Seed:  1000\n",
      "Loading model from /notebooks/rl2023/ex1_wandb_fix/results/model/CartPole-v1_params.pt ...\n",
      "Testing...\n",
      "Test ep reward: 134.0 seed: 1000\n",
      "Test ep reward: 134.0 seed: 1000\n",
      "Test ep reward: 134.0 seed: 1000\n",
      "Test ep reward: 134.0 seed: 1000\n",
      "Test ep reward: 134.0 seed: 1000\n",
      "Test ep reward: 134.0 seed: 1000\n",
      "Test ep reward: 134.0 seed: 1000\n",
      "Test ep reward: 134.0 seed: 1000\n",
      "Test ep reward: 134.0 seed: 1000\n",
      "Test ep reward: 134.0 seed: 1000\n",
      "Average test reward: 134.0 episode length: 1000.0\n",
      "---------------------------------\n",
      "\n",
      "Numpy/Torch/Random Seed:  10000\n",
      "Loading model from /notebooks/rl2023/ex1_wandb_fix/results/model/CartPole-v1_params.pt ...\n",
      "Testing...\n",
      "Test ep reward: 138.0 seed: 10000\n",
      "Test ep reward: 138.0 seed: 10000\n",
      "Test ep reward: 138.0 seed: 10000\n",
      "Test ep reward: 138.0 seed: 10000\n",
      "Test ep reward: 138.0 seed: 10000\n",
      "Test ep reward: 138.0 seed: 10000\n",
      "Test ep reward: 138.0 seed: 10000\n",
      "Test ep reward: 138.0 seed: 10000\n",
      "Test ep reward: 138.0 seed: 10000\n",
      "Test ep reward: 138.0 seed: 10000\n",
      "Average test reward: 138.0 episode length: 1000.0\n",
      "---------------------------------\n",
      "\n",
      "Numpy/Torch/Random Seed:  100000\n",
      "Loading model from /notebooks/rl2023/ex1_wandb_fix/results/model/CartPole-v1_params.pt ...\n",
      "Testing...\n",
      "Test ep reward: 146.0 seed: 100000\n",
      "Test ep reward: 146.0 seed: 100000\n",
      "Test ep reward: 146.0 seed: 100000\n",
      "Test ep reward: 146.0 seed: 100000\n",
      "Test ep reward: 146.0 seed: 100000\n",
      "Test ep reward: 146.0 seed: 100000\n",
      "Test ep reward: 146.0 seed: 100000\n",
      "Test ep reward: 146.0 seed: 100000\n",
      "Test ep reward: 146.0 seed: 100000\n",
      "Test ep reward: 146.0 seed: 100000\n",
      "Average test reward: 146.0 episode length: 1000.0\n",
      "---------------------------------\n",
      "\n"
     ]
    }
   ],
   "source": [
    "episodes = 10\n",
    "timesteps = 1000\n",
    "\n",
    "for seed in [10,100,1000,10000,100000]:\n",
    "    t.test(episodes=episodes, \n",
    "           cfg_path=Path().cwd()/'cfg'/'cartpole_v1.yaml', \n",
    "           cfg_args=dict(testing=True, seed=seed, max_episode_steps=timesteps, use_wandb=False, save_video = False))\n",
    "    print('---------------------------------\\n')"
   ]
  },
  {
   "cell_type": "markdown",
   "id": "5d817076",
   "metadata": {},
   "source": [
    "The performance of the trained model in Task 1 when tested with different random seeds hinges on various factors inherent to reinforcement learning. If the agent has successfully learned an effective policy during training, it might be capable of balancing the pole for an extended period, possibly even reaching 1000 timesteps. However, due to the stochastic nature of the learning process and the potential variability in exploration and environmental noise, there's no guarantee that the learned policy will consistently achieve this level of performance. In above instances, the learned policy fall short, resulting in an average test reward that could be even lower than the initial benchmark of 100 timesteps. As we can see, none of them learn to always balance the pole for 1000 timesteps. This is likely due to 100 timesteps not being enough to test if the system has learned to actually stabilize the pole. Our results seem to imply that."
   ]
  },
  {
   "cell_type": "markdown",
   "id": "9f3b5ed9",
   "metadata": {},
   "source": [
    "<a id='T2'></a>\n",
    "<div class=\" alert alert-warning\">\n",
    "    <h3><b>Student Task 2.</b> Investigating Training Performance (10 points) </h3> \n",
    "\n",
    "Repeat the experiment in Task 1 five times, each time training the model from scratch with 100 timesteps and testing it for 1000 timesteps. Use a different seed number for each training/testing cycle. You can use the box below to write a small script to do this. Use the result textbox below to report the average test reward for each repeat. \n",
    "    \n",
    "🔝\t<a href='#TOC'><b>Table of Contents</b></a>\n",
    "</div>\n"
   ]
  },
  {
   "cell_type": "code",
   "execution_count": null,
   "id": "aa8b9768",
   "metadata": {
    "tags": []
   },
   "outputs": [
    {
     "name": "stdout",
     "output_type": "stream",
     "text": [
      "Numpy/Torch/Random Seed:  20\n",
      "Configuration Settings: {'exp_name': 'ex1', 'seed': 20, 'env_name': 'CartPole-v1', 'max_episode_steps': 100, 'train_episodes': 500, 'batch_size': 64, 'min_update_samples': 2000, 'testing': False, 'model_path': 'default', 'save_video': False, 'save_model': True, 'save_logging': True, 'silent': False, 'use_wandb': True, 'run_suffix': 0}\n",
      "Training device: cpu\n",
      "Observation space dimensions: 4\n",
      "Action space dimensions: 2\n",
      "\n",
      "Episode 0 finished. Total reward: 24.0 (24 timesteps)\n",
      "Episode 1 finished. Total reward: 19.0 (19 timesteps)\n",
      "Episode 2 finished. Total reward: 16.0 (16 timesteps)\n",
      "Episode 3 finished. Total reward: 21.0 (21 timesteps)\n",
      "Episode 4 finished. Total reward: 13.0 (13 timesteps)\n",
      "Episode 5 finished. Total reward: 14.0 (14 timesteps)\n",
      "Episode 6 finished. Total reward: 35.0 (35 timesteps)\n",
      "Episode 7 finished. Total reward: 18.0 (18 timesteps)\n",
      "Episode 8 finished. Total reward: 22.0 (22 timesteps)\n",
      "Episode 9 finished. Total reward: 19.0 (19 timesteps)\n",
      "Episode 10 finished. Total reward: 16.0 (16 timesteps)\n",
      "Episode 11 finished. Total reward: 14.0 (14 timesteps)\n",
      "Episode 12 finished. Total reward: 13.0 (13 timesteps)\n",
      "Episode 13 finished. Total reward: 34.0 (34 timesteps)\n",
      "Episode 14 finished. Total reward: 12.0 (12 timesteps)\n",
      "Episode 15 finished. Total reward: 19.0 (19 timesteps)\n",
      "Episode 16 finished. Total reward: 16.0 (16 timesteps)\n",
      "Episode 17 finished. Total reward: 17.0 (17 timesteps)\n",
      "Episode 18 finished. Total reward: 16.0 (16 timesteps)\n",
      "Episode 19 finished. Total reward: 35.0 (35 timesteps)\n",
      "Episode 20 finished. Total reward: 14.0 (14 timesteps)\n",
      "Episode 21 finished. Total reward: 16.0 (16 timesteps)\n",
      "Episode 22 finished. Total reward: 14.0 (14 timesteps)\n",
      "Episode 23 finished. Total reward: 19.0 (19 timesteps)\n",
      "Episode 24 finished. Total reward: 20.0 (20 timesteps)\n",
      "Episode 25 finished. Total reward: 18.0 (18 timesteps)\n",
      "Episode 26 finished. Total reward: 24.0 (24 timesteps)\n",
      "Episode 27 finished. Total reward: 17.0 (17 timesteps)\n",
      "Episode 28 finished. Total reward: 21.0 (21 timesteps)\n",
      "Episode 29 finished. Total reward: 30.0 (30 timesteps)\n",
      "Episode 30 finished. Total reward: 19.0 (19 timesteps)\n",
      "Episode 31 finished. Total reward: 36.0 (36 timesteps)\n",
      "Episode 32 finished. Total reward: 15.0 (15 timesteps)\n",
      "Episode 33 finished. Total reward: 33.0 (33 timesteps)\n",
      "Episode 34 finished. Total reward: 29.0 (29 timesteps)\n",
      "Episode 35 finished. Total reward: 18.0 (18 timesteps)\n",
      "Episode 36 finished. Total reward: 19.0 (19 timesteps)\n",
      "Episode 37 finished. Total reward: 22.0 (22 timesteps)\n",
      "Episode 38 finished. Total reward: 15.0 (15 timesteps)\n",
      "Episode 39 finished. Total reward: 18.0 (18 timesteps)\n",
      "Episode 40 finished. Total reward: 11.0 (11 timesteps)\n",
      "Episode 41 finished. Total reward: 16.0 (16 timesteps)\n",
      "Episode 42 finished. Total reward: 25.0 (25 timesteps)\n",
      "Episode 43 finished. Total reward: 17.0 (17 timesteps)\n",
      "Episode 44 finished. Total reward: 20.0 (20 timesteps)\n",
      "Episode 45 finished. Total reward: 11.0 (11 timesteps)\n",
      "Episode 46 finished. Total reward: 30.0 (30 timesteps)\n",
      "Episode 47 finished. Total reward: 19.0 (19 timesteps)\n",
      "Episode 48 finished. Total reward: 8.0 (8 timesteps)\n",
      "Episode 49 finished. Total reward: 18.0 (18 timesteps)\n",
      "Episode 50 finished. Total reward: 27.0 (27 timesteps)\n",
      "Episode 51 finished. Total reward: 12.0 (12 timesteps)\n",
      "Episode 52 finished. Total reward: 15.0 (15 timesteps)\n",
      "Episode 53 finished. Total reward: 23.0 (23 timesteps)\n",
      "Episode 54 finished. Total reward: 30.0 (30 timesteps)\n",
      "Episode 55 finished. Total reward: 60.0 (60 timesteps)\n",
      "Episode 56 finished. Total reward: 18.0 (18 timesteps)\n",
      "Episode 57 finished. Total reward: 29.0 (29 timesteps)\n",
      "Episode 58 finished. Total reward: 14.0 (14 timesteps)\n",
      "Episode 59 finished. Total reward: 22.0 (22 timesteps)\n",
      "Episode 60 finished. Total reward: 17.0 (17 timesteps)\n",
      "Episode 61 finished. Total reward: 8.0 (8 timesteps)\n",
      "Episode 62 finished. Total reward: 18.0 (18 timesteps)\n",
      "Episode 63 finished. Total reward: 31.0 (31 timesteps)\n",
      "Episode 64 finished. Total reward: 20.0 (20 timesteps)\n",
      "Episode 65 finished. Total reward: 14.0 (14 timesteps)\n",
      "Episode 66 finished. Total reward: 17.0 (17 timesteps)\n",
      "Episode 67 finished. Total reward: 8.0 (8 timesteps)\n",
      "Episode 68 finished. Total reward: 23.0 (23 timesteps)\n",
      "Episode 69 finished. Total reward: 14.0 (14 timesteps)\n",
      "Episode 70 finished. Total reward: 18.0 (18 timesteps)\n",
      "Episode 71 finished. Total reward: 31.0 (31 timesteps)\n",
      "Episode 72 finished. Total reward: 20.0 (20 timesteps)\n",
      "Episode 73 finished. Total reward: 18.0 (18 timesteps)\n",
      "Episode 74 finished. Total reward: 26.0 (26 timesteps)\n",
      "Episode 75 finished. Total reward: 30.0 (30 timesteps)\n",
      "Episode 76 finished. Total reward: 27.0 (27 timesteps)\n",
      "Episode 77 finished. Total reward: 49.0 (49 timesteps)\n",
      "Episode 78 finished. Total reward: 23.0 (23 timesteps)\n",
      "Episode 79 finished. Total reward: 27.0 (27 timesteps)\n",
      "Episode 80 finished. Total reward: 33.0 (33 timesteps)\n",
      "Episode 81 finished. Total reward: 31.0 (31 timesteps)\n",
      "Episode 82 finished. Total reward: 22.0 (22 timesteps)\n",
      "Episode 83 finished. Total reward: 15.0 (15 timesteps)\n",
      "Episode 84 finished. Total reward: 49.0 (49 timesteps)\n",
      "Episode 85 finished. Total reward: 21.0 (21 timesteps)\n",
      "Episode 86 finished. Total reward: 22.0 (22 timesteps)\n",
      "Episode 87 finished. Total reward: 17.0 (17 timesteps)\n",
      "Episode 88 finished. Total reward: 27.0 (27 timesteps)\n",
      "Episode 89 finished. Total reward: 13.0 (13 timesteps)\n",
      "Episode 90 finished. Total reward: 9.0 (9 timesteps)\n",
      "Episode 91 finished. Total reward: 10.0 (10 timesteps)\n",
      "Episode 92 finished. Total reward: 18.0 (18 timesteps)\n",
      "Episode 93 finished. Total reward: 38.0 (38 timesteps)\n",
      "Updating the policy...\n",
      "Updating finished!\n",
      "Episode 94 finished. Total reward: 12.0 (12 timesteps)\n",
      "Episode 95 finished. Total reward: 16.0 (16 timesteps)\n",
      "Episode 96 finished. Total reward: 17.0 (17 timesteps)\n",
      "Episode 97 finished. Total reward: 11.0 (11 timesteps)\n",
      "Episode 98 finished. Total reward: 96.0 (96 timesteps)\n",
      "Episode 99 finished. Total reward: 20.0 (20 timesteps)\n",
      "Episode 100 finished. Total reward: 18.0 (18 timesteps)\n",
      "Episode 101 finished. Total reward: 12.0 (12 timesteps)\n",
      "Episode 102 finished. Total reward: 17.0 (17 timesteps)\n",
      "Episode 103 finished. Total reward: 13.0 (13 timesteps)\n",
      "Episode 104 finished. Total reward: 35.0 (35 timesteps)\n",
      "Episode 105 finished. Total reward: 54.0 (54 timesteps)\n",
      "Episode 106 finished. Total reward: 18.0 (18 timesteps)\n",
      "Episode 107 finished. Total reward: 12.0 (12 timesteps)\n",
      "Episode 108 finished. Total reward: 21.0 (21 timesteps)\n",
      "Episode 109 finished. Total reward: 26.0 (26 timesteps)\n",
      "Episode 110 finished. Total reward: 17.0 (17 timesteps)\n",
      "Episode 111 finished. Total reward: 20.0 (20 timesteps)\n",
      "Episode 112 finished. Total reward: 50.0 (50 timesteps)\n",
      "Episode 113 finished. Total reward: 21.0 (21 timesteps)\n",
      "Episode 114 finished. Total reward: 23.0 (23 timesteps)\n",
      "Episode 115 finished. Total reward: 10.0 (10 timesteps)\n",
      "Episode 116 finished. Total reward: 12.0 (12 timesteps)\n",
      "Episode 117 finished. Total reward: 22.0 (22 timesteps)\n",
      "Episode 118 finished. Total reward: 17.0 (17 timesteps)\n",
      "Episode 119 finished. Total reward: 19.0 (19 timesteps)\n",
      "Episode 120 finished. Total reward: 41.0 (41 timesteps)\n",
      "Episode 121 finished. Total reward: 45.0 (45 timesteps)\n",
      "Episode 122 finished. Total reward: 23.0 (23 timesteps)\n",
      "Episode 123 finished. Total reward: 18.0 (18 timesteps)\n",
      "Episode 124 finished. Total reward: 30.0 (30 timesteps)\n",
      "Episode 125 finished. Total reward: 13.0 (13 timesteps)\n",
      "Episode 126 finished. Total reward: 13.0 (13 timesteps)\n",
      "Episode 127 finished. Total reward: 14.0 (14 timesteps)\n",
      "Episode 128 finished. Total reward: 27.0 (27 timesteps)\n",
      "Episode 129 finished. Total reward: 25.0 (25 timesteps)\n",
      "Episode 130 finished. Total reward: 31.0 (31 timesteps)\n",
      "Episode 131 finished. Total reward: 39.0 (39 timesteps)\n",
      "Episode 132 finished. Total reward: 23.0 (23 timesteps)\n",
      "Episode 133 finished. Total reward: 30.0 (30 timesteps)\n",
      "Episode 134 finished. Total reward: 24.0 (24 timesteps)\n",
      "Episode 135 finished. Total reward: 32.0 (32 timesteps)\n",
      "Episode 136 finished. Total reward: 16.0 (16 timesteps)\n",
      "Episode 137 finished. Total reward: 16.0 (16 timesteps)\n",
      "Episode 138 finished. Total reward: 19.0 (19 timesteps)\n",
      "Episode 139 finished. Total reward: 25.0 (25 timesteps)\n",
      "Episode 140 finished. Total reward: 24.0 (24 timesteps)\n",
      "Episode 141 finished. Total reward: 14.0 (14 timesteps)\n",
      "Episode 142 finished. Total reward: 9.0 (9 timesteps)\n",
      "Episode 143 finished. Total reward: 28.0 (28 timesteps)\n",
      "Episode 144 finished. Total reward: 32.0 (32 timesteps)\n",
      "Episode 145 finished. Total reward: 13.0 (13 timesteps)\n",
      "Episode 146 finished. Total reward: 29.0 (29 timesteps)\n",
      "Episode 147 finished. Total reward: 37.0 (37 timesteps)\n",
      "Episode 148 finished. Total reward: 21.0 (21 timesteps)\n",
      "Episode 149 finished. Total reward: 69.0 (69 timesteps)\n",
      "Episode 150 finished. Total reward: 32.0 (32 timesteps)\n",
      "Episode 151 finished. Total reward: 92.0 (92 timesteps)\n",
      "Episode 152 finished. Total reward: 34.0 (34 timesteps)\n",
      "Episode 153 finished. Total reward: 26.0 (26 timesteps)\n",
      "Episode 154 finished. Total reward: 50.0 (50 timesteps)\n",
      "Episode 155 finished. Total reward: 12.0 (12 timesteps)\n",
      "Episode 156 finished. Total reward: 12.0 (12 timesteps)\n",
      "Episode 157 finished. Total reward: 32.0 (32 timesteps)\n",
      "Episode 158 finished. Total reward: 16.0 (16 timesteps)\n",
      "Episode 159 finished. Total reward: 34.0 (34 timesteps)\n",
      "Episode 160 finished. Total reward: 9.0 (9 timesteps)\n",
      "Episode 161 finished. Total reward: 29.0 (29 timesteps)\n",
      "Episode 162 finished. Total reward: 36.0 (36 timesteps)\n",
      "Episode 163 finished. Total reward: 21.0 (21 timesteps)\n",
      "Episode 164 finished. Total reward: 21.0 (21 timesteps)\n",
      "Episode 165 finished. Total reward: 43.0 (43 timesteps)\n",
      "Episode 166 finished. Total reward: 30.0 (30 timesteps)\n",
      "Episode 167 finished. Total reward: 35.0 (35 timesteps)\n",
      "Episode 168 finished. Total reward: 17.0 (17 timesteps)\n",
      "Episode 169 finished. Total reward: 15.0 (15 timesteps)\n",
      "Updating the policy...\n",
      "Updating finished!\n",
      "Episode 170 finished. Total reward: 34.0 (34 timesteps)\n",
      "Episode 171 finished. Total reward: 85.0 (85 timesteps)\n",
      "Episode 172 finished. Total reward: 27.0 (27 timesteps)\n",
      "Episode 173 finished. Total reward: 32.0 (32 timesteps)\n",
      "Episode 174 finished. Total reward: 46.0 (46 timesteps)\n",
      "Episode 175 finished. Total reward: 32.0 (32 timesteps)\n",
      "Episode 176 finished. Total reward: 26.0 (26 timesteps)\n",
      "Episode 177 finished. Total reward: 57.0 (57 timesteps)\n",
      "Episode 178 finished. Total reward: 24.0 (24 timesteps)\n",
      "Episode 179 finished. Total reward: 25.0 (25 timesteps)\n",
      "Episode 180 finished. Total reward: 22.0 (22 timesteps)\n",
      "Episode 181 finished. Total reward: 19.0 (19 timesteps)\n",
      "Episode 182 finished. Total reward: 50.0 (50 timesteps)\n",
      "Episode 183 finished. Total reward: 22.0 (22 timesteps)\n",
      "Episode 184 finished. Total reward: 100.0 (100 timesteps)\n",
      "Episode 185 finished. Total reward: 30.0 (30 timesteps)\n",
      "Episode 186 finished. Total reward: 68.0 (68 timesteps)\n",
      "Episode 187 finished. Total reward: 32.0 (32 timesteps)\n",
      "Episode 188 finished. Total reward: 36.0 (36 timesteps)\n",
      "Episode 189 finished. Total reward: 30.0 (30 timesteps)\n",
      "Episode 190 finished. Total reward: 21.0 (21 timesteps)\n",
      "Episode 191 finished. Total reward: 43.0 (43 timesteps)\n",
      "Episode 192 finished. Total reward: 49.0 (49 timesteps)\n",
      "Episode 193 finished. Total reward: 48.0 (48 timesteps)\n",
      "Episode 194 finished. Total reward: 35.0 (35 timesteps)\n",
      "Episode 195 finished. Total reward: 79.0 (79 timesteps)\n",
      "Episode 196 finished. Total reward: 16.0 (16 timesteps)\n",
      "Episode 197 finished. Total reward: 25.0 (25 timesteps)\n",
      "Episode 198 finished. Total reward: 65.0 (65 timesteps)\n",
      "Episode 199 finished. Total reward: 16.0 (16 timesteps)\n",
      "Episode 200 finished. Total reward: 20.0 (20 timesteps)\n",
      "Episode 201 finished. Total reward: 95.0 (95 timesteps)\n",
      "Episode 202 finished. Total reward: 25.0 (25 timesteps)\n",
      "Episode 203 finished. Total reward: 21.0 (21 timesteps)\n",
      "Episode 204 finished. Total reward: 28.0 (28 timesteps)\n",
      "Episode 205 finished. Total reward: 14.0 (14 timesteps)\n",
      "Episode 206 finished. Total reward: 31.0 (31 timesteps)\n",
      "Episode 207 finished. Total reward: 82.0 (82 timesteps)\n",
      "Episode 208 finished. Total reward: 31.0 (31 timesteps)\n",
      "Episode 209 finished. Total reward: 72.0 (72 timesteps)\n",
      "Episode 210 finished. Total reward: 33.0 (33 timesteps)\n",
      "Episode 211 finished. Total reward: 19.0 (19 timesteps)\n",
      "Episode 212 finished. Total reward: 21.0 (21 timesteps)\n",
      "Episode 213 finished. Total reward: 13.0 (13 timesteps)\n",
      "Episode 214 finished. Total reward: 21.0 (21 timesteps)\n",
      "Episode 215 finished. Total reward: 19.0 (19 timesteps)\n",
      "Episode 216 finished. Total reward: 22.0 (22 timesteps)\n",
      "Episode 217 finished. Total reward: 35.0 (35 timesteps)\n",
      "Episode 218 finished. Total reward: 17.0 (17 timesteps)\n",
      "Episode 219 finished. Total reward: 63.0 (63 timesteps)\n",
      "Episode 220 finished. Total reward: 58.0 (58 timesteps)\n",
      "Episode 221 finished. Total reward: 22.0 (22 timesteps)\n",
      "Episode 222 finished. Total reward: 15.0 (15 timesteps)\n",
      "Episode 223 finished. Total reward: 9.0 (9 timesteps)\n",
      "Episode 224 finished. Total reward: 26.0 (26 timesteps)\n",
      "Episode 225 finished. Total reward: 12.0 (12 timesteps)\n",
      "Updating the policy...\n",
      "Updating finished!\n",
      "Episode 226 finished. Total reward: 80.0 (80 timesteps)\n",
      "Episode 227 finished. Total reward: 15.0 (15 timesteps)\n",
      "Episode 228 finished. Total reward: 54.0 (54 timesteps)\n",
      "Episode 229 finished. Total reward: 20.0 (20 timesteps)\n",
      "Episode 230 finished. Total reward: 42.0 (42 timesteps)\n",
      "Episode 231 finished. Total reward: 25.0 (25 timesteps)\n",
      "Episode 232 finished. Total reward: 70.0 (70 timesteps)\n",
      "Episode 233 finished. Total reward: 71.0 (71 timesteps)\n",
      "Episode 234 finished. Total reward: 37.0 (37 timesteps)\n",
      "Episode 235 finished. Total reward: 60.0 (60 timesteps)\n",
      "Episode 236 finished. Total reward: 91.0 (91 timesteps)\n",
      "Episode 237 finished. Total reward: 29.0 (29 timesteps)\n",
      "Episode 238 finished. Total reward: 50.0 (50 timesteps)\n",
      "Episode 239 finished. Total reward: 76.0 (76 timesteps)\n",
      "Episode 240 finished. Total reward: 53.0 (53 timesteps)\n",
      "Episode 241 finished. Total reward: 48.0 (48 timesteps)\n",
      "Episode 242 finished. Total reward: 43.0 (43 timesteps)\n",
      "Episode 243 finished. Total reward: 100.0 (100 timesteps)\n",
      "Episode 244 finished. Total reward: 35.0 (35 timesteps)\n",
      "Episode 245 finished. Total reward: 17.0 (17 timesteps)\n",
      "Episode 246 finished. Total reward: 98.0 (98 timesteps)\n",
      "Episode 247 finished. Total reward: 27.0 (27 timesteps)\n",
      "Episode 248 finished. Total reward: 32.0 (32 timesteps)\n",
      "Episode 249 finished. Total reward: 100.0 (100 timesteps)\n",
      "Episode 250 finished. Total reward: 100.0 (100 timesteps)\n",
      "Episode 251 finished. Total reward: 100.0 (100 timesteps)\n",
      "Episode 252 finished. Total reward: 98.0 (98 timesteps)\n",
      "Episode 253 finished. Total reward: 25.0 (25 timesteps)\n",
      "Episode 254 finished. Total reward: 91.0 (91 timesteps)\n",
      "Episode 255 finished. Total reward: 38.0 (38 timesteps)\n",
      "Episode 256 finished. Total reward: 30.0 (30 timesteps)\n",
      "Episode 257 finished. Total reward: 41.0 (41 timesteps)\n",
      "Episode 258 finished. Total reward: 22.0 (22 timesteps)\n",
      "Episode 259 finished. Total reward: 23.0 (23 timesteps)\n",
      "Episode 260 finished. Total reward: 52.0 (52 timesteps)\n",
      "Episode 261 finished. Total reward: 100.0 (100 timesteps)\n",
      "Updating the policy...\n",
      "Updating finished!\n",
      "Episode 262 finished. Total reward: 39.0 (39 timesteps)\n",
      "Episode 263 finished. Total reward: 100.0 (100 timesteps)\n",
      "Episode 264 finished. Total reward: 69.0 (69 timesteps)\n",
      "Episode 265 finished. Total reward: 83.0 (83 timesteps)\n",
      "Episode 266 finished. Total reward: 43.0 (43 timesteps)\n",
      "Episode 267 finished. Total reward: 100.0 (100 timesteps)\n",
      "Episode 268 finished. Total reward: 100.0 (100 timesteps)\n",
      "Episode 269 finished. Total reward: 100.0 (100 timesteps)\n",
      "Episode 270 finished. Total reward: 72.0 (72 timesteps)\n",
      "Episode 271 finished. Total reward: 21.0 (21 timesteps)\n",
      "Episode 272 finished. Total reward: 20.0 (20 timesteps)\n",
      "Episode 273 finished. Total reward: 35.0 (35 timesteps)\n",
      "Episode 274 finished. Total reward: 21.0 (21 timesteps)\n",
      "Episode 275 finished. Total reward: 52.0 (52 timesteps)\n",
      "Episode 276 finished. Total reward: 51.0 (51 timesteps)\n",
      "Episode 277 finished. Total reward: 100.0 (100 timesteps)\n",
      "Episode 278 finished. Total reward: 100.0 (100 timesteps)\n",
      "Episode 279 finished. Total reward: 43.0 (43 timesteps)\n",
      "Episode 280 finished. Total reward: 100.0 (100 timesteps)\n",
      "Episode 281 finished. Total reward: 98.0 (98 timesteps)\n",
      "Episode 282 finished. Total reward: 70.0 (70 timesteps)\n",
      "Episode 283 finished. Total reward: 100.0 (100 timesteps)\n",
      "Episode 284 finished. Total reward: 98.0 (98 timesteps)\n",
      "Episode 285 finished. Total reward: 20.0 (20 timesteps)\n",
      "Episode 286 finished. Total reward: 100.0 (100 timesteps)\n",
      "Episode 287 finished. Total reward: 100.0 (100 timesteps)\n",
      "Episode 288 finished. Total reward: 100.0 (100 timesteps)\n",
      "Updating the policy...\n",
      "Updating finished!\n",
      "Episode 289 finished. Total reward: 100.0 (100 timesteps)\n",
      "Episode 290 finished. Total reward: 100.0 (100 timesteps)\n",
      "Episode 291 finished. Total reward: 81.0 (81 timesteps)\n",
      "Episode 292 finished. Total reward: 68.0 (68 timesteps)\n",
      "Episode 293 finished. Total reward: 100.0 (100 timesteps)\n",
      "Episode 294 finished. Total reward: 76.0 (76 timesteps)\n",
      "Episode 295 finished. Total reward: 90.0 (90 timesteps)\n",
      "Episode 296 finished. Total reward: 100.0 (100 timesteps)\n",
      "Episode 297 finished. Total reward: 75.0 (75 timesteps)\n",
      "Episode 298 finished. Total reward: 100.0 (100 timesteps)\n",
      "Episode 299 finished. Total reward: 100.0 (100 timesteps)\n",
      "Episode 300 finished. Total reward: 100.0 (100 timesteps)\n",
      "Episode 301 finished. Total reward: 100.0 (100 timesteps)\n",
      "Episode 302 finished. Total reward: 100.0 (100 timesteps)\n",
      "Episode 303 finished. Total reward: 100.0 (100 timesteps)\n",
      "Episode 304 finished. Total reward: 100.0 (100 timesteps)\n",
      "Episode 305 finished. Total reward: 79.0 (79 timesteps)\n",
      "Episode 306 finished. Total reward: 100.0 (100 timesteps)\n",
      "Episode 307 finished. Total reward: 100.0 (100 timesteps)\n",
      "Episode 308 finished. Total reward: 100.0 (100 timesteps)\n",
      "Episode 309 finished. Total reward: 100.0 (100 timesteps)\n",
      "Episode 310 finished. Total reward: 100.0 (100 timesteps)\n",
      "Updating the policy...\n",
      "Updating finished!\n",
      "Episode 311 finished. Total reward: 72.0 (72 timesteps)\n",
      "Episode 312 finished. Total reward: 100.0 (100 timesteps)\n",
      "Episode 313 finished. Total reward: 100.0 (100 timesteps)\n",
      "Episode 314 finished. Total reward: 100.0 (100 timesteps)\n",
      "Episode 315 finished. Total reward: 100.0 (100 timesteps)\n",
      "Episode 316 finished. Total reward: 100.0 (100 timesteps)\n",
      "Episode 317 finished. Total reward: 100.0 (100 timesteps)\n",
      "Episode 318 finished. Total reward: 100.0 (100 timesteps)\n",
      "Episode 319 finished. Total reward: 100.0 (100 timesteps)\n",
      "Episode 320 finished. Total reward: 100.0 (100 timesteps)\n",
      "Episode 321 finished. Total reward: 100.0 (100 timesteps)\n",
      "Episode 322 finished. Total reward: 100.0 (100 timesteps)\n",
      "Episode 323 finished. Total reward: 100.0 (100 timesteps)\n",
      "Episode 324 finished. Total reward: 100.0 (100 timesteps)\n",
      "Episode 325 finished. Total reward: 100.0 (100 timesteps)\n",
      "Episode 326 finished. Total reward: 100.0 (100 timesteps)\n",
      "Episode 327 finished. Total reward: 100.0 (100 timesteps)\n",
      "Episode 328 finished. Total reward: 100.0 (100 timesteps)\n",
      "Episode 329 finished. Total reward: 100.0 (100 timesteps)\n",
      "Episode 330 finished. Total reward: 100.0 (100 timesteps)\n",
      "Updating the policy...\n",
      "Updating finished!\n",
      "Episode 331 finished. Total reward: 100.0 (100 timesteps)\n",
      "Episode 332 finished. Total reward: 100.0 (100 timesteps)\n",
      "Episode 333 finished. Total reward: 100.0 (100 timesteps)\n",
      "Episode 334 finished. Total reward: 100.0 (100 timesteps)\n",
      "Episode 335 finished. Total reward: 100.0 (100 timesteps)\n",
      "Episode 336 finished. Total reward: 100.0 (100 timesteps)\n",
      "Episode 337 finished. Total reward: 100.0 (100 timesteps)\n",
      "Episode 338 finished. Total reward: 100.0 (100 timesteps)\n",
      "Episode 339 finished. Total reward: 81.0 (81 timesteps)\n",
      "Episode 340 finished. Total reward: 100.0 (100 timesteps)\n",
      "Episode 341 finished. Total reward: 100.0 (100 timesteps)\n",
      "Episode 342 finished. Total reward: 100.0 (100 timesteps)\n",
      "Episode 343 finished. Total reward: 100.0 (100 timesteps)\n",
      "Episode 344 finished. Total reward: 100.0 (100 timesteps)\n",
      "Episode 345 finished. Total reward: 100.0 (100 timesteps)\n",
      "Episode 346 finished. Total reward: 100.0 (100 timesteps)\n",
      "Episode 347 finished. Total reward: 100.0 (100 timesteps)\n",
      "Episode 348 finished. Total reward: 100.0 (100 timesteps)\n",
      "Episode 349 finished. Total reward: 100.0 (100 timesteps)\n",
      "Episode 350 finished. Total reward: 100.0 (100 timesteps)\n",
      "Updating the policy...\n",
      "Updating finished!\n",
      "Episode 351 finished. Total reward: 100.0 (100 timesteps)\n",
      "Episode 352 finished. Total reward: 100.0 (100 timesteps)\n",
      "Episode 353 finished. Total reward: 100.0 (100 timesteps)\n",
      "Episode 354 finished. Total reward: 100.0 (100 timesteps)\n",
      "Episode 355 finished. Total reward: 100.0 (100 timesteps)\n",
      "Episode 356 finished. Total reward: 100.0 (100 timesteps)\n",
      "Episode 357 finished. Total reward: 100.0 (100 timesteps)\n",
      "Episode 358 finished. Total reward: 100.0 (100 timesteps)\n",
      "Episode 359 finished. Total reward: 100.0 (100 timesteps)\n",
      "Episode 360 finished. Total reward: 100.0 (100 timesteps)\n",
      "Episode 361 finished. Total reward: 100.0 (100 timesteps)\n",
      "Episode 362 finished. Total reward: 100.0 (100 timesteps)\n",
      "Episode 363 finished. Total reward: 100.0 (100 timesteps)\n",
      "Episode 364 finished. Total reward: 100.0 (100 timesteps)\n",
      "Episode 365 finished. Total reward: 100.0 (100 timesteps)\n",
      "Episode 366 finished. Total reward: 100.0 (100 timesteps)\n",
      "Episode 367 finished. Total reward: 100.0 (100 timesteps)\n",
      "Episode 368 finished. Total reward: 100.0 (100 timesteps)\n",
      "Episode 369 finished. Total reward: 100.0 (100 timesteps)\n",
      "Episode 370 finished. Total reward: 100.0 (100 timesteps)\n",
      "Updating the policy...\n",
      "Updating finished!\n",
      "Episode 371 finished. Total reward: 100.0 (100 timesteps)\n",
      "Episode 372 finished. Total reward: 100.0 (100 timesteps)\n",
      "Episode 373 finished. Total reward: 100.0 (100 timesteps)\n",
      "Episode 374 finished. Total reward: 100.0 (100 timesteps)\n",
      "Episode 375 finished. Total reward: 100.0 (100 timesteps)\n",
      "Episode 376 finished. Total reward: 100.0 (100 timesteps)\n",
      "Episode 377 finished. Total reward: 100.0 (100 timesteps)\n",
      "Episode 378 finished. Total reward: 100.0 (100 timesteps)\n",
      "Episode 379 finished. Total reward: 100.0 (100 timesteps)\n",
      "Episode 380 finished. Total reward: 100.0 (100 timesteps)\n",
      "Episode 381 finished. Total reward: 100.0 (100 timesteps)\n",
      "Episode 382 finished. Total reward: 100.0 (100 timesteps)\n",
      "Episode 383 finished. Total reward: 100.0 (100 timesteps)\n",
      "Episode 384 finished. Total reward: 100.0 (100 timesteps)\n",
      "Episode 385 finished. Total reward: 100.0 (100 timesteps)\n",
      "Episode 386 finished. Total reward: 100.0 (100 timesteps)\n",
      "Episode 387 finished. Total reward: 100.0 (100 timesteps)\n",
      "Episode 388 finished. Total reward: 100.0 (100 timesteps)\n",
      "Episode 389 finished. Total reward: 100.0 (100 timesteps)\n",
      "Episode 390 finished. Total reward: 100.0 (100 timesteps)\n",
      "Updating the policy...\n",
      "Updating finished!\n",
      "Episode 391 finished. Total reward: 100.0 (100 timesteps)\n",
      "Episode 392 finished. Total reward: 100.0 (100 timesteps)\n",
      "Episode 393 finished. Total reward: 100.0 (100 timesteps)\n",
      "Episode 394 finished. Total reward: 100.0 (100 timesteps)\n",
      "Episode 395 finished. Total reward: 100.0 (100 timesteps)\n",
      "Episode 396 finished. Total reward: 100.0 (100 timesteps)\n",
      "Episode 397 finished. Total reward: 100.0 (100 timesteps)\n",
      "Episode 398 finished. Total reward: 100.0 (100 timesteps)\n",
      "Episode 399 finished. Total reward: 100.0 (100 timesteps)\n",
      "Episode 400 finished. Total reward: 100.0 (100 timesteps)\n",
      "Episode 401 finished. Total reward: 100.0 (100 timesteps)\n",
      "Episode 402 finished. Total reward: 100.0 (100 timesteps)\n",
      "Episode 403 finished. Total reward: 100.0 (100 timesteps)\n",
      "Episode 404 finished. Total reward: 100.0 (100 timesteps)\n",
      "Episode 405 finished. Total reward: 100.0 (100 timesteps)\n",
      "Episode 406 finished. Total reward: 100.0 (100 timesteps)\n",
      "Episode 407 finished. Total reward: 100.0 (100 timesteps)\n",
      "Episode 408 finished. Total reward: 100.0 (100 timesteps)\n",
      "Episode 409 finished. Total reward: 100.0 (100 timesteps)\n",
      "Episode 410 finished. Total reward: 100.0 (100 timesteps)\n",
      "Updating the policy...\n",
      "Updating finished!\n",
      "Episode 411 finished. Total reward: 100.0 (100 timesteps)\n",
      "Episode 412 finished. Total reward: 100.0 (100 timesteps)\n",
      "Episode 413 finished. Total reward: 100.0 (100 timesteps)\n",
      "Episode 414 finished. Total reward: 100.0 (100 timesteps)\n",
      "Episode 415 finished. Total reward: 100.0 (100 timesteps)\n",
      "Episode 416 finished. Total reward: 100.0 (100 timesteps)\n",
      "Episode 417 finished. Total reward: 100.0 (100 timesteps)\n",
      "Episode 418 finished. Total reward: 100.0 (100 timesteps)\n",
      "Episode 419 finished. Total reward: 100.0 (100 timesteps)\n",
      "Episode 420 finished. Total reward: 100.0 (100 timesteps)\n",
      "Episode 421 finished. Total reward: 100.0 (100 timesteps)\n",
      "Episode 422 finished. Total reward: 100.0 (100 timesteps)\n",
      "Episode 423 finished. Total reward: 100.0 (100 timesteps)\n",
      "Episode 424 finished. Total reward: 100.0 (100 timesteps)\n",
      "Episode 425 finished. Total reward: 100.0 (100 timesteps)\n",
      "Episode 426 finished. Total reward: 100.0 (100 timesteps)\n",
      "Episode 427 finished. Total reward: 100.0 (100 timesteps)\n",
      "Episode 428 finished. Total reward: 100.0 (100 timesteps)\n",
      "Episode 429 finished. Total reward: 100.0 (100 timesteps)\n",
      "Episode 430 finished. Total reward: 100.0 (100 timesteps)\n",
      "Updating the policy...\n",
      "Updating finished!\n",
      "Episode 431 finished. Total reward: 100.0 (100 timesteps)\n",
      "Episode 432 finished. Total reward: 100.0 (100 timesteps)\n",
      "Episode 433 finished. Total reward: 100.0 (100 timesteps)\n",
      "Episode 434 finished. Total reward: 100.0 (100 timesteps)\n",
      "Episode 435 finished. Total reward: 100.0 (100 timesteps)\n",
      "Episode 436 finished. Total reward: 100.0 (100 timesteps)\n",
      "Episode 437 finished. Total reward: 100.0 (100 timesteps)\n",
      "Episode 438 finished. Total reward: 100.0 (100 timesteps)\n",
      "Episode 439 finished. Total reward: 100.0 (100 timesteps)\n",
      "Episode 440 finished. Total reward: 100.0 (100 timesteps)\n",
      "Episode 441 finished. Total reward: 100.0 (100 timesteps)\n",
      "Episode 442 finished. Total reward: 100.0 (100 timesteps)\n",
      "Episode 443 finished. Total reward: 100.0 (100 timesteps)\n",
      "Episode 444 finished. Total reward: 100.0 (100 timesteps)\n",
      "Episode 445 finished. Total reward: 100.0 (100 timesteps)\n",
      "Episode 446 finished. Total reward: 100.0 (100 timesteps)\n",
      "Episode 447 finished. Total reward: 100.0 (100 timesteps)\n",
      "Episode 448 finished. Total reward: 100.0 (100 timesteps)\n",
      "Episode 449 finished. Total reward: 100.0 (100 timesteps)\n",
      "Episode 450 finished. Total reward: 100.0 (100 timesteps)\n",
      "Updating the policy...\n",
      "Updating finished!\n",
      "Episode 451 finished. Total reward: 100.0 (100 timesteps)\n",
      "Episode 452 finished. Total reward: 100.0 (100 timesteps)\n",
      "Episode 453 finished. Total reward: 100.0 (100 timesteps)\n",
      "Episode 454 finished. Total reward: 100.0 (100 timesteps)\n",
      "Episode 455 finished. Total reward: 100.0 (100 timesteps)\n",
      "Episode 456 finished. Total reward: 100.0 (100 timesteps)\n",
      "Episode 457 finished. Total reward: 100.0 (100 timesteps)\n",
      "Episode 458 finished. Total reward: 100.0 (100 timesteps)\n",
      "Episode 459 finished. Total reward: 100.0 (100 timesteps)\n",
      "Episode 460 finished. Total reward: 100.0 (100 timesteps)\n",
      "Episode 461 finished. Total reward: 100.0 (100 timesteps)\n",
      "Episode 462 finished. Total reward: 100.0 (100 timesteps)\n",
      "Episode 463 finished. Total reward: 100.0 (100 timesteps)\n",
      "Episode 464 finished. Total reward: 100.0 (100 timesteps)\n",
      "Episode 465 finished. Total reward: 100.0 (100 timesteps)\n",
      "Episode 466 finished. Total reward: 100.0 (100 timesteps)\n",
      "Episode 467 finished. Total reward: 100.0 (100 timesteps)\n",
      "Episode 468 finished. Total reward: 100.0 (100 timesteps)\n",
      "Episode 469 finished. Total reward: 100.0 (100 timesteps)\n",
      "Episode 470 finished. Total reward: 100.0 (100 timesteps)\n",
      "Updating the policy...\n",
      "Updating finished!\n",
      "Episode 471 finished. Total reward: 100.0 (100 timesteps)\n",
      "Episode 472 finished. Total reward: 100.0 (100 timesteps)\n",
      "Episode 473 finished. Total reward: 100.0 (100 timesteps)\n",
      "Episode 474 finished. Total reward: 100.0 (100 timesteps)\n",
      "Episode 475 finished. Total reward: 100.0 (100 timesteps)\n",
      "Episode 476 finished. Total reward: 100.0 (100 timesteps)\n",
      "Episode 477 finished. Total reward: 100.0 (100 timesteps)\n",
      "Episode 478 finished. Total reward: 100.0 (100 timesteps)\n",
      "Episode 479 finished. Total reward: 100.0 (100 timesteps)\n",
      "Episode 480 finished. Total reward: 100.0 (100 timesteps)\n",
      "Episode 481 finished. Total reward: 100.0 (100 timesteps)\n",
      "Episode 482 finished. Total reward: 100.0 (100 timesteps)\n",
      "Episode 483 finished. Total reward: 100.0 (100 timesteps)\n",
      "Episode 484 finished. Total reward: 100.0 (100 timesteps)\n",
      "Episode 485 finished. Total reward: 100.0 (100 timesteps)\n",
      "Episode 486 finished. Total reward: 100.0 (100 timesteps)\n",
      "Episode 487 finished. Total reward: 100.0 (100 timesteps)\n",
      "Episode 488 finished. Total reward: 100.0 (100 timesteps)\n",
      "Episode 489 finished. Total reward: 100.0 (100 timesteps)\n",
      "Episode 490 finished. Total reward: 100.0 (100 timesteps)\n",
      "Updating the policy...\n",
      "Updating finished!\n",
      "Episode 491 finished. Total reward: 100.0 (100 timesteps)\n",
      "Episode 492 finished. Total reward: 100.0 (100 timesteps)\n",
      "Episode 493 finished. Total reward: 100.0 (100 timesteps)\n",
      "Episode 494 finished. Total reward: 100.0 (100 timesteps)\n",
      "Episode 495 finished. Total reward: 100.0 (100 timesteps)\n",
      "Episode 496 finished. Total reward: 100.0 (100 timesteps)\n",
      "Episode 497 finished. Total reward: 100.0 (100 timesteps)\n",
      "Episode 498 finished. Total reward: 100.0 (100 timesteps)\n",
      "Episode 499 finished. Total reward: 100.0 (100 timesteps)\n",
      "Episode 500 finished. Total reward: 100.0 (100 timesteps)\n",
      "Model saved to /notebooks/rl2023/ex1_wandb_fix/results/model/CartPole-v1_params.pt\n",
      "------Training finished.------\n",
      "Numpy/Torch/Random Seed:  20\n",
      "Loading model from /notebooks/rl2023/ex1_wandb_fix/results/model/CartPole-v1_params.pt ...\n",
      "Testing...\n",
      "Test ep reward: 1000.0 seed: 20\n",
      "Test ep reward: 1000.0 seed: 20\n",
      "Test ep reward: 1000.0 seed: 20\n",
      "Test ep reward: 1000.0 seed: 20\n",
      "Test ep reward: 1000.0 seed: 20\n",
      "Test ep reward: 1000.0 seed: 20\n",
      "Test ep reward: 1000.0 seed: 20\n",
      "Test ep reward: 1000.0 seed: 20\n",
      "Test ep reward: 1000.0 seed: 20\n",
      "Test ep reward: 1000.0 seed: 20\n",
      "Average test reward: 1000.0 episode length: 1000.0\n",
      "---------------------------------\n",
      "\n",
      "Numpy/Torch/Random Seed:  200\n",
      "Configuration Settings: {'exp_name': 'ex1', 'seed': 200, 'env_name': 'CartPole-v1', 'max_episode_steps': 100, 'train_episodes': 500, 'batch_size': 64, 'min_update_samples': 2000, 'testing': False, 'model_path': 'default', 'save_video': False, 'save_model': True, 'save_logging': True, 'silent': False, 'use_wandb': True, 'run_suffix': 0}\n",
      "Training device: cpu\n",
      "Observation space dimensions: 4\n",
      "Action space dimensions: 2\n",
      "\n",
      "Episode 0 finished. Total reward: 19.0 (19 timesteps)\n",
      "Episode 1 finished. Total reward: 26.0 (26 timesteps)\n",
      "Episode 2 finished. Total reward: 16.0 (16 timesteps)\n",
      "Episode 3 finished. Total reward: 9.0 (9 timesteps)\n",
      "Episode 4 finished. Total reward: 21.0 (21 timesteps)\n",
      "Episode 5 finished. Total reward: 14.0 (14 timesteps)\n",
      "Episode 6 finished. Total reward: 57.0 (57 timesteps)\n",
      "Episode 7 finished. Total reward: 51.0 (51 timesteps)\n",
      "Episode 8 finished. Total reward: 37.0 (37 timesteps)\n",
      "Episode 9 finished. Total reward: 32.0 (32 timesteps)\n",
      "Episode 10 finished. Total reward: 10.0 (10 timesteps)\n",
      "Episode 11 finished. Total reward: 22.0 (22 timesteps)\n",
      "Episode 12 finished. Total reward: 43.0 (43 timesteps)\n",
      "Episode 13 finished. Total reward: 14.0 (14 timesteps)\n",
      "Episode 14 finished. Total reward: 15.0 (15 timesteps)\n",
      "Episode 15 finished. Total reward: 27.0 (27 timesteps)\n",
      "Episode 16 finished. Total reward: 8.0 (8 timesteps)\n",
      "Episode 17 finished. Total reward: 11.0 (11 timesteps)\n",
      "Episode 18 finished. Total reward: 29.0 (29 timesteps)\n",
      "Episode 19 finished. Total reward: 13.0 (13 timesteps)\n",
      "Episode 20 finished. Total reward: 16.0 (16 timesteps)\n",
      "Episode 21 finished. Total reward: 39.0 (39 timesteps)\n",
      "Episode 22 finished. Total reward: 15.0 (15 timesteps)\n",
      "Episode 23 finished. Total reward: 36.0 (36 timesteps)\n",
      "Episode 24 finished. Total reward: 19.0 (19 timesteps)\n",
      "Episode 25 finished. Total reward: 11.0 (11 timesteps)\n",
      "Episode 26 finished. Total reward: 26.0 (26 timesteps)\n",
      "Episode 27 finished. Total reward: 43.0 (43 timesteps)\n",
      "Episode 28 finished. Total reward: 13.0 (13 timesteps)\n",
      "Episode 29 finished. Total reward: 8.0 (8 timesteps)\n",
      "Episode 30 finished. Total reward: 8.0 (8 timesteps)\n",
      "Episode 31 finished. Total reward: 23.0 (23 timesteps)\n",
      "Episode 32 finished. Total reward: 13.0 (13 timesteps)\n",
      "Episode 33 finished. Total reward: 13.0 (13 timesteps)\n",
      "Episode 34 finished. Total reward: 9.0 (9 timesteps)\n",
      "Episode 35 finished. Total reward: 14.0 (14 timesteps)\n",
      "Episode 36 finished. Total reward: 18.0 (18 timesteps)\n",
      "Episode 37 finished. Total reward: 16.0 (16 timesteps)\n",
      "Episode 38 finished. Total reward: 12.0 (12 timesteps)\n",
      "Episode 39 finished. Total reward: 12.0 (12 timesteps)\n",
      "Episode 40 finished. Total reward: 30.0 (30 timesteps)\n",
      "Episode 41 finished. Total reward: 17.0 (17 timesteps)\n",
      "Episode 42 finished. Total reward: 16.0 (16 timesteps)\n",
      "Episode 43 finished. Total reward: 14.0 (14 timesteps)\n",
      "Episode 44 finished. Total reward: 9.0 (9 timesteps)\n",
      "Episode 45 finished. Total reward: 24.0 (24 timesteps)\n",
      "Episode 46 finished. Total reward: 31.0 (31 timesteps)\n",
      "Episode 47 finished. Total reward: 44.0 (44 timesteps)\n",
      "Episode 48 finished. Total reward: 19.0 (19 timesteps)\n",
      "Episode 49 finished. Total reward: 11.0 (11 timesteps)\n",
      "Episode 50 finished. Total reward: 13.0 (13 timesteps)\n",
      "Episode 51 finished. Total reward: 24.0 (24 timesteps)\n",
      "Episode 52 finished. Total reward: 8.0 (8 timesteps)\n",
      "Episode 53 finished. Total reward: 31.0 (31 timesteps)\n",
      "Episode 54 finished. Total reward: 15.0 (15 timesteps)\n",
      "Episode 55 finished. Total reward: 34.0 (34 timesteps)\n",
      "Episode 56 finished. Total reward: 10.0 (10 timesteps)\n",
      "Episode 57 finished. Total reward: 16.0 (16 timesteps)\n",
      "Episode 58 finished. Total reward: 30.0 (30 timesteps)\n",
      "Episode 59 finished. Total reward: 41.0 (41 timesteps)\n",
      "Episode 60 finished. Total reward: 13.0 (13 timesteps)\n",
      "Episode 61 finished. Total reward: 22.0 (22 timesteps)\n",
      "Episode 62 finished. Total reward: 32.0 (32 timesteps)\n",
      "Episode 63 finished. Total reward: 10.0 (10 timesteps)\n",
      "Episode 64 finished. Total reward: 50.0 (50 timesteps)\n",
      "Episode 65 finished. Total reward: 15.0 (15 timesteps)\n",
      "Episode 66 finished. Total reward: 18.0 (18 timesteps)\n",
      "Episode 67 finished. Total reward: 15.0 (15 timesteps)\n",
      "Episode 68 finished. Total reward: 18.0 (18 timesteps)\n",
      "Episode 69 finished. Total reward: 15.0 (15 timesteps)\n",
      "Episode 70 finished. Total reward: 25.0 (25 timesteps)\n",
      "Episode 71 finished. Total reward: 18.0 (18 timesteps)\n",
      "Episode 72 finished. Total reward: 12.0 (12 timesteps)\n",
      "Episode 73 finished. Total reward: 16.0 (16 timesteps)\n",
      "Episode 74 finished. Total reward: 17.0 (17 timesteps)\n",
      "Episode 75 finished. Total reward: 20.0 (20 timesteps)\n",
      "Episode 76 finished. Total reward: 15.0 (15 timesteps)\n",
      "Episode 77 finished. Total reward: 20.0 (20 timesteps)\n",
      "Episode 78 finished. Total reward: 31.0 (31 timesteps)\n",
      "Episode 79 finished. Total reward: 13.0 (13 timesteps)\n",
      "Episode 80 finished. Total reward: 13.0 (13 timesteps)\n",
      "Episode 81 finished. Total reward: 20.0 (20 timesteps)\n",
      "Episode 82 finished. Total reward: 29.0 (29 timesteps)\n",
      "Episode 83 finished. Total reward: 14.0 (14 timesteps)\n",
      "Episode 84 finished. Total reward: 24.0 (24 timesteps)\n",
      "Episode 85 finished. Total reward: 12.0 (12 timesteps)\n",
      "Episode 86 finished. Total reward: 26.0 (26 timesteps)\n",
      "Episode 87 finished. Total reward: 15.0 (15 timesteps)\n",
      "Episode 88 finished. Total reward: 26.0 (26 timesteps)\n",
      "Episode 89 finished. Total reward: 18.0 (18 timesteps)\n",
      "Episode 90 finished. Total reward: 21.0 (21 timesteps)\n",
      "Episode 91 finished. Total reward: 32.0 (32 timesteps)\n",
      "Episode 92 finished. Total reward: 12.0 (12 timesteps)\n",
      "Episode 93 finished. Total reward: 18.0 (18 timesteps)\n",
      "Episode 94 finished. Total reward: 13.0 (13 timesteps)\n",
      "Episode 95 finished. Total reward: 24.0 (24 timesteps)\n",
      "Updating the policy...\n"
     ]
    }
   ],
   "source": [
    "episodes = 10\n",
    "train_timesteps = 100\n",
    "test_timesteps = 1000\n",
    "\n",
    "for seed in [20,200,2000,20000,200000]:\n",
    "    t.train(cfg_path=Path().cwd()/'cfg'/'cartpole_v1.yaml', \n",
    "        cfg_args=dict(seed=seed, max_episode_steps=train_timesteps, save_video=False))\n",
    "    \n",
    "    t.test(episodes=episodes, \n",
    "           cfg_path=Path().cwd()/'cfg'/'cartpole_v1.yaml', \n",
    "           cfg_args=dict(testing=True, seed=seed, max_episode_steps=test_timesteps, use_wandb = False, save_video=False))\n",
    "    print('---------------------------------\\n')"
   ]
  },
  {
   "cell_type": "markdown",
   "id": "95ff4274",
   "metadata": {},
   "source": [
    "<a id='Q2'></a>\n",
    "<div class=\" alert alert-warning\">\n",
    "    <h3><b>Student Question 2.1</b> Analysis of Training Performance (15 points) </h3> \n",
    "\n",
    "Are the behavior and performance of the trained models the same every time? Why/why not? Analyze the causes briefly.\n",
    "    \n",
    "🔝\t<a href='#TOC'><b>Table of Contents</b></a>\n",
    "</div>\n"
   ]
  },
  {
   "cell_type": "markdown",
   "id": "eee2bcdb",
   "metadata": {},
   "source": [
    "The trained models did not consistently perform the same way for the following reasons:\n",
    "\n",
    "1. Random Initialization: When we start training a reinforcement learning agent, we initialize its parameters randomly. Each unique random seed results in a different initial set of parameters. These initial conditions significantly influence how the agent learns.\n",
    "\n",
    "2. Exploration vs. Exploitation: Reinforcement learning involves a balance between exploring different actions to learn about the environment and exploiting the current knowledge to maximize rewards. The choice between exploration and exploitation can vary depending on the initial conditions, leading to different learning paths.\n",
    "\n",
    "3. Stochastic Environments: Many environments in reinforcement learning have inherent randomness. Even if the agent follows the same policy, it can encounter different outcomes in different runs due to this inherent randomness.\n",
    "\n",
    "4. Local Optima: Reinforcement learning algorithms can get stuck in local optima, which are suboptimal solutions. Different random seeds may lead the learning process to converge to different local optima, resulting in varying learned policies and test rewards.\n",
    "\n",
    "5. Limited Training Data: Training for only 100 timesteps is relatively short in the context of reinforcement learning. This limited training data makes the learning process highly sensitive to initial conditions and random variations.\n",
    "\n",
    "\n",
    "Indeed, it's notable that despite the variations in the behavior and performance of the trained models across different seeds, the rewards consistently hovered around 100, which is the number of training episodes.\n",
    "\n",
    "I assume these could be some possible reasons for the rewards staying close to 100:\n",
    "\n",
    "1. Initial Learning: The initial stages of training typically involve rapid learning, where the agent quickly discovers actions that yield rewards. This initial learning phase tends to be relatively consistent across different seeds.\n",
    "\n",
    "2. Limited Exploration: Depending on the specific environment and exploration strategy, the agent might converge to a somewhat \"safe\" policy that consistently achieves a moderate level of reward but doesn't explore much beyond that. This can result in rewards staying close to the initial training performance.\n",
    "\n",
    "3. Exploration vs. Exploitation Balance: The agent might struggle to strike a balance between exploring new actions and exploiting known actions. This balance can be influenced by the environment's stochasticity and the agent's exploration strategy.\n",
    "\n",
    "4. Limited Training Timesteps: Training for a relatively short duration (100 timesteps) may not provide enough time for the agent to explore and discover more effective"
   ]
  },
  {
   "cell_type": "markdown",
   "id": "8b248abf",
   "metadata": {},
   "source": [
    "<a id='Q3'></a>\n",
    "<div class=\" alert alert-warning\">\n",
    "    <h3><b>Student Question 2.2</b> Stochasticity (10 points) </h3> \n",
    "\n",
    "What are the implications of this stochasticity, when it comes to comparing reinforcement learning algorithms to each other? Please explain.\n",
    "    \n",
    "🔝\t<a href='#TOC'><b>Table of Contents</b></a>\n",
    "</div>\n"
   ]
  },
  {
   "cell_type": "markdown",
   "id": "b7b41e22",
   "metadata": {},
   "source": [
    "The trade-off made between exploration and exploitation can create a great variance between successive runs of the same training process. This implies that comparisons should be performed carefully: for each algorithm to be compared, either you use a long training process in order to converge to optimal policy, or you consider an average performance on multiple experiments.\n",
    "For the considered algorithm, an overview of 100 independent executions can be seen in the following image. The implications of this stochasticity of the test performance depending on the set seed are that when comparing different models, one should take this into account e.g. by doing the training and testing with different seeds to get accurate estimation of the results other users might get."
   ]
  },
  {
   "cell_type": "markdown",
   "id": "842afa68",
   "metadata": {},
   "source": [
    "# Reacher <a id='3.'></a>\n",
    "\n",
    "Now we will focus on designing a reward function for a different environment, the Reacher environment, where a two-joint manipulator needs to reach a goal (see Figure 2).\n",
    "\n",
    "<figure>\n",
    "<img src=\"imgs/reacher.png\" width=\"200px\">\n",
    "<figcaption style=\"text-align: center\"> Figure 2: The Reacher environment  </figcaption>\n",
    "</figure>\n",
    "\n",
    "The Cartesian ($x$, $y$) position of the end-effector of the manipulator can be determined following the equation:\n",
    "\n",
    "$$\n",
    " x = L_1 \\sin(\\theta_0)+L_2 \\sin(\\theta_0+\\theta_1)\\\\\n",
    " y = -L_1 \\cos(\\theta_0)-L_2 \\cos(\\theta_0+\\theta_1)\n",
    "$$\n",
    "\n",
    "where $L1 = 1$, $L2 = 1$ are the lengths, and $\\theta_0$, $\\theta_1$ the joint angles of the first and second links respectively. The state (and observation) in this environment is the two element vector:\n",
    "\n",
    "$$\n",
    "o=s=\\left(\\begin{array}{c}\n",
    "\\theta_0 \\\\\n",
    "\\theta_1 \\\\\n",
    "\\end{array}\\right) \\text {, }\n",
    "$$\n",
    "\n",
    "The action space now consists of 5 \"options\"; 4 correspond rotating the first/second joint left/right, and the final one performs no motion at all (the configuration doesn’t change). The episode terminates when the agent reaches the target position, marked in red. Now, let us design a custom reward function and use it for training the RL agent."
   ]
  },
  {
   "cell_type": "markdown",
   "id": "e138b75d",
   "metadata": {},
   "source": [
    "<a id='T3'></a>\n",
    "<div class=\" alert alert-warning\">\n",
    "    <h3><b>Student Task 3.</b> Reward Functions (20 points) </h3> \n",
    "\n",
    "Below two classes are shown that modify the reward function of the reacher function provided in ```reacher.py```. Edit the function ```get_reward``` _below_ (not in ```reacher.py```) in both classes. For each class, write a reward function to incentivise the agent to learn the following behaviors:\n",
    "\n",
    "Class 1) ```SpinningReacherEnv```: Keep the manipulator rotating clockwise continuously (w.r.t. angle θ_0). You can use a lower number of training episodes for this, e.g. train(cfg_args=dict(env_name='SpinningReacher-v0', train_episodes=200), overrides=['env=reacher_v1'])\n",
    "\n",
    "Class 2) ```TargetReacherEnv```: Reach the goal point located in x = [1.0,1.0] (marked in red). Use at least 500 training episodes.\n",
    "    \n",
    "Train one model for each behavior. \n",
    "\n",
    "**Hint:** Use the observation vector to get the quantities required to compute the new reward (such as the position of the manipulator). You can get the Cartesian position of the end-effector with ```self.get_cartesian_pos(state)```.\n",
    "            \n",
    "🔝\t<a href='#TOC'><b>Table of Contents</b></a>\n",
    "</div>\n"
   ]
  },
  {
   "cell_type": "code",
   "execution_count": null,
   "id": "32bf76fe",
   "metadata": {
    "tags": []
   },
   "outputs": [],
   "source": [
    "from reacher import ReacherEnv\n",
    "from typing import Optional\n",
    "from gymnasium.envs.registration import register\n",
    "\n",
    "class SpinningReacherEnv(ReacherEnv):\n",
    "    def __init__(self, render_mode: Optional[str] = None, max_episode_steps=200):\n",
    "        super().__init__(render_mode=render_mode, max_episode_steps=max_episode_steps)\n",
    "        \n",
    "    def get_reward(self, prev_state, action, next_state):\n",
    "        # TODO: Task 3: Implement and test the first reward function\n",
    "        ########## Your code starts here ##########\n",
    "        prev_state_t0 = prev_state[0]\n",
    "        next_state_t0 = next_state[0]\n",
    "        d = prev_state_t0 - next_state_t0\n",
    "        reward = -(0.2-d)**2\n",
    "        return reward\n",
    "        ########## Your codes end here ########## \n",
    "        \n",
    "    \n",
    "register(\"SpinningReacher-v0\",\n",
    "        entry_point=\"%s:SpinningReacherEnv\"%__name__,\n",
    "        max_episode_steps=200)\n",
    "\n",
    "class TargetReacherEnv(ReacherEnv):\n",
    "    def __init__(self, render_mode: Optional[str] = None, max_episode_steps=200):\n",
    "        super().__init__(render_mode=render_mode, max_episode_steps=max_episode_steps)\n",
    "        \n",
    "    def get_reward(self, prev_state, action, next_state):\n",
    "        # TODO: Task 3: Implement and test the second reward function\n",
    "        ########## Your code starts here ##########\n",
    "        next_state_cart = self.get_cartesian_pos(next_state)\n",
    "        d = np.linalg.norm(self.goal - next_state_cart)\n",
    "        return -d\n",
    "        ########## Your codes end here ########## \n",
    "        \n",
    "register(\"TargetReacher-v0\",\n",
    "        entry_point=\"%s:TargetReacherEnv\"%__name__,\n",
    "        max_episode_steps=200)"
   ]
  },
  {
   "cell_type": "code",
   "execution_count": null,
   "id": "765ea45c",
   "metadata": {
    "tags": []
   },
   "outputs": [],
   "source": [
    "t.train(cfg_path=Path().cwd()/'cfg'/'reacher_v1.yaml', \n",
    "      cfg_args=dict(env_name='SpinningReacher-v0', train_episodes=200, seed=1, use_wandb = False)) # < 5 mins"
   ]
  },
  {
   "cell_type": "code",
   "execution_count": null,
   "id": "2d4cb332",
   "metadata": {
    "tags": []
   },
   "outputs": [],
   "source": [
    "t.test(episodes=10, cfg_path=Path().cwd()/'cfg'/'reacher_v1.yaml', \n",
    "       cfg_args=dict(env_name='SpinningReacher-v0', testing=True, use_wandb = False))"
   ]
  },
  {
   "cell_type": "markdown",
   "id": "383507bc",
   "metadata": {},
   "source": [
    "The agent acting in the environment can be seen using the following command. Change the ```path``` to pick the episode you want to visualize. Bear in mind by default video saving for training is taken every 50 episodes."
   ]
  },
  {
   "cell_type": "code",
   "execution_count": null,
   "id": "555bc002",
   "metadata": {
    "tags": []
   },
   "outputs": [],
   "source": [
    "Video(work_dir/'video'/'SpinningReacher-v0'/'test'/f'ex1-episode-0.mp4',\n",
    "      embed=True, html_attributes=\"loop autoplay\") # Set html_attributes=\"controls\" for video control"
   ]
  },
  {
   "cell_type": "code",
   "execution_count": null,
   "id": "663c258a",
   "metadata": {
    "tags": []
   },
   "outputs": [],
   "source": [
    "t.train(cfg_path=Path().cwd()/'cfg'/'reacher_v1.yaml', \n",
    "      cfg_args=dict(env_name='TargetReacher-v0', train_episodes=500, seed=1, use_wandb = False)) # < 5 mins"
   ]
  },
  {
   "cell_type": "code",
   "execution_count": null,
   "id": "4714194c",
   "metadata": {
    "tags": []
   },
   "outputs": [],
   "source": [
    "t.test(episodes=10, cfg_path=Path().cwd()/'cfg'/'reacher_v1.yaml', \n",
    "       cfg_args=dict(env_name='TargetReacher-v0', seed=None, testing=True, use_wandb = False))"
   ]
  },
  {
   "cell_type": "code",
   "execution_count": null,
   "id": "67152513",
   "metadata": {
    "tags": []
   },
   "outputs": [],
   "source": [
    "Video(work_dir/'video'/'TargetReacher-v0'/'test'/f'ex1-episode-0.mp4',\n",
    "      embed=True, html_attributes=\"loop autoplay\") # Set html_attributes=\"controls\" for video control"
   ]
  },
  {
   "cell_type": "markdown",
   "id": "c384e863",
   "metadata": {},
   "source": [
    "<a id='T4'></a>\n",
    "<div class=\" alert alert-warning\">\n",
    "    <h3><b>Student Task 4.</b> Visualizing Behavior (10 points) </h3> \n",
    "\n",
    "Now, let us visualize the reward function for the second behavior (reaching the goal [1,1]). Plot the values of the second reward function from Task 3 and the learned best action as a function of the state (the joint positions). Use the code below as a starting point. After plotting, answer the questions below.\n",
    "            \n",
    "🔝\t<a href='#TOC'><b>Table of Contents</b></a>\n",
    "</div>\n"
   ]
  },
  {
   "cell_type": "code",
   "execution_count": null,
   "id": "139b3387",
   "metadata": {
    "tags": []
   },
   "outputs": [],
   "source": [
    "import matplotlib.pyplot as plt\n",
    "import seaborn as sns\n",
    "import gymnasium as gym\n",
    "from agent import Agent, Policy"
   ]
  },
  {
   "cell_type": "code",
   "execution_count": null,
   "id": "0035a7f8",
   "metadata": {
    "tags": []
   },
   "outputs": [],
   "source": [
    "env_name = \"TargetReacher-v0\" \n",
    "resolution = 101  # Resolution of the policy/reward image\n",
    "\n",
    "# Load policy from default path to plot\n",
    "policy_dir = Path().cwd()/'results'/'model'/f'{env_name}_params.pt'\n",
    "\n",
    "sns.set()\n",
    "\n",
    "# Create a gym environment\n",
    "env = gym.make(env_name)\n",
    "\n",
    "action_space_dim = u.get_space_dim(env.action_space)\n",
    "observation_space_dim = u.get_space_dim(env.observation_space)\n",
    "policy = Policy(observation_space_dim, action_space_dim)\n",
    "\n",
    "if policy_dir:\n",
    "    policy.load_state_dict(torch.load(policy_dir))\n",
    "    print(\"Loading policy from\", policy_dir)\n",
    "else:\n",
    "    print(\"Plotting a random policy\")"
   ]
  },
  {
   "cell_type": "code",
   "execution_count": null,
   "id": "170a06be",
   "metadata": {
    "tags": []
   },
   "outputs": [],
   "source": [
    "# Create a grid and initialize arrays to store rewards and actions\n",
    "npoints = resolution\n",
    "state_range = np.linspace(-np.pi, np.pi, npoints)\n",
    "rewards = np.zeros((npoints, npoints))\n",
    "actions = np.zeros((npoints, npoints), dtype=np.int32)\n",
    "\n",
    "# Loop through state[0] and state[1]\n",
    "for i,th1 in enumerate(state_range):\n",
    "    for j,th2 in enumerate(state_range):\n",
    "        # Create the state vector from th1, th2\n",
    "        state = np.array([th1, th2])\n",
    "\n",
    "        # Query the policy and find the most probable action\n",
    "        with torch.no_grad():\n",
    "            action_dist, _ = policy(torch.from_numpy(state).float().unsqueeze(0))\n",
    "        action_probs = action_dist.probs.numpy()\n",
    "\n",
    "        # TODO: Task 4: 1. What's the best action, according to the policy?\n",
    "        # .             2. Compute the reward given state\n",
    "        ########## Your code starts here ##########\n",
    "        # Use the action probabilities in the action_probs vector\n",
    "        # (it's a numpy array)\n",
    "        best = np.argmax(action_probs)\n",
    "        actions[i,j] = best\n",
    "        rewards[i,j] = env.get_reward(state, best, state)\n",
    "        ########## Your code ends here ##########\n",
    "        \n",
    "max_index = np.argmax(rewards)\n",
    "row_index, col_index = np.unravel_index(max_index, rewards.shape)\n",
    "print('highest reward: J1: ',state_range[row_index],' J2: ',state_range[col_index], ' reward value: ', rewards[row_index,col_index])\n",
    "\n",
    "min_index = np.argmin(rewards)\n",
    "row_index, col_index = np.unravel_index(min_index, rewards.shape)\n",
    "print('lowest reward: J1: ', state_range[row_index],' J2: ',state_range[col_index], ' reward value: ', rewards[row_index,col_index])"
   ]
  },
  {
   "cell_type": "code",
   "execution_count": null,
   "id": "ea36aa9a",
   "metadata": {
    "tags": []
   },
   "outputs": [],
   "source": [
    "# Create the reward plot\n",
    "num_ticks = 10\n",
    "tick_skip = max(1, npoints // num_ticks)\n",
    "tick_shift = 2*np.pi/npoints/2\n",
    "tick_points = np.arange(npoints)[::tick_skip] + tick_shift\n",
    "tick_labels = state_range.round(2)[::tick_skip]\n",
    "\n",
    "sns.heatmap(rewards)\n",
    "plt.xticks(tick_points, tick_labels, rotation=45)\n",
    "plt.yticks(tick_points, tick_labels, rotation=45)\n",
    "plt.xlabel(\"J2\")\n",
    "plt.ylabel(\"J1\")\n",
    "plt.title(\"Reward\")\n",
    "plt.suptitle(\"Rewards in %s\" % env_name)\n",
    "plt.show()\n"
   ]
  },
  {
   "cell_type": "code",
   "execution_count": null,
   "id": "99f6c89a",
   "metadata": {
    "tags": []
   },
   "outputs": [],
   "source": [
    "# # Create the policy plot\n",
    "cmap = sns.color_palette(\"deep\", action_space_dim)\n",
    "sns.heatmap(actions, cmap=cmap, vmin=0, vmax=action_space_dim-1)\n",
    "plt.xticks(tick_points, tick_labels, rotation=45)\n",
    "plt.yticks(tick_points, tick_labels, rotation=45)\n",
    "colorbar = plt.gca().collections[0].colorbar\n",
    "ticks = np.array(range(action_space_dim))*((action_space_dim-1)/action_space_dim)+0.5\n",
    "colorbar.set_ticks(ticks)\n",
    "if env.spec.id == \"Reacher-v1\":\n",
    "    # In Reacher, we can replace 0..4 with more readable labels\n",
    "    labels = [\"J1+\", \"J1-\", \"J2+\", \"J2-\", \"Stop\"]\n",
    "else:\n",
    "    labels = list(map(str, range(action_space_dim)))\n",
    "colorbar.set_ticklabels(labels)\n",
    "plt.xlabel(\"J2\")\n",
    "plt.ylabel(\"J1\")\n",
    "plt.title(\"Best action\")\n",
    "plt.suptitle(\"Best action in %s\" % env_name)\n",
    "plt.show()"
   ]
  },
  {
   "cell_type": "markdown",
   "id": "c45dc911",
   "metadata": {},
   "source": [
    "<a id='3.2.1'></a>\n",
    "<div class=\" alert alert-warning\">\n",
    "    <h3><b>Student Question 4.1</b> Achieved Performance (5 points) </h3> \n",
    "\n",
    "Where are the highest and lowest reward achieved?\n",
    "            \n",
    "🔝\t<a href='#TOC'><b>Table of Contents</b></a>\n",
    "</div>\n"
   ]
  },
  {
   "cell_type": "markdown",
   "id": "7011e57b",
   "metadata": {},
   "source": [
    "highest reward: J1:  -3.141592653589793  J2:  -1.5707963267948963  reward value:  -2.482534153247273e-16\n",
    "\n",
    "\n",
    "lowest reward: J1:  -0.816814089933346  J2:  4.440892098500626e-16  reward value:  -3.4138047591214704\n",
    "\n",
    "\n",
    "\n",
    "This is based on the code, I implemented to find lowest and highest rewards."
   ]
  },
  {
   "cell_type": "markdown",
   "id": "f77cbd95",
   "metadata": {},
   "source": [
    "<a id='Q5'></a>\n",
    "<div class=\" alert alert-warning\">\n",
    "    <h3><b>Student Question 4.2</b> Analysis of Behaviour (10 points) </h3> \n",
    "\n",
    "Did the policy learn to reach the goal from every possible state (manipulator configuration) in an optimal way (i.e. with lowest possible number of steps)? Why/why not?\n",
    "            \n",
    "🔝\t<a href='#TOC'><b>Table of Contents</b></a>\n",
    "</div>"
   ]
  },
  {
   "cell_type": "markdown",
   "id": "f5b2b7fd",
   "metadata": {},
   "source": [
    "The behavior of the robot, consistently rotating left as shown in the provided plot and action sequence:\n",
    "\n",
    "0 rotate to left joint 1\n",
    "\n",
    "2 rotate to left joint 2\n",
    "\n",
    "is not indicative of optimal performance. This repetitive leftward rotation is a consequence of the training process, which likely began from the same initial position during training. As a result, the robot may not have learned to adapt its actions effectively to various real-world scenarios or achieve optimal outcomes in different contexts.\n",
    "\n",
    "This highlights the importance of diverse training data and starting positions to ensure that the robot's learned behaviors are adaptable and optimal across a range of situations, rather than being constrained by a fixed, suboptimal routine."
   ]
  },
  {
   "cell_type": "markdown",
   "id": "4c50da4d",
   "metadata": {},
   "source": [
    "# 4. Submitting <a id='4.'></a>\n",
    "Ensure all tasks and questions (in ```ex1.ipynb```) are answered and the relevant plots are recorded in the relevant places. Details about attaching images and figures can be found below. The relevant graphs to be included for this assignment are:\n",
    "- Task 1, CartPole ```episodesep_reward``` plot from logged csv file\n",
    "- x2 Task 4 reward plots\n",
    "\n",
    "Ensure the correct model files are saved:\n",
    "- results/model/CartPole-v1_params.pt\n",
    "- results/model/SpinningReacher-v0_params.pt\n",
    "- results/model/TargetReacher-v0_params.pt"
   ]
  },
  {
   "cell_type": "markdown",
   "id": "d4c3b7e3-49a1-4ca6-8484-e9fd422271be",
   "metadata": {},
   "source": [
    "## 4.1 Feedback <a id='4.1'></a>\n",
    "\n",
    "In order to help the staff of the course as well as the forthcoming students, it would be great if you could answer to the following questions in your submission:"
   ]
  },
  {
   "cell_type": "markdown",
   "id": "29381b17-ce64-4a1c-b16c-e82ea2a0af96",
   "metadata": {},
   "source": [
    "1) How much time did you spend solving this exercise? (change the ```hrs``` variable below to a floating point number representing the number of hours taken e.g. 5.43)\n"
   ]
  },
  {
   "cell_type": "code",
   "execution_count": null,
   "id": "cbc91b59-0048-475d-a679-8e976ba0c7b7",
   "metadata": {},
   "outputs": [],
   "source": [
    "hrs = None"
   ]
  },
  {
   "cell_type": "markdown",
   "id": "4dbefa77-e4a4-48ec-8049-e52b40fff463",
   "metadata": {},
   "source": [
    "2) Difficulty of each task/question from 1-5 (int or float)"
   ]
  },
  {
   "cell_type": "code",
   "execution_count": null,
   "id": "35321f8a-a156-4953-ba84-689b6e53a0b8",
   "metadata": {},
   "outputs": [],
   "source": [
    "T1 = None # Student Task 1. Implementing Q-Learning (25 points)\n",
    "T2 = None # Student Task 2. Visualizing the Value Function (10 points)\n",
    "Q2_1 = None # Student Question 2.1 Analyzing the Value Function Heatmap (15 points)\n",
    "T3 = None # Student Task 3. Investigating Initial Values (10 points)\n",
    "Q3_1 = None # Student Question 3.1 Analyzing Initial Values (5 points)\n",
    "Q3_2 = None # Student Question 3.2 Exploration (15 points)\n",
    "T4 = None # Student Task 4. Using Q-Learning on the Lunar Lander Environment (5 points)\n",
    "Q4_1 = None # Student Question 4.1 Lunar Lander Performance (15 points)"
   ]
  },
  {
   "cell_type": "markdown",
   "id": "ce4983ba-5031-460d-bdb3-e7cd708ed203",
   "metadata": {},
   "source": [
    "3) How well did you understand the content of the task/question from 1-5? (int or float)\n"
   ]
  },
  {
   "cell_type": "code",
   "execution_count": null,
   "id": "6ed5d535-89b1-4852-81ef-541a0e1d6dcd",
   "metadata": {},
   "outputs": [],
   "source": [
    "T1 = None # Student Task 1. Implementing Q-Learning (25 points)\n",
    "T2 = None # Student Task 2. Visualizing the Value Function (10 points)\n",
    "Q2_1 = None # Student Question 2.1 Analyzing the Value Function Heatmap (15 points)\n",
    "T3 = None # Student Task 3. Investigating Initial Values (10 points)\n",
    "Q3_1 = None # Student Question 3.1 Analyzing Initial Values (5 points)\n",
    "Q3_2 = None # Student Question 3.2 Exploration (15 points)\n",
    "T4 = None # Student Task 4. Using Q-Learning on the Lunar Lander Environment (5 points)\n",
    "Q4_1 = None # Student Question 4.1 Lunar Lander Performance (15 points)"
   ]
  },
  {
   "cell_type": "markdown",
   "id": "f7670bd2-6bff-418a-bf25-fabf1a3e5396",
   "metadata": {},
   "source": [
    "4) General feedback. Consider questions like:\n",
    "\n",
    "    - Did the content of the lecture relate well with the assignment?\n",
    "    - To what extent did you find the material to be potentially useful for your research and studies?\n",
    "    \n",
    "And other feedback you think is worth including. Type in the box below"
   ]
  },
  {
   "cell_type": "markdown",
   "id": "e4330ed5-2f15-4580-bf05-34e9aaf0004c",
   "metadata": {
    "tags": []
   },
   "source": [
    "Please use the following section to record references.\n",
    "# References <a id='5.'></a>\n",
    "\n",
    "[1] Sutton, Richard S., and Andrew G. Barto. \"Reinforcement Learning: An Introduction (in progress).\" London, England (2017). http://incompleteideas.net/book/RLbook2018.pdf"
   ]
  }
 ],
 "metadata": {
  "kernelspec": {
   "display_name": "Python 3",
   "language": "python",
   "name": "python3"
  },
  "language_info": {
   "codemirror_mode": {
    "name": "ipython",
    "version": 3
   },
   "file_extension": ".py",
   "mimetype": "text/x-python",
   "name": "python",
   "nbconvert_exporter": "python",
   "pygments_lexer": "ipython3",
   "version": "3.10.8"
  }
 },
 "nbformat": 4,
 "nbformat_minor": 5
}
