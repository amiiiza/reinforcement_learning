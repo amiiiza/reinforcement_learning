{
 "cells": [
  {
   "cell_type": "code",
   "execution_count": null,
   "id": "5cde50b6-2cc7-4142-b45a-180c1db29f88",
   "metadata": {},
   "outputs": [],
   "source": []
  },
  {
   "cell_type": "markdown",
   "id": "332ba632",
   "metadata": {},
   "source": [
    "\n",
    "<div class=\"alert alert-block alert-info\">\n",
    "   <h2 align=\"center\"> <center><b> Reinforcement Learning Assignment 7 - Model Based Reinforcement Learning </b></center></h2>\n",
    "\n",
    "<br>\n",
    "<center><font size=\"3\">This notebook is a part of teaching material for ELEC-E8125</font></center>\n",
    "<center><font size=\"3\">Sep 4, 2023 - Nov 30, 2023</font></center>\n",
    "<center><font size=\"3\">Aalto University</font></center>\n",
    "</div>\n",
    "\n",
    "\n",
    "<a id='TOC'></a>\n",
    "\n",
    "<div class=\"alert alert-block alert-success\">\n",
    "    \n",
    "# Table of contents\n",
    "* <a href='#1.'> 1. Introduction </a>\n",
    "* <a href='#1.1'> 1.1 Learning Objectives </a>\n",
    "* <a href='#1.2'> 1.2 Code Structure & Files </a>\n",
    "* <a href='#2.'> 2. Cross Entropy Method (CEM) </a>\n",
    "* <a href='#3.'> 3. Submitting </a>\n",
    "* <a href='#3.1'> 3.1 Feedback </a>\n",
    "* <a href='#4.'> References</a>\n",
    "\n",
    "<a href='#T1'><b>Student Task 1.</b> Implementing CEM (30 points)</a>\\\n",
    "<a href='#Q1'><b>Student Question 1.1</b> Changing Number of Samples (10 points)</a>\\\n",
    "<a href='#Q2'><b>Student Question 1.2</b> Model-free vs Mode-based RL (20 points)</a>\n",
    "    \n",
    "**Total Points:** 60"
   ]
  },
  {
   "cell_type": "markdown",
   "id": "013318a6",
   "metadata": {},
   "source": [
    "# 1. Introduction <a id='1.'></a>\n",
    "In this exercise we will dive into model-based reinforcement learning. We will implement planning over several time steps. We will use the cross entropy method (CEM) to choose actions at each time step. CEM is often used in model-based reinforcement learning for choosing actions. The main working principles of CEM were explained during the lecture \"Model-based RL\". We use the simulator to simulate state transitions (another possibility would be to learn a dynamics model $s_{t+1} = f(s_t, a_t)$ to simulate state transitions if access to the system dynamics is not available).\n",
    "\n",
    "## 1.1 Learning Objectives: <a id='1.1'></a>\n",
    "- Understand how to get CEM planning working in practice\n",
    "- Understand limitations and advantages of model-based RL using CEM\n",
    "\n",
    "## 1.2 Code Structure & Files <a id='1.2'></a>\n",
    "\n",
    "You don’t have to edit any other file other than ```ex7.ipynb``` to complete this exercise.\n",
    "\n",
    "```\n",
    "├───imgs                 # Images used in notebook\n",
    "│   ex7_CEM.ipynb        # Main assignment file containing tasks <---------\n",
    "│   env.py               # Wrappers for the environment\n",
    "|   simulator.py         # Using the exact environment as the model (simulator)\n",
    "```"
   ]
  },
  {
   "cell_type": "markdown",
   "id": "5197a537",
   "metadata": {},
   "source": [
    "# 2. Cross Entropy Method (CEM) <a id='2.'></a>\n",
    "\n",
    "In this section, we will try to solve the **Cup-Catch** environment from the [DeepMind Control Suite](https://github.com/deepmind/dm_control/tree/main/dm_control/suite) by planning using CEM. \n",
    "\n",
    "In **Cup-Catch**, a ball is attached to a string which hangs from a cup. The goal is to swing the ball into the cup by moving the cup vertically up and down. The task has a sparse reward: 1 when the ball is in the cup, 0 otherwise. In order to save computation time we select an action every six time steps and use a wrapper to repeat the same action 6 times. Therefore, the maximum reward for each actual time step is 6.\n",
    "\n",
    "<br>\n",
    "\n",
    "<div style=\"text-align: center;\">\n",
    "    <img src=\"imgs/cup_catcher.png\" width=\"400px\">\n",
    "    <figcaption> Figure 1: Cup-Catch environment </figcaption>\n",
    "</div>"
   ]
  },
  {
   "cell_type": "markdown",
   "id": "3e72ec92",
   "metadata": {},
   "source": [
    "<a id='T1'></a>\n",
    "<div class=\" alert alert-warning\">\n",
    "    <h3><b>Student Task 1.</b> Implementing CEM (30 points) </h3> \n",
    "\n",
    "You need to complete the planning part in the code marked as ```TODO```. The code takes advantage of multiple processor cores by parallelizing the code. For more information about parallelizing, please check [Joblib](https://joblib.readthedocs.io/en/latest/generated/joblib.Parallel.html). <br>\n",
    "    \n",
    "**Ensure that the notebook contains the reward plot.** \n",
    "\n",
    "The reference training plot is as Figure 2:\n",
    "\n",
    "<div style=\"text-align: center;\">\n",
    "    <img src=\"imgs/cem_reward.png\">\n",
    "    <figcaption> Figure 2: Reward function at each time step in CEM </figcaption>\n",
    "</div>\n",
    "            \n",
    "🔝\t<a href='#TOC'><b>Table of Contents</b></a>\n",
    "</div>\n"
   ]
  },
  {
   "cell_type": "code",
   "execution_count": 23,
   "id": "eb546a87",
   "metadata": {
    "tags": []
   },
   "outputs": [],
   "source": [
    "from pathlib import Path # to find directory\n",
    "import sys, os\n",
    "sys.path.append(\"..\")\n",
    "\n",
    "from typing import Sequence, Tuple, Dict, Callable, List\n",
    "from functools import partial\n",
    "import copy, torch, time\n",
    "from joblib import Parallel, delayed\n",
    "import numpy as np\n",
    "\n",
    "from env import make_env\n",
    "from simulator import SimulatorWrapper\n",
    "import matplotlib.pyplot as plt"
   ]
  },
  {
   "cell_type": "code",
   "execution_count": 24,
   "id": "60671443-30df-4a7c-bffc-2e88a1fb70c7",
   "metadata": {
    "tags": []
   },
   "outputs": [],
   "source": [
    "%%capture\n",
    "!pip install mediapy # install a package required for video visualization"
   ]
  },
  {
   "cell_type": "code",
   "execution_count": 25,
   "id": "47668253",
   "metadata": {
    "tags": []
   },
   "outputs": [],
   "source": [
    "class CEM(object):\n",
    "    def __init__(\n",
    "        self, \n",
    "        model,\n",
    "        action_shape,\n",
    "        num_samples,\n",
    "        num_topk,\n",
    "        plan_horizon,\n",
    "        iteration,\n",
    "        keep_last_solution,\n",
    "        expl_noise\n",
    "    ):\n",
    "\n",
    "        self.model = model # the dynamics model\n",
    "\n",
    "        self.action_dim = action_shape[0]\n",
    "        self.num_samples = num_samples\n",
    "        self.num_topk = num_topk\n",
    "        self.plan_horizon = plan_horizon\n",
    "        self.iteration = iteration\n",
    "        self.keep_last_solution = keep_last_solution\n",
    "        self.expl_noise = expl_noise\n",
    "\n",
    "        # init simulator\n",
    "        o = self.model.reset()\n",
    "        self.model.save_checkpoint()\n",
    "        \n",
    "    def plan(self, obs, t0, eval_mode=False):\n",
    "        if obs.ndim == 1: obs = obs[None] # add batch dim\n",
    "        # initialize paramters\n",
    "        mean = np.zeros((self.plan_horizon, self.action_dim))\n",
    "        std = np.ones_like(mean)\n",
    "        # use previous plan as start point if not at the first step\n",
    "        if not t0 and hasattr(self, \"_prev_mean\"):\n",
    "            mean[:-1] = copy.copy(self._prev_mean[1:])\n",
    "\n",
    "        with Parallel(n_jobs=-1,) as parallel:  # we use joblib.Parallel to parallel the evaluation.\n",
    "            # Iterate CEM\n",
    "            for _ in range(self.iteration):\n",
    "                # TODO: Implement Cross-Entropy Method\n",
    "                \n",
    "                # Hints: \n",
    "                # 1. Generate random actions using Gaussian distribution with mean and std as parameters. \n",
    "                #    Use self.num_samples as the number of samples. Clip the samples to (-1, 1).\n",
    "                # 2. Perform Monte Carlo evaluation by computing the episode return for each sample using self.model as follows:\n",
    "                #    2.1. Use parallel(delayed(rollout_simulator)(self.model, action_sample) for each sample from 1.\n",
    "                # 3. Select top self.num_topk actions (elite actions) using episode returns from 2.1. Use numpy.argpartition.\n",
    "                # 4. Compute mean and std of elite actions and assign it to mean and std used in 1.\n",
    "                \n",
    "                ########## Your code starts here. ##########\n",
    "                # 1. Generate random actions using Gaussian distribution with mean and std as parameters. \n",
    "                #    Use self.num_samples as the number of samples. Clip the samples to (-1, 1).\n",
    "                size = (self.num_samples,self.plan_horizon,self.action_dim)\n",
    "                actions = np.random.normal(mean, std, size = size)\n",
    "                # 2. Perform Monte Carlo evaluation by computing the episode return for each sample using self.model as follows:\n",
    "                #    2.1. Use parallel(delayed(rollout_simulator)(self.model, action_sample) for each sample from 1.\n",
    "                action_values = parallel(delayed(rollout_simulator)(self.model, sample_act) for sample_act in actions)\n",
    "                # 3. Select top self.num_topk actions (elite actions) using episode returns from 2.1. Use numpy.argpartition.\n",
    "                partitioned_action = np.argpartition(action_values, -self.num_topk)\n",
    "                action_indices = partitioned_action[-self.num_topk:]\n",
    "                top_act = actions[action_indices]\n",
    "                # 4. Compute mean and std of elite actions and assign it to mean and std used in 1.\n",
    "                _mean, _std = np.mean(top_act, axis=0), np.std(top_act, axis=0)\n",
    "                mean, std = 1.0 * _mean, _std\n",
    "                ########## Your code ends here. ##########\n",
    "\n",
    "        if self.keep_last_solution:\n",
    "            self._prev_mean = mean\n",
    "\n",
    "        # select the first action in the planed horizon\n",
    "        action, std = mean[0], std[0]\n",
    "\n",
    "        if not eval_mode:\n",
    "            action += self.expl_noise * np.random.randn(action.shape)\n",
    "\n",
    "        # update the simulator state since simulator is used to do planning\n",
    "        next_obs, reward, done, info = self.model.step(action)\n",
    "        self.model.save_checkpoint()\n",
    "        \n",
    "        return action, info  \n",
    "        \n",
    "\n",
    "def rollout_simulator(model, traj):\n",
    "    model.load_checkpoint()\n",
    "\n",
    "    terminated, episode_return = False, 0\n",
    "    for act in traj:\n",
    "        obs, reward, done, _ = model.step(act)\n",
    "        reward = 0 if terminated else reward\n",
    "\n",
    "        terminated |= bool(done)\n",
    "        episode_return += reward\n",
    "        \n",
    "        if done: \n",
    "            break\n",
    "        \n",
    "    return episode_return"
   ]
  },
  {
   "cell_type": "code",
   "execution_count": 26,
   "id": "ee0dfc4a",
   "metadata": {
    "scrolled": true,
    "tags": []
   },
   "outputs": [],
   "source": [
    "# Note because of the action repeat a reward of 6 can be achieved from multiple steps being taken where the ball in the cup\n",
    "eval_env = make_env(\n",
    "    env_name='cup-catch',\n",
    "    seed=1,\n",
    "    action_repeat=6,\n",
    "    modality='pixels', \n",
    "    frame_stack=1,\n",
    "    img_size=(240, 320)\n",
    ")\n",
    "\n",
    "model_env = make_env(\n",
    "    env_name='cup-catch',\n",
    "    seed=1,\n",
    "    action_repeat=6\n",
    ")\n",
    "\n",
    "obs_shape = tuple(int(x) for x in eval_env.observation_space.shape)\n",
    "action_shape = tuple(int(x)  for x in eval_env.action_space.shape)\n",
    "\n",
    "model = SimulatorWrapper(model_env)\n",
    "\n",
    "agent = CEM(\n",
    "    model=model,\n",
    "    action_shape = action_shape,\n",
    "    num_samples=50,\n",
    "    num_topk=5,\n",
    "    plan_horizon=12,\n",
    "    iteration=5,\n",
    "    keep_last_solution=True,\n",
    "    expl_noise=0.3\n",
    ")"
   ]
  },
  {
   "cell_type": "code",
   "execution_count": 27,
   "id": "d2c5bdc7-3a44-4c6e-9f27-d9550b9cc0a8",
   "metadata": {
    "scrolled": true,
    "tags": []
   },
   "outputs": [
    {
     "name": "stdout",
     "output_type": "stream",
     "text": [
      "Timestep: 0 Reward: 0.0\n",
      "Timestep: 1 Reward: 0.0\n",
      "Timestep: 2 Reward: 0.0\n",
      "Timestep: 3 Reward: 0.0\n",
      "Timestep: 4 Reward: 0.0\n",
      "Timestep: 5 Reward: 0.0\n",
      "Timestep: 6 Reward: 6.0\n",
      "Timestep: 7 Reward: 6.0\n",
      "Timestep: 8 Reward: 6.0\n",
      "Timestep: 9 Reward: 6.0\n",
      "Timestep: 10 Reward: 6.0\n",
      "Timestep: 11 Reward: 6.0\n",
      "Timestep: 12 Reward: 6.0\n",
      "Timestep: 13 Reward: 6.0\n",
      "Timestep: 14 Reward: 6.0\n",
      "Timestep: 15 Reward: 6.0\n",
      "Timestep: 16 Reward: 6.0\n",
      "Timestep: 17 Reward: 6.0\n",
      "Timestep: 18 Reward: 6.0\n",
      "Timestep: 19 Reward: 6.0\n"
     ]
    }
   ],
   "source": [
    "obs, done, ep_reward, t = eval_env.reset(), False, 0, 0\n",
    "rewards, observations = [], []\n",
    "while not done and t < 20:\n",
    "    action, info = agent.plan(obs, eval_mode=True, t0=(t==0))\n",
    "    obs, reward, done, _ = eval_env.step(action)\n",
    "    rewards.append(reward)\n",
    "    observations.append(obs)\n",
    "    \n",
    "    print(f'Timestep: {t} Reward: {reward}')\n",
    "    ep_reward += reward\n",
    "\n",
    "    t += 1"
   ]
  },
  {
   "cell_type": "code",
   "execution_count": 28,
   "id": "b4399036-8ac8-450e-8abc-924b7cdb0d04",
   "metadata": {
    "tags": []
   },
   "outputs": [],
   "source": [
    "import mediapy \n",
    "mediapy.write_video('video.mp4', [observations[i].transpose(1, 2, 0) for i in range(len(observations))], fps=10)"
   ]
  },
  {
   "cell_type": "code",
   "execution_count": 29,
   "id": "04b4f167-2f92-4239-aca4-da38c0923882",
   "metadata": {
    "tags": []
   },
   "outputs": [
    {
     "data": {
      "text/html": [
       "<video controls  >\n",
       " <source src=\"data:video/mp4;base64,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\" type=\"video/mp4\">\n",
       " Your browser does not support the video tag.\n",
       " </video>"
      ],
      "text/plain": [
       "<IPython.core.display.Video object>"
      ]
     },
     "execution_count": 29,
     "metadata": {},
     "output_type": "execute_result"
    }
   ],
   "source": [
    "from IPython.display import Video # to display videos\n",
    "Video(Path().cwd()/'video.mp4', embed=True)"
   ]
  },
  {
   "cell_type": "code",
   "execution_count": 30,
   "id": "1aabdf29-028e-41af-b8fc-57e5eee59c08",
   "metadata": {
    "tags": []
   },
   "outputs": [
    {
     "data": {
      "image/png": "[encoded data removed]",
      "text/plain": [
       "<Figure size 600x400 with 1 Axes>"
      ]
     },
     "metadata": {},
     "output_type": "display_data"
    }
   ],
   "source": [
    "plt.figure(figsize=(6, 4))\n",
    "plt.plot(rewards, linewidth=1.2, color='b')\n",
    "plt.xticks(list(range(0, len(rewards), 2)))\n",
    "plt.xlabel('Time step', fontsize=10)\n",
    "plt.ylabel('Reward', fontsize=10)\n",
    "plt.show()"
   ]
  },
  {
   "cell_type": "markdown",
   "id": "5f76b6fa",
   "metadata": {},
   "source": [
    "<a id='Q1'></a>\n",
    "<div class=\" alert alert-warning\">\n",
    "    <h3><b>Student Question 1</b> Changing Number of Samples (5 points)</h3> \n",
    "\n",
    "Discuss the effect of changing the __number of samples__. How can this affect the performance and running time?            \n",
    "🔝\t<a href='#TOC'><b>Table of Contents</b></a>\n",
    "</div>"
   ]
  },
  {
   "cell_type": "markdown",
   "id": "9496c2df",
   "metadata": {},
   "source": [
    "Adding more samples can make each iteration take longer because there's more data to deal with for updating the model. However, this can also improve how well the model performs and possibly make it converge faster. This happens because having more samples reduces the randomness in the updates, thanks to the averaging over a bigger set of data."
   ]
  },
  {
   "cell_type": "markdown",
   "id": "0611beaf",
   "metadata": {},
   "source": [
    "<a id='Q2'></a>\n",
    "<div class=\" alert alert-warning\">\n",
    "    <h3><b>Student Question 1.2</b> Model-free vs Mode-based RL (20 points)</h3> \n",
    "\n",
    "Assume that the dynamics model $s_{t+1} = f(s_t, a_t)$ (when using a probabilistic dynamics model $P(s_{t+1}| s_t, a_t)$) and reward model $R(s_t, a_t)$ are learned from data during training. CEM with learned models can be used to solve similar tasks as model-free reinforcement learning methods such as DDPG.\n",
    "<br>\n",
    "In what kind of tasks do you expect CEM with learned models to work better than DDPG? In which kind of tasks do you expect DDPG to work better than CEM with learned models in terms of performance and training time? Why?\n",
    "<br>\n",
    "Which parts of CEM with a learned dynamics model need to be taken into account when considering computation time and why?\n",
    "    \n",
    "🔝\t<a href='#TOC'><b>Table of Contents</b></a>\n",
    "</div>"
   ]
  },
  {
   "cell_type": "markdown",
   "id": "6a3d8a7e-4bb1-463e-88ab-62270e20d05e",
   "metadata": {},
   "source": [
    "- **Advantages of CEM over Model-Free Methods (e.g., DDPG):**\n",
    "\n",
    "  1. **Data Efficiency:** CEM is often more data-efficient, particularly in scenarios where real-world models exhibit linear behavior in local proximity.\n",
    "  \n",
    "  2. **Portability:** CEM is more adaptable to other tasks that employ the same model.\n",
    "\n",
    "- **Disadvantages of CEM Compared to Model-Free Methods:**\n",
    "\n",
    "  1. **Computational Demands:** CEM can be computationally demanding as it needs to learn the entire system dynamics for the given problem.\n",
    "  \n",
    "  2. **Performance in Digital Simulation:** CEM may yield inferior performance compared to model-free methods when dealing with problems that can be simulated digitally, as its trajectory optimization is more intricate.\n",
    "\n",
    "- **Advantages of CEM with Learned Dynamics Model:**\n",
    "\n",
    "  1. **Advanced Analysis:** CEM with learned dynamics allows for more in-depth analysis, such as predicting system state behavior with unexpected inputs/actions.\n",
    "  \n",
    "  2. **Model Utilization:** The learned model can be employed in simulations for various reinforcement learning (RL) algorithms.\n",
    "\n",
    "- **Disadvantages of CEM with Learned Dynamics Model:**\n",
    "\n",
    "  1. **Model-Free Results:** For some tasks, a model-free RL algorithm may produce sufficient results with less training, as it doesn't explicitly learn the model.\n",
    "  \n",
    "  2. **Real-Time Application Challenges:** Optimal-control procedures like CEM can be too demanding for real-time applications, whereas a straightforward state-to-action run of a model-free RL algorithm may be more feasible.\n",
    "  \n",
    "When considering computation time in the context of the Cross-Entropy Method (CEM) with a learned dynamics model, a crucial aspect is the part of the environment where rewards are obtained.\n",
    "\n",
    "Environment Interaction: The computation time is significantly influenced by the process of interacting with the environment to obtain rewards. The efficiency of this interaction, including the complexity of reward calculations, directly impacts the overall performance evaluation and, consequently, the time required for simulations.\n",
    "\n",
    "Length of Action Sequences: The length of the action sequences considered during optimization affects the computation time. Longer sequences generally lead to more accurate performance estimates but may increase the time required for simulations and optimization.\n",
    "\n",
    "Complexity of the Learned Dynamics Model: The computational cost of the learned dynamics model depends on its complexity. More complex models may require more computational resources for both training and prediction.\n",
    "\n"
   ]
  },
  {
   "cell_type": "markdown",
   "id": "7e950c66-7183-4d2e-afad-76d44e87ea7e",
   "metadata": {
    "tags": []
   },
   "source": [
    "# 3. Submitting <a id='3.'></a>\n",
    "Ensure all tasks and questions (in ```ex7_MCTS.ipynb```) are answered and the relevant plots are recorded in the relevant places. "
   ]
  },
  {
   "cell_type": "markdown",
   "id": "b3e25649-58a0-448c-9fbc-7e055b20bc84",
   "metadata": {},
   "source": [
    "## 3.1 Feedback <a id='3.1'></a>\n",
    "\n",
    "In order to help the staff of the course as well as the forthcoming students, it would be great if you could answer to the following questions in your submission:"
   ]
  },
  {
   "cell_type": "markdown",
   "id": "d7eb0232-db2a-4e14-b075-9ef187b43b4b",
   "metadata": {},
   "source": [
    "1) How much time did you spend solving this exercise? (change the ```hrs``` variable below to a floating point number representing the number of hours taken e.g. 5.43)\n"
   ]
  },
  {
   "cell_type": "code",
   "execution_count": null,
   "id": "eac81f90-8902-4ed9-922b-b8ded5327c8f",
   "metadata": {},
   "outputs": [],
   "source": [
    "hrs = None"
   ]
  },
  {
   "cell_type": "markdown",
   "id": "52473cec-5ab3-439f-97ee-85c8796ec469",
   "metadata": {},
   "source": [
    "2) Difficulty of each task/question from 1-5 (int or float)"
   ]
  },
  {
   "cell_type": "code",
   "execution_count": null,
   "id": "d71b2268-cbe3-4df8-a6d0-665aa425f738",
   "metadata": {},
   "outputs": [],
   "source": [
    "T1 = None # Student Task 1. Implementing CEM\n",
    "Q1 = None # Question 1.1: Number of samples\n",
    "Q2 = None # Question 2.1: Model-free vs Model-based"
   ]
  },
  {
   "cell_type": "markdown",
   "id": "52f3e791-b9fc-479c-871d-df4c85ab7dce",
   "metadata": {},
   "source": [
    "3) How well did you understand the content of the task/question from 1-5? (int or float)\n"
   ]
  },
  {
   "cell_type": "code",
   "execution_count": null,
   "id": "62c8c9dd-26cb-4188-90e1-b7fad675da51",
   "metadata": {},
   "outputs": [],
   "source": [
    "T1 = None # Student Task 1. Implementing CEM\n",
    "Q1 = None # Question 1.1: Number of samples\n",
    "Q2 = None # Question 2.1: Model-free vs Model-based"
   ]
  },
  {
   "cell_type": "markdown",
   "id": "3f11c47c-3716-4642-adc5-c4569ac5fd8f",
   "metadata": {},
   "source": [
    "4) General feedback. Consider questions like:\n",
    "\n",
    "    - Did the content of the lecture relate well with the assignment?\n",
    "    - To what extent did you find the material to be potentially useful for your research and studies?\n",
    "    \n",
    "And other feedback you think is worth including. Type in the box below"
   ]
  },
  {
   "cell_type": "markdown",
   "id": "8f9fd0e4-b0fe-4b59-8c8a-c0a51c24d5fe",
   "metadata": {
    "tags": []
   },
   "source": [
    "Please use the following section to record references.\n",
    "# References <a id='4.'></a>\n",
    "\n"
   ]
  },
  {
   "cell_type": "markdown",
   "id": "2552605a-ecef-401e-ae00-7a7009725bd4",
   "metadata": {},
   "source": []
  },
  {
   "cell_type": "markdown",
   "id": "8cb61e66",
   "metadata": {},
   "source": [
    "## 3.1 Feedback <a id='3.1'></a>\n",
    "In order to help the staff of the course as well as the forthcoming students, it would be great if you could\n",
    "answer feedback questionnaire in ```feedback.ipynb```"
   ]
  }
 ],
 "metadata": {
  "kernelspec": {
   "display_name": "Python 3",
   "language": "python",
   "name": "python3"
  },
  "language_info": {
   "codemirror_mode": {
    "name": "ipython",
    "version": 3
   },
   "file_extension": ".py",
   "mimetype": "text/x-python",
   "name": "python",
   "nbconvert_exporter": "python",
   "pygments_lexer": "ipython3",
   "version": "3.10.8"
  }
 },
 "nbformat": 4,
 "nbformat_minor": 5
}
